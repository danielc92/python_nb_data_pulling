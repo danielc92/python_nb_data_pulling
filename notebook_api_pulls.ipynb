{
 "cells": [
  {
   "cell_type": "markdown",
   "metadata": {},
   "source": [
    "# API Pulls"
   ]
  },
  {
   "cell_type": "code",
   "execution_count": 1,
   "metadata": {},
   "outputs": [],
   "source": [
    "import requests"
   ]
  },
  {
   "cell_type": "code",
   "execution_count": 2,
   "metadata": {},
   "outputs": [],
   "source": [
    "link = \"http://www.recipepuppy.com/api/?i=tomato,egg\""
   ]
  },
  {
   "cell_type": "code",
   "execution_count": 3,
   "metadata": {},
   "outputs": [],
   "source": [
    "req = requests.get(link)"
   ]
  },
  {
   "cell_type": "code",
   "execution_count": 4,
   "metadata": {},
   "outputs": [
    {
     "data": {
      "text/plain": [
       "200"
      ]
     },
     "execution_count": 4,
     "metadata": {},
     "output_type": "execute_result"
    }
   ],
   "source": [
    "req.status_code"
   ]
  },
  {
   "cell_type": "code",
   "execution_count": 5,
   "metadata": {},
   "outputs": [],
   "source": [
    "json_object = req.json()"
   ]
  },
  {
   "cell_type": "code",
   "execution_count": 6,
   "metadata": {},
   "outputs": [
    {
     "data": {
      "text/plain": [
       "{'title': 'Recipe Puppy',\n",
       " 'version': 0.1,\n",
       " 'href': 'http://www.recipepuppy.com/',\n",
       " 'results': [{'title': 'Nopales Con Huevos (cactus with Eggs)',\n",
       "   'href': 'http://www.bigoven.com/116145-Nopales-Con-Huevos-(cactus-with-Eggs)-recipe.html',\n",
       "   'ingredients': 'vegetable oil, tomato, garlic, onions, serrano pepper, salt, egg, egg whites',\n",
       "   'thumbnail': 'http://img.recipepuppy.com/521717.jpg'},\n",
       "  {'title': '\\nGround Veal In Acorn Squash Recipe\\n\\n',\n",
       "   'href': 'http://cookeatshare.com/recipes/ground-veal-in-acorn-squash-26579',\n",
       "   'ingredients': 'veal, bread crumbs, onions, yellow squash, egg, green pepper, salt, tomato',\n",
       "   'thumbnail': 'http://img.recipepuppy.com/862241.jpg'},\n",
       "  {'title': 'Béchemella',\n",
       "   'href': 'http://www.nibbledish.com/people/dshafik/recipes/bchemella',\n",
       "   'ingredients': 'ground beef, penne, tomato, onions, spices, milk, egg, mustard, flour, butter',\n",
       "   'thumbnail': 'http://img.recipepuppy.com/535167.jpg'},\n",
       "  {'title': 'Tomato, Basil, Cheese Tart',\n",
       "   'href': 'http://www.cooks.com/rec/view/0,1626,152175-253199,00.html',\n",
       "   'ingredients': 'ricotta cheese, parmesan cheese, basil, whole milk, egg, tomato, tomato, tomato',\n",
       "   'thumbnail': ''},\n",
       "  {'title': 'Scrambled Egg Burritos',\n",
       "   'href': 'http://find.myrecipes.com/recipes/recipefinder.dyn?action=displayRecipe&recipe_id=1173705',\n",
       "   'ingredients': 'egg, milk, cilantro, kosher salt, black pepper, nonstick cooking spray, butter, cheddar cheese, flour tortillas, tomato, salsa',\n",
       "   'thumbnail': 'http://img.recipepuppy.com/521805.jpg'},\n",
       "  {'title': 'Oven-Baked Tomato And Chive Omelet',\n",
       "   'href': 'http://recipe.aol.com/recipe/oven-baked-tomato-and-chive-omelet/136107',\n",
       "   'ingredients': 'egg, milk, chives, salt, margarine, tomato',\n",
       "   'thumbnail': ''},\n",
       "  {'title': 'Wild Rice Frittata',\n",
       "   'href': 'http://www.bigoven.com/13722-Wild-Rice-Frittata-recipe.html',\n",
       "   'ingredients': 'egg, milk, green onion, butter, monterey jack cheese, tomato',\n",
       "   'thumbnail': ''},\n",
       "  {'title': 'Bread and Butter Savoury',\n",
       "   'href': 'http://www.bigoven.com/44037-Bread-and-Butter-Savoury-recipe.html',\n",
       "   'ingredients': 'bread, onions, cheese, egg, tomato, salt',\n",
       "   'thumbnail': ''},\n",
       "  {'title': 'Eggs With Tomatoes Mid-East Style',\n",
       "   'href': 'http://www.cooks.com/rec/view/0,1926,159181-251192,00.html',\n",
       "   'ingredients': 'garlic, egg, onions, parsley, butter, tomato',\n",
       "   'thumbnail': ''},\n",
       "  {'title': 'Poached Egg Brioche',\n",
       "   'href': 'http://www.epicurious.com/recipes/food/views/Poached-Egg-Brioche-234242',\n",
       "   'ingredients': 'cheddar cheese, egg, paprika, swiss cheese, canadian bacon, red onions, tomato',\n",
       "   'thumbnail': ''}]}"
      ]
     },
     "execution_count": 6,
     "metadata": {},
     "output_type": "execute_result"
    }
   ],
   "source": [
    "json_object"
   ]
  },
  {
   "cell_type": "code",
   "execution_count": 7,
   "metadata": {},
   "outputs": [],
   "source": [
    "recipe_list = json_object[\"results\"]"
   ]
  },
  {
   "cell_type": "code",
   "execution_count": 8,
   "metadata": {},
   "outputs": [
    {
     "data": {
      "text/plain": [
       "[{'title': 'Nopales Con Huevos (cactus with Eggs)',\n",
       "  'href': 'http://www.bigoven.com/116145-Nopales-Con-Huevos-(cactus-with-Eggs)-recipe.html',\n",
       "  'ingredients': 'vegetable oil, tomato, garlic, onions, serrano pepper, salt, egg, egg whites',\n",
       "  'thumbnail': 'http://img.recipepuppy.com/521717.jpg'},\n",
       " {'title': '\\nGround Veal In Acorn Squash Recipe\\n\\n',\n",
       "  'href': 'http://cookeatshare.com/recipes/ground-veal-in-acorn-squash-26579',\n",
       "  'ingredients': 'veal, bread crumbs, onions, yellow squash, egg, green pepper, salt, tomato',\n",
       "  'thumbnail': 'http://img.recipepuppy.com/862241.jpg'},\n",
       " {'title': 'Béchemella',\n",
       "  'href': 'http://www.nibbledish.com/people/dshafik/recipes/bchemella',\n",
       "  'ingredients': 'ground beef, penne, tomato, onions, spices, milk, egg, mustard, flour, butter',\n",
       "  'thumbnail': 'http://img.recipepuppy.com/535167.jpg'},\n",
       " {'title': 'Tomato, Basil, Cheese Tart',\n",
       "  'href': 'http://www.cooks.com/rec/view/0,1626,152175-253199,00.html',\n",
       "  'ingredients': 'ricotta cheese, parmesan cheese, basil, whole milk, egg, tomato, tomato, tomato',\n",
       "  'thumbnail': ''},\n",
       " {'title': 'Scrambled Egg Burritos',\n",
       "  'href': 'http://find.myrecipes.com/recipes/recipefinder.dyn?action=displayRecipe&recipe_id=1173705',\n",
       "  'ingredients': 'egg, milk, cilantro, kosher salt, black pepper, nonstick cooking spray, butter, cheddar cheese, flour tortillas, tomato, salsa',\n",
       "  'thumbnail': 'http://img.recipepuppy.com/521805.jpg'},\n",
       " {'title': 'Oven-Baked Tomato And Chive Omelet',\n",
       "  'href': 'http://recipe.aol.com/recipe/oven-baked-tomato-and-chive-omelet/136107',\n",
       "  'ingredients': 'egg, milk, chives, salt, margarine, tomato',\n",
       "  'thumbnail': ''},\n",
       " {'title': 'Wild Rice Frittata',\n",
       "  'href': 'http://www.bigoven.com/13722-Wild-Rice-Frittata-recipe.html',\n",
       "  'ingredients': 'egg, milk, green onion, butter, monterey jack cheese, tomato',\n",
       "  'thumbnail': ''},\n",
       " {'title': 'Bread and Butter Savoury',\n",
       "  'href': 'http://www.bigoven.com/44037-Bread-and-Butter-Savoury-recipe.html',\n",
       "  'ingredients': 'bread, onions, cheese, egg, tomato, salt',\n",
       "  'thumbnail': ''},\n",
       " {'title': 'Eggs With Tomatoes Mid-East Style',\n",
       "  'href': 'http://www.cooks.com/rec/view/0,1926,159181-251192,00.html',\n",
       "  'ingredients': 'garlic, egg, onions, parsley, butter, tomato',\n",
       "  'thumbnail': ''},\n",
       " {'title': 'Poached Egg Brioche',\n",
       "  'href': 'http://www.epicurious.com/recipes/food/views/Poached-Egg-Brioche-234242',\n",
       "  'ingredients': 'cheddar cheese, egg, paprika, swiss cheese, canadian bacon, red onions, tomato',\n",
       "  'thumbnail': ''}]"
      ]
     },
     "execution_count": 8,
     "metadata": {},
     "output_type": "execute_result"
    }
   ],
   "source": [
    "recipe_list"
   ]
  },
  {
   "cell_type": "code",
   "execution_count": 10,
   "metadata": {},
   "outputs": [
    {
     "name": "stdout",
     "output_type": "stream",
     "text": [
      "error encountered while attempting download.\n",
      "error encountered while attempting download.\n",
      "error encountered while attempting download.\n",
      "error encountered while attempting download.\n",
      "error encountered while attempting download.\n",
      "error encountered while attempting download.\n"
     ]
    }
   ],
   "source": [
    "for recipe in recipe_list:\n",
    "    link = recipe[\"thumbnail\"]\n",
    "    title = recipe[\"title\"].lower().strip()\n",
    "    try:\n",
    "        r = requests.get(link, allow_redirects = True)\n",
    "        open(\"/users/danielcorcoran/desktop/images/\" + title + \".jpg\", 'wb').write(r.content)\n",
    "    except:\n",
    "        print(\"error encountered while attempting download.\")"
   ]
  },
  {
   "cell_type": "code",
   "execution_count": 26,
   "metadata": {},
   "outputs": [],
   "source": [
    "link = \"https://icanhazdadjoke.com/j\""
   ]
  },
  {
   "cell_type": "code",
   "execution_count": 27,
   "metadata": {},
   "outputs": [],
   "source": [
    "req = requests.get(link)"
   ]
  },
  {
   "cell_type": "code",
   "execution_count": 28,
   "metadata": {},
   "outputs": [
    {
     "data": {
      "text/plain": [
       "404"
      ]
     },
     "execution_count": 28,
     "metadata": {},
     "output_type": "execute_result"
    }
   ],
   "source": [
    "req.status_code"
   ]
  },
  {
   "cell_type": "code",
   "execution_count": 29,
   "metadata": {},
   "outputs": [
    {
     "data": {
      "text/plain": [
       "'<!DOCTYPE html>\\n<html lang=\"en\">\\n<head>\\n<meta charset=\"utf-8\">\\n<meta http-equiv=\"X-UA-Compatible\" content=\"IE=edge\">\\n<meta name=\"viewport\" content=\"width=device-width, initial-scale=1\">\\n<meta name=\"description\" content=\"The largest collection of dad jokes on the internet\" />\\n<meta name=\"author\" content=\"Brett Langdon\" />\\n<meta name=\"keywords\" content=\"dad,joke,funny,slack,alexa\" />\\n<meta property=\"og:site_name\" content=\"icanhazdadjoke\" />\\n<meta property=\"og:title\" content=\"icanhazdadjoke\" />\\n<meta property=\"og:type\" content=\"website\" />\\n<meta property=\"og:image:url\" content=\"https://icanhazdadjoke.com/static/smile.png\" />\\n<meta property=\"og:image:secure_url\" content=\"https://icanhazdadjoke.com/static/smile.png\" />\\n<meta property=\"og:image:type\" content=\"image/png\" />\\n<meta property=\"og:image:width\" content=\"36\" />\\n<meta property=\"og:image:height\" content=\"36\" />\\n<title>icanhazdadjoke</title>\\n<link rel=\"apple-touch-icon\" sizes=\"180x180\" href=\"/static/apple-touch-icon.png\">\\n<link rel=\"icon\" type=\"image/png\" href=\"/static/favicon-32x32.png\" sizes=\"32x32\">\\n<link rel=\"icon\" type=\"image/png\" href=\"/static/favicon-16x16.png\" sizes=\"16x16\">\\n<link rel=\"manifest\" href=\"/static/manifest.json\">\\n<link rel=\"mask-icon\" href=\"/static/safari-pinned-tab.svg\" color=\"#1fc8db\">\\n<link rel=\"shortcut icon\" href=\"/static/favicon.ico\">\\n<meta name=\"msapplication-config\" content=\"/static/browserconfig.xml\">\\n<meta name=\"theme-color\" content=\"#ffffff\">\\n<link rel=\"stylesheet\" href=\"/static/dist/style.css?55f4ea12\">\\n<script type=\"application/ld+json\">\\n      {\\n        \"@context\": \"http://schema.org\",\\n        \"@type\": \"WebSite\",\\n        \"url\": \"https://icanhazdadjoke.com/\",\\n        \"name\": \"icanhazdadjoke\",\\n        \"description\": \"The largest collection of dad jokes on the internet\",\\n        \"potentialAction\": {\\n          \"@type\": \"SearchAction\",\\n          \"target\": \"https://icanhazdadjoke.com/search?term={search_term_string}\",\\n          \"query-input\": \"required name=search_term_string\"\\n        }\\n      }\\n    </script>\\n<script type=\"application/ld+json\">\\n      {\\n        \"@context\": \"http://schema.org\",\\n        \"@type\": \"Organization\",\\n        \"url\": \"https://icanhazdadjoke.com/\",\\n        \"logo\": \"https://icanhazdadjoke.com/static/smile.png\",\\n        \"name\": \"icanhazdadjoke\",\\n        \"description\": \"The largest collection of dad jokes on the internet\",\\n        \"email\": \"support@icanhazdadjoke.com\"\\n      }\\n    </script>\\n<script async src=\"//pagead2.googlesyndication.com/pagead/js/adsbygoogle.js\"></script>\\n<script>\\n      (adsbygoogle = window.adsbygoogle || []).push({google_ad_client: \"ca-pub-3200991035275362\", enable_page_level_ads: true});\\n    </script>\\n</head>\\n<body>\\n<nav class=\"nav has-shadow\">\\n<div class=\"container\">\\n<div class=\"nav-left\">\\n<a class=\"nav-item is-brand\" href=\"/\">\\n<img src=\"/static/smile.svg\" alt=\"icanhazdadjoke logo\" />\\n<span class=\"subtitle pushhalf--left\">\\nicanhazdadjoke\\n</span>\\n</a>\\n</div>\\n<span id=\"nav-toggle\" class=\"nav-toggle\">\\n<span></span>\\n<span></span>\\n<span></span>\\n</span>\\n<div id=\"nav-menu\" class=\"nav-right nav-menu\">\\n<a class=\"nav-item is-tab\" href=\"/\">\\n<span class=\"icon is-small\">\\n<i class=\"fa fa-random\"></i>\\n</span>\\n<span class=\"pushquarter--left\">\\nRandom joke\\n</span>\\n</a>\\n<a class=\"nav-item is-tab\" href=\"/search\">\\n<span class=\"icon is-small\">\\n<i class=\"fa fa-search\"></i>\\n</span>\\n<span class=\"pushquarter--left\">\\nSearch jokes\\n</span>\\n</a>\\n<a class=\"nav-item is-tab\" href=\"/submit\">\\n<span class=\"icon is-small\">\\n<i class=\"fa fa-pencil-square-o\"></i>\\n</span>\\n<span class=\"pushquarter--left\">\\nSubmit new joke\\n</span>\\n</a>\\n<div class=\"nav-item\">\\n<a href=\"/slack-add\" style=\"height:40px; max-width:139px\">\\n<img alt=\"Add to Slack\" height=\"40\" width=\"139\" src=\"https://platform.slack-edge.com/img/add_to_slack.png\" style=\"width:139px; height:40px; max-height: 40px\" srcset=\"https://platform.slack-edge.com/img/add_to_slack.png 1x, https://platform.slack-edge.com/img/add_to_slack@2x.png 2x\" />\\n</a>\\n</div>\\n<div class=\"nav-item\">\\n<a class=\"button\" target=\"_blank\" href=\"https://www.amazon.com/Brett-Langdon-icanhazdadjoke/dp/B01N6CQ3NZ/\" style=\"background-color: #ffffff; color: #5ebfe4; border-radius: 6px; font-weight: 500; height:40px; width:139px; max-width:139px\">\\n<img src=\"/static/alexa-logo.png\" style=\"margin-left: -0.5em;\">\\nAdd to <strong style=\"margin-left: 0.25em\">Alexa</strong>\\n</a>\\n</div>\\n</div>\\n</div>\\n</nav>\\n<section class=\"section\">\\n<div class=\"container\">\\n<div class=\"notification\">\\nThe requested URL was not found on the server. If you entered the URL manually please check your spelling and try again.\\n</div>\\n<div class=\"content\">\\n<a class=\"button\" href=\"/\">\\n<span class=\"icon is-small\">\\n<i class=\"fa fa-home\"></i>\\n</span>\\n<span>Back home</span>\\n</a>\\n</div>\\n<div class=\"content pushwhole--top\">\\n<ins class=\"adsbygoogle\" style=\"display:block\" data-ad-client=\"ca-pub-3200991035275362\" data-ad-slot=\"5324903139\" data-ad-format=\"auto\"></ins>\\n</div>\\n<script>\\n          (adsbygoogle = window.adsbygoogle || []).push({});\\n        </script>\\n</div>\\n</section>\\n<footer class=\"footer\">\\n<div class=\"container\">\\n<div class=\"columns\">\\n<div class=\"column is-5\">\\n<div class=\"content\">\\n<p>\\n<strong>icanhazdadjoke.com</strong> by <a href=\"https://brett.is/\">Brett Langdon</a>.\\n</p>\\n<p>\\n<i>icanhazdadjoke.com</i> is the largest selection of dad jokes on the internet.\\nNow supporting many different integrations to ensure you can access the dad jokes that you need wherever you are.\\n</p>\\n</div>\\n</div>\\n<div class=\"column is-3\"></div>\\n<div class=\"column is-2\">\\n<aside class=\"menu\">\\n<ul class=\"menu-list\">\\n<li><a href=\"/cdn-cgi/l/email-protection#2c5f595c5c435e586c454f4d42444d56484d4846434749024f4341\" target=\"_blank\">Contact</a></li>\\n<li><a href=\"https://twitter.com/icanhazdadjoke\" target=\"_blank\">Twitter</a></li>\\n<li><a href=\"https://slack.com/apps/A214NCJF2-icanhazdadjoke\" target=\"_blank\">Slack app</a></li>\\n<li><a href=\"https://www.amazon.com/Brett-Langdon-icanhazdadjoke/dp/B01N6CQ3NZ/\" target=\"_blank\">Alexa skill</a></li>\\n<li><a href=\"https://marketplace.atlassian.com/plugins/com.icanhazdadjoke/cloud/overview\" target=\"_blank\">HipChat plugin</a></li>\\n<li><a href=\"https://twistapp.com/integrations/install/20_901fa9d3df5b8784d3ddc56e\" target=\"_blank\">Twist integration</a></li>\\n</ul>\\n</aside>\\n</div>\\n<div class=\"column is-2\">\\n<aside class=\"menu\">\\n<ul class=\"menu-list\">\\n<li><a href=\"/about\">About</a></li>\\n<li><a href=\"/api\">API</a></li>\\n<li><a href=\"/\">Random joke</a></li>\\n<li><a href=\"/search\">Search jokes</a></li>\\n<li><a href=\"/submit\">Submit new joke</a></li>\\n</ul>\\n</aside>\\n</div>\\n</div>\\n</div>\\n</footer>\\n<script data-cfasync=\"false\" src=\"/cdn-cgi/scripts/f2bf09f8/cloudflare-static/email-decode.min.js\"></script><script>\\n        (function(i,s,o,g,r,a,m){i[\\'GoogleAnalyticsObject\\']=r;i[r]=i[r]||function(){\\n        (i[r].q=i[r].q||[]).push(arguments)},i[r].l=1*new Date();a=s.createElement(o),\\n        m=s.getElementsByTagName(o)[0];a.async=1;a.src=g;m.parentNode.insertBefore(a,m)\\n        })(window,document,\\'script\\',\\'https://www.google-analytics.com/analytics.js\\',\\'ga\\');\\n\\n        ga(\\'create\\', \\'UA-82372853-1\\', \\'auto\\');\\n        ga(\\'send\\', \\'pageview\\');\\n        </script>\\n<script>\\n      document.addEventListener(\\'click\\', function (evt) {\\n        if (evt.target.id === \\'nav-toggle\\' || evt.target.parent.id === \\'nav-toggle\\') {\\n          document.getElementById(\\'nav-menu\\').classList.toggle(\\'is-active\\');\\n        }\\n      });\\n    </script>\\n\\n<script type=\"text/javascript\">\\n      /* <![CDATA[ */\\n      var google_conversion_id = 855658655;\\n      var google_conversion_language = \"en\";\\n      var google_conversion_format = \"3\";\\n      var google_conversion_color = \"ffffff\";\\n      var google_conversion_label = \"gdOKCMjzmHAQn6GBmAM\";\\n      var google_remarketing_only = false;\\n      /* ]]> */\\n    </script>\\n<script type=\"text/javascript\" src=\"//www.googleadservices.com/pagead/conversion.js\"></script>\\n<noscript>\\n      <div style=\"display:inline;\">\\n        <img height=\"1\" width=\"1\" style=\"border-style:none;\" alt=\"\" src=\"//www.googleadservices.com/pagead/conversion/855658655/?label=gdOKCMjzmHAQn6GBmAM&amp;guid=ON&amp;script=0\"/>\\n      </div>\\n    </noscript>\\n</body>\\n</html>'"
      ]
     },
     "execution_count": 29,
     "metadata": {},
     "output_type": "execute_result"
    }
   ],
   "source": [
    "req.text\n"
   ]
  },
  {
   "cell_type": "code",
   "execution_count": null,
   "metadata": {},
   "outputs": [],
   "source": [
    "js"
   ]
  },
  {
   "cell_type": "code",
   "execution_count": null,
   "metadata": {},
   "outputs": [],
   "source": []
  }
 ],
 "metadata": {
  "kernelspec": {
   "display_name": "Python 3",
   "language": "python",
   "name": "python3"
  },
  "language_info": {
   "codemirror_mode": {
    "name": "ipython",
    "version": 3
   },
   "file_extension": ".py",
   "mimetype": "text/x-python",
   "name": "python",
   "nbconvert_exporter": "python",
   "pygments_lexer": "ipython3",
   "version": "3.6.5"
  },
  "toc": {
   "base_numbering": 1,
   "nav_menu": {},
   "number_sections": true,
   "sideBar": true,
   "skip_h1_title": false,
   "title_cell": "Table of Contents",
   "title_sidebar": "Contents",
   "toc_cell": false,
   "toc_position": {},
   "toc_section_display": true,
   "toc_window_display": false
  },
  "varInspector": {
   "cols": {
    "lenName": 16,
    "lenType": 16,
    "lenVar": 40
   },
   "kernels_config": {
    "python": {
     "delete_cmd_postfix": "",
     "delete_cmd_prefix": "del ",
     "library": "var_list.py",
     "varRefreshCmd": "print(var_dic_list())"
    },
    "r": {
     "delete_cmd_postfix": ") ",
     "delete_cmd_prefix": "rm(",
     "library": "var_list.r",
     "varRefreshCmd": "cat(var_dic_list()) "
    }
   },
   "types_to_exclude": [
    "module",
    "function",
    "builtin_function_or_method",
    "instance",
    "_Feature"
   ],
   "window_display": false
  }
 },
 "nbformat": 4,
 "nbformat_minor": 2
}
