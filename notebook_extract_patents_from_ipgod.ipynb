{
 "cells": [
  {
   "cell_type": "markdown",
   "metadata": {},
   "source": [
    "## Import Modules"
   ]
  },
  {
   "cell_type": "code",
   "execution_count": null,
   "metadata": {},
   "outputs": [],
   "source": [
    "import pandas\n",
    "import numpy as np"
   ]
  },
  {
   "cell_type": "markdown",
   "metadata": {},
   "source": [
    "## Import Data"
   ]
  },
  {
   "cell_type": "code",
   "execution_count": 2,
   "metadata": {},
   "outputs": [],
   "source": [
    "data1 = pandas.read_csv(\"C://Users/admin-vicvphq/Desktop/testing/ipgod101.csv\", low_memory = False)"
   ]
  },
  {
   "cell_type": "code",
   "execution_count": 3,
   "metadata": {},
   "outputs": [],
   "source": [
    "data2_part1 = pandas.read_csv(\"C://Users/admin-vicvphq/Desktop/testing/ipgod102_part1.csv\", low_memory = False)"
   ]
  },
  {
   "cell_type": "code",
   "execution_count": 4,
   "metadata": {},
   "outputs": [],
   "source": [
    "data2_part2 = pandas.read_csv(\"C://Users/admin-vicvphq/Desktop/testing/ipgod102_part2.csv\", low_memory = False)"
   ]
  },
  {
   "cell_type": "markdown",
   "metadata": {},
   "source": [
    "## Union data2 into one dataframe"
   ]
  },
  {
   "cell_type": "code",
   "execution_count": 5,
   "metadata": {},
   "outputs": [],
   "source": [
    "data2 = pandas.concat([data2_part1, data2_part2], axis = 0)"
   ]
  },
  {
   "cell_type": "markdown",
   "metadata": {},
   "source": [
    "## Check Data "
   ]
  },
  {
   "cell_type": "code",
   "execution_count": 6,
   "metadata": {},
   "outputs": [
    {
     "name": "stdout",
     "output_type": "stream",
     "text": [
      "<class 'pandas.core.frame.DataFrame'>\n",
      "RangeIndex: 1381534 entries, 0 to 1381533\n",
      "Data columns (total 12 columns):\n",
      "australian_appl_no        1381534 non-null object\n",
      "application_year          1381534 non-null int64\n",
      "sealing_year              1381527 non-null float64\n",
      "patent_type               1381534 non-null object\n",
      "patent_status_type        972381 non-null object\n",
      "country                   938216 non-null object\n",
      "australian                268134 non-null float64\n",
      "sealing_date              1381527 non-null object\n",
      "primary_ipc_mark_value    849317 non-null object\n",
      "entity                    752815 non-null float64\n",
      "big                       31194 non-null float64\n",
      "applicant_no              1381534 non-null int64\n",
      "dtypes: float64(4), int64(2), object(6)\n",
      "memory usage: 94.9+ MB\n"
     ]
    }
   ],
   "source": [
    "data1.info()"
   ]
  },
  {
   "cell_type": "code",
   "execution_count": 7,
   "metadata": {},
   "outputs": [
    {
     "name": "stdout",
     "output_type": "stream",
     "text": [
      "<class 'pandas.core.frame.DataFrame'>\n",
      "Int64Index: 1041145 entries, 0 to 516146\n",
      "Data columns (total 25 columns):\n",
      "ipa_applt_id          1041145 non-null int64\n",
      "australian_appl_no    1041145 non-null object\n",
      "appln_type            1041145 non-null object\n",
      "name                  1041141 non-null object\n",
      "cleanname             1041141 non-null object\n",
      "country               1041141 non-null object\n",
      "australian            301518 non-null float64\n",
      "entity                806061 non-null float64\n",
      "ipa_id                1040415 non-null float64\n",
      "abn                   116639 non-null float64\n",
      "acn                   115536 non-null float64\n",
      "source                132897 non-null object\n",
      "big                   32775 non-null float64\n",
      "ultimate              17235 non-null float64\n",
      "lat                   276002 non-null float64\n",
      "lon                   276002 non-null float64\n",
      "qg                    301518 non-null float64\n",
      "state                 301114 non-null object\n",
      "postcode              297944 non-null float64\n",
      "patstat_appln_id      572056 non-null float64\n",
      "applicant_type        1041145 non-null object\n",
      "sa2_main11            275080 non-null float64\n",
      "sa2_name11            275080 non-null object\n",
      "gcc_code11            275080 non-null object\n",
      "gcc_name11            275080 non-null object\n",
      "dtypes: float64(13), int64(1), object(11)\n",
      "memory usage: 162.8+ MB\n"
     ]
    }
   ],
   "source": [
    "data2.info()"
   ]
  },
  {
   "cell_type": "code",
   "execution_count": 8,
   "metadata": {},
   "outputs": [
    {
     "data": {
      "text/html": [
       "<div>\n",
       "<style scoped>\n",
       "    .dataframe tbody tr th:only-of-type {\n",
       "        vertical-align: middle;\n",
       "    }\n",
       "\n",
       "    .dataframe tbody tr th {\n",
       "        vertical-align: top;\n",
       "    }\n",
       "\n",
       "    .dataframe thead th {\n",
       "        text-align: right;\n",
       "    }\n",
       "</style>\n",
       "<table border=\"1\" class=\"dataframe\">\n",
       "  <thead>\n",
       "    <tr style=\"text-align: right;\">\n",
       "      <th></th>\n",
       "      <th>application_year</th>\n",
       "      <th>sealing_year</th>\n",
       "      <th>australian</th>\n",
       "      <th>entity</th>\n",
       "      <th>big</th>\n",
       "      <th>applicant_no</th>\n",
       "    </tr>\n",
       "  </thead>\n",
       "  <tbody>\n",
       "    <tr>\n",
       "      <th>count</th>\n",
       "      <td>1.381534e+06</td>\n",
       "      <td>1.381527e+06</td>\n",
       "      <td>268134.000000</td>\n",
       "      <td>752815.000000</td>\n",
       "      <td>31194.000000</td>\n",
       "      <td>1.381534e+06</td>\n",
       "    </tr>\n",
       "    <tr>\n",
       "      <th>mean</th>\n",
       "      <td>2.283254e+03</td>\n",
       "      <td>7.297736e+03</td>\n",
       "      <td>1.045753</td>\n",
       "      <td>1.037900</td>\n",
       "      <td>3.009842</td>\n",
       "      <td>1.074785e+00</td>\n",
       "    </tr>\n",
       "    <tr>\n",
       "      <th>std</th>\n",
       "      <td>1.509252e+03</td>\n",
       "      <td>3.782131e+03</td>\n",
       "      <td>0.425347</td>\n",
       "      <td>0.387512</td>\n",
       "      <td>3.319992</td>\n",
       "      <td>3.447780e-01</td>\n",
       "    </tr>\n",
       "    <tr>\n",
       "      <th>min</th>\n",
       "      <td>1.900000e+03</td>\n",
       "      <td>1.967000e+03</td>\n",
       "      <td>1.000000</td>\n",
       "      <td>1.000000</td>\n",
       "      <td>0.000000</td>\n",
       "      <td>1.000000e+00</td>\n",
       "    </tr>\n",
       "    <tr>\n",
       "      <th>25%</th>\n",
       "      <td>1.975000e+03</td>\n",
       "      <td>2.011000e+03</td>\n",
       "      <td>1.000000</td>\n",
       "      <td>1.000000</td>\n",
       "      <td>1.000000</td>\n",
       "      <td>1.000000e+00</td>\n",
       "    </tr>\n",
       "    <tr>\n",
       "      <th>50%</th>\n",
       "      <td>1.996000e+03</td>\n",
       "      <td>9.999000e+03</td>\n",
       "      <td>1.000000</td>\n",
       "      <td>1.000000</td>\n",
       "      <td>3.000000</td>\n",
       "      <td>1.000000e+00</td>\n",
       "    </tr>\n",
       "    <tr>\n",
       "      <th>75%</th>\n",
       "      <td>2.008000e+03</td>\n",
       "      <td>9.999000e+03</td>\n",
       "      <td>1.000000</td>\n",
       "      <td>1.000000</td>\n",
       "      <td>3.000000</td>\n",
       "      <td>1.000000e+00</td>\n",
       "    </tr>\n",
       "    <tr>\n",
       "      <th>max</th>\n",
       "      <td>9.999000e+03</td>\n",
       "      <td>9.999000e+03</td>\n",
       "      <td>5.000000</td>\n",
       "      <td>5.000000</td>\n",
       "      <td>44.000000</td>\n",
       "      <td>2.300000e+01</td>\n",
       "    </tr>\n",
       "  </tbody>\n",
       "</table>\n",
       "</div>"
      ],
      "text/plain": [
       "       application_year  sealing_year     australian         entity  \\\n",
       "count      1.381534e+06  1.381527e+06  268134.000000  752815.000000   \n",
       "mean       2.283254e+03  7.297736e+03       1.045753       1.037900   \n",
       "std        1.509252e+03  3.782131e+03       0.425347       0.387512   \n",
       "min        1.900000e+03  1.967000e+03       1.000000       1.000000   \n",
       "25%        1.975000e+03  2.011000e+03       1.000000       1.000000   \n",
       "50%        1.996000e+03  9.999000e+03       1.000000       1.000000   \n",
       "75%        2.008000e+03  9.999000e+03       1.000000       1.000000   \n",
       "max        9.999000e+03  9.999000e+03       5.000000       5.000000   \n",
       "\n",
       "                big  applicant_no  \n",
       "count  31194.000000  1.381534e+06  \n",
       "mean       3.009842  1.074785e+00  \n",
       "std        3.319992  3.447780e-01  \n",
       "min        0.000000  1.000000e+00  \n",
       "25%        1.000000  1.000000e+00  \n",
       "50%        3.000000  1.000000e+00  \n",
       "75%        3.000000  1.000000e+00  \n",
       "max       44.000000  2.300000e+01  "
      ]
     },
     "execution_count": 8,
     "metadata": {},
     "output_type": "execute_result"
    }
   ],
   "source": [
    "data1.describe()"
   ]
  },
  {
   "cell_type": "code",
   "execution_count": 9,
   "metadata": {},
   "outputs": [
    {
     "data": {
      "text/html": [
       "<div>\n",
       "<style scoped>\n",
       "    .dataframe tbody tr th:only-of-type {\n",
       "        vertical-align: middle;\n",
       "    }\n",
       "\n",
       "    .dataframe tbody tr th {\n",
       "        vertical-align: top;\n",
       "    }\n",
       "\n",
       "    .dataframe thead th {\n",
       "        text-align: right;\n",
       "    }\n",
       "</style>\n",
       "<table border=\"1\" class=\"dataframe\">\n",
       "  <thead>\n",
       "    <tr style=\"text-align: right;\">\n",
       "      <th></th>\n",
       "      <th>ipa_applt_id</th>\n",
       "      <th>australian</th>\n",
       "      <th>entity</th>\n",
       "      <th>ipa_id</th>\n",
       "      <th>abn</th>\n",
       "      <th>acn</th>\n",
       "      <th>big</th>\n",
       "      <th>ultimate</th>\n",
       "      <th>lat</th>\n",
       "      <th>lon</th>\n",
       "      <th>qg</th>\n",
       "      <th>postcode</th>\n",
       "      <th>patstat_appln_id</th>\n",
       "      <th>sa2_main11</th>\n",
       "    </tr>\n",
       "  </thead>\n",
       "  <tbody>\n",
       "    <tr>\n",
       "      <th>count</th>\n",
       "      <td>1.041145e+06</td>\n",
       "      <td>301518.0</td>\n",
       "      <td>806061.0</td>\n",
       "      <td>1.040415e+06</td>\n",
       "      <td>1.166390e+05</td>\n",
       "      <td>1.155360e+05</td>\n",
       "      <td>32775.000000</td>\n",
       "      <td>1.723500e+04</td>\n",
       "      <td>276002.000000</td>\n",
       "      <td>276002.000000</td>\n",
       "      <td>301518.000000</td>\n",
       "      <td>297944.000000</td>\n",
       "      <td>5.720560e+05</td>\n",
       "      <td>2.750800e+05</td>\n",
       "    </tr>\n",
       "    <tr>\n",
       "      <th>mean</th>\n",
       "      <td>3.308055e+06</td>\n",
       "      <td>1.0</td>\n",
       "      <td>1.0</td>\n",
       "      <td>3.529633e+05</td>\n",
       "      <td>5.381772e+10</td>\n",
       "      <td>6.559500e+07</td>\n",
       "      <td>2.777727</td>\n",
       "      <td>1.219921e+08</td>\n",
       "      <td>-33.425968</td>\n",
       "      <td>144.616010</td>\n",
       "      <td>7.249236</td>\n",
       "      <td>3515.825075</td>\n",
       "      <td>1.021049e+08</td>\n",
       "      <td>2.648798e+08</td>\n",
       "    </tr>\n",
       "    <tr>\n",
       "      <th>std</th>\n",
       "      <td>3.224939e+06</td>\n",
       "      <td>0.0</td>\n",
       "      <td>0.0</td>\n",
       "      <td>2.450687e+05</td>\n",
       "      <td>2.627974e+10</td>\n",
       "      <td>8.338251e+07</td>\n",
       "      <td>3.331155</td>\n",
       "      <td>1.254714e+08</td>\n",
       "      <td>4.929670</td>\n",
       "      <td>13.768512</td>\n",
       "      <td>2.425960</td>\n",
       "      <td>1381.603974</td>\n",
       "      <td>1.621904e+08</td>\n",
       "      <td>1.665090e+08</td>\n",
       "    </tr>\n",
       "    <tr>\n",
       "      <th>min</th>\n",
       "      <td>1.000000e+00</td>\n",
       "      <td>1.0</td>\n",
       "      <td>1.0</td>\n",
       "      <td>6.000000e+00</td>\n",
       "      <td>9.006074e+09</td>\n",
       "      <td>3.590000e+02</td>\n",
       "      <td>0.000000</td>\n",
       "      <td>7.790000e+02</td>\n",
       "      <td>-45.903000</td>\n",
       "      <td>-124.091000</td>\n",
       "      <td>0.000000</td>\n",
       "      <td>0.000000</td>\n",
       "      <td>4.484250e+05</td>\n",
       "      <td>1.010110e+08</td>\n",
       "    </tr>\n",
       "    <tr>\n",
       "      <th>25%</th>\n",
       "      <td>2.608740e+05</td>\n",
       "      <td>1.0</td>\n",
       "      <td>1.0</td>\n",
       "      <td>1.643470e+05</td>\n",
       "      <td>3.107960e+10</td>\n",
       "      <td>5.526723e+06</td>\n",
       "      <td>1.000000</td>\n",
       "      <td>7.140918e+07</td>\n",
       "      <td>-37.666000</td>\n",
       "      <td>144.961000</td>\n",
       "      <td>8.000000</td>\n",
       "      <td>2258.000000</td>\n",
       "      <td>2.036613e+06</td>\n",
       "      <td>1.220214e+08</td>\n",
       "    </tr>\n",
       "    <tr>\n",
       "      <th>50%</th>\n",
       "      <td>5.211710e+05</td>\n",
       "      <td>1.0</td>\n",
       "      <td>1.0</td>\n",
       "      <td>3.042230e+05</td>\n",
       "      <td>5.223406e+10</td>\n",
       "      <td>6.309276e+07</td>\n",
       "      <td>3.000000</td>\n",
       "      <td>1.166685e+08</td>\n",
       "      <td>-33.868999</td>\n",
       "      <td>149.146000</td>\n",
       "      <td>8.000000</td>\n",
       "      <td>3139.000000</td>\n",
       "      <td>2.663495e+06</td>\n",
       "      <td>2.090412e+08</td>\n",
       "    </tr>\n",
       "    <tr>\n",
       "      <th>75%</th>\n",
       "      <td>6.710670e+06</td>\n",
       "      <td>1.0</td>\n",
       "      <td>1.0</td>\n",
       "      <td>5.106935e+05</td>\n",
       "      <td>7.801041e+10</td>\n",
       "      <td>1.022062e+08</td>\n",
       "      <td>3.000000</td>\n",
       "      <td>1.304912e+08</td>\n",
       "      <td>-31.962000</td>\n",
       "      <td>151.211000</td>\n",
       "      <td>8.000000</td>\n",
       "      <td>4220.000000</td>\n",
       "      <td>2.743345e+08</td>\n",
       "      <td>3.150214e+08</td>\n",
       "    </tr>\n",
       "    <tr>\n",
       "      <th>max</th>\n",
       "      <td>7.811173e+06</td>\n",
       "      <td>1.0</td>\n",
       "      <td>1.0</td>\n",
       "      <td>9.250380e+05</td>\n",
       "      <td>9.994756e+10</td>\n",
       "      <td>6.166277e+08</td>\n",
       "      <td>44.000000</td>\n",
       "      <td>6.194705e+08</td>\n",
       "      <td>56.441002</td>\n",
       "      <td>174.717000</td>\n",
       "      <td>9.000000</td>\n",
       "      <td>9726.000000</td>\n",
       "      <td>9.600031e+08</td>\n",
       "      <td>8.010911e+08</td>\n",
       "    </tr>\n",
       "  </tbody>\n",
       "</table>\n",
       "</div>"
      ],
      "text/plain": [
       "       ipa_applt_id  australian    entity        ipa_id           abn  \\\n",
       "count  1.041145e+06    301518.0  806061.0  1.040415e+06  1.166390e+05   \n",
       "mean   3.308055e+06         1.0       1.0  3.529633e+05  5.381772e+10   \n",
       "std    3.224939e+06         0.0       0.0  2.450687e+05  2.627974e+10   \n",
       "min    1.000000e+00         1.0       1.0  6.000000e+00  9.006074e+09   \n",
       "25%    2.608740e+05         1.0       1.0  1.643470e+05  3.107960e+10   \n",
       "50%    5.211710e+05         1.0       1.0  3.042230e+05  5.223406e+10   \n",
       "75%    6.710670e+06         1.0       1.0  5.106935e+05  7.801041e+10   \n",
       "max    7.811173e+06         1.0       1.0  9.250380e+05  9.994756e+10   \n",
       "\n",
       "                acn           big      ultimate            lat            lon  \\\n",
       "count  1.155360e+05  32775.000000  1.723500e+04  276002.000000  276002.000000   \n",
       "mean   6.559500e+07      2.777727  1.219921e+08     -33.425968     144.616010   \n",
       "std    8.338251e+07      3.331155  1.254714e+08       4.929670      13.768512   \n",
       "min    3.590000e+02      0.000000  7.790000e+02     -45.903000    -124.091000   \n",
       "25%    5.526723e+06      1.000000  7.140918e+07     -37.666000     144.961000   \n",
       "50%    6.309276e+07      3.000000  1.166685e+08     -33.868999     149.146000   \n",
       "75%    1.022062e+08      3.000000  1.304912e+08     -31.962000     151.211000   \n",
       "max    6.166277e+08     44.000000  6.194705e+08      56.441002     174.717000   \n",
       "\n",
       "                  qg       postcode  patstat_appln_id    sa2_main11  \n",
       "count  301518.000000  297944.000000      5.720560e+05  2.750800e+05  \n",
       "mean        7.249236    3515.825075      1.021049e+08  2.648798e+08  \n",
       "std         2.425960    1381.603974      1.621904e+08  1.665090e+08  \n",
       "min         0.000000       0.000000      4.484250e+05  1.010110e+08  \n",
       "25%         8.000000    2258.000000      2.036613e+06  1.220214e+08  \n",
       "50%         8.000000    3139.000000      2.663495e+06  2.090412e+08  \n",
       "75%         8.000000    4220.000000      2.743345e+08  3.150214e+08  \n",
       "max         9.000000    9726.000000      9.600031e+08  8.010911e+08  "
      ]
     },
     "execution_count": 9,
     "metadata": {},
     "output_type": "execute_result"
    }
   ],
   "source": [
    "data2.describe()"
   ]
  },
  {
   "cell_type": "code",
   "execution_count": 10,
   "metadata": {},
   "outputs": [
    {
     "data": {
      "text/plain": [
       "(1381534, 12)"
      ]
     },
     "execution_count": 10,
     "metadata": {},
     "output_type": "execute_result"
    }
   ],
   "source": [
    "data1.shape"
   ]
  },
  {
   "cell_type": "code",
   "execution_count": 11,
   "metadata": {},
   "outputs": [
    {
     "data": {
      "text/plain": [
       "(1041145, 25)"
      ]
     },
     "execution_count": 11,
     "metadata": {},
     "output_type": "execute_result"
    }
   ],
   "source": [
    "data2.shape"
   ]
  },
  {
   "cell_type": "code",
   "execution_count": 44,
   "metadata": {},
   "outputs": [
    {
     "data": {
      "text/plain": [
       "Index(['australian_appl_no', 'application_year', 'sealing_year', 'patent_type',\n",
       "       'patent_status_type', 'country', 'australian', 'sealing_date',\n",
       "       'primary_ipc_mark_value', 'entity', 'big', 'applicant_no'],\n",
       "      dtype='object')"
      ]
     },
     "execution_count": 44,
     "metadata": {},
     "output_type": "execute_result"
    }
   ],
   "source": [
    "data1.columns"
   ]
  },
  {
   "cell_type": "code",
   "execution_count": 45,
   "metadata": {},
   "outputs": [
    {
     "data": {
      "text/plain": [
       "Index(['ipa_applt_id', 'australian_appl_no', 'appln_type', 'name', 'cleanname',\n",
       "       'country', 'australian', 'entity', 'ipa_id', 'abn', 'acn', 'source',\n",
       "       'big', 'ultimate', 'lat', 'lon', 'qg', 'state', 'postcode',\n",
       "       'patstat_appln_id', 'applicant_type', 'sa2_main11', 'sa2_name11',\n",
       "       'gcc_code11', 'gcc_name11'],\n",
       "      dtype='object')"
      ]
     },
     "execution_count": 45,
     "metadata": {},
     "output_type": "execute_result"
    }
   ],
   "source": [
    "data2.columns"
   ]
  },
  {
   "cell_type": "code",
   "execution_count": 12,
   "metadata": {},
   "outputs": [],
   "source": [
    "data1_2016 = data1[data1[\"application_year\"] == 2016]"
   ]
  },
  {
   "cell_type": "code",
   "execution_count": 13,
   "metadata": {},
   "outputs": [
    {
     "data": {
      "text/plain": [
       "(36059, 12)"
      ]
     },
     "execution_count": 13,
     "metadata": {},
     "output_type": "execute_result"
    }
   ],
   "source": [
    "data1_2016.shape"
   ]
  },
  {
   "cell_type": "markdown",
   "metadata": {},
   "source": [
    "## Create merged dataset"
   ]
  },
  {
   "cell_type": "code",
   "execution_count": 14,
   "metadata": {},
   "outputs": [],
   "source": [
    "data_merged = data1_2016.merge(right = data2, how = \"left\", on = \"australian_appl_no\")"
   ]
  },
  {
   "cell_type": "code",
   "execution_count": 15,
   "metadata": {},
   "outputs": [
    {
     "data": {
      "text/html": [
       "<div>\n",
       "<style scoped>\n",
       "    .dataframe tbody tr th:only-of-type {\n",
       "        vertical-align: middle;\n",
       "    }\n",
       "\n",
       "    .dataframe tbody tr th {\n",
       "        vertical-align: top;\n",
       "    }\n",
       "\n",
       "    .dataframe thead th {\n",
       "        text-align: right;\n",
       "    }\n",
       "</style>\n",
       "<table border=\"1\" class=\"dataframe\">\n",
       "  <thead>\n",
       "    <tr style=\"text-align: right;\">\n",
       "      <th></th>\n",
       "      <th>australian_appl_no</th>\n",
       "      <th>application_year</th>\n",
       "      <th>sealing_year</th>\n",
       "      <th>patent_type</th>\n",
       "      <th>patent_status_type</th>\n",
       "      <th>country_x</th>\n",
       "      <th>australian_x</th>\n",
       "      <th>sealing_date</th>\n",
       "      <th>primary_ipc_mark_value</th>\n",
       "      <th>entity_x</th>\n",
       "      <th>...</th>\n",
       "      <th>lon</th>\n",
       "      <th>qg</th>\n",
       "      <th>state</th>\n",
       "      <th>postcode</th>\n",
       "      <th>patstat_appln_id</th>\n",
       "      <th>applicant_type</th>\n",
       "      <th>sa2_main11</th>\n",
       "      <th>sa2_name11</th>\n",
       "      <th>gcc_code11</th>\n",
       "      <th>gcc_name11</th>\n",
       "    </tr>\n",
       "  </thead>\n",
       "  <tbody>\n",
       "    <tr>\n",
       "      <th>0</th>\n",
       "      <td>2011212055</td>\n",
       "      <td>2016</td>\n",
       "      <td>9999.0</td>\n",
       "      <td>Standard</td>\n",
       "      <td>FILED</td>\n",
       "      <td>US</td>\n",
       "      <td>NaN</td>\n",
       "      <td>9999-12-31</td>\n",
       "      <td>C11D   1/12</td>\n",
       "      <td>1.0</td>\n",
       "      <td>...</td>\n",
       "      <td>NaN</td>\n",
       "      <td>NaN</td>\n",
       "      <td>NaN</td>\n",
       "      <td>NaN</td>\n",
       "      <td>NaN</td>\n",
       "      <td>International</td>\n",
       "      <td>NaN</td>\n",
       "      <td>NaN</td>\n",
       "      <td>NaN</td>\n",
       "      <td>NaN</td>\n",
       "    </tr>\n",
       "    <tr>\n",
       "      <th>1</th>\n",
       "      <td>2011291595</td>\n",
       "      <td>2016</td>\n",
       "      <td>9999.0</td>\n",
       "      <td>Standard</td>\n",
       "      <td>FILED</td>\n",
       "      <td>US</td>\n",
       "      <td>NaN</td>\n",
       "      <td>9999-12-31</td>\n",
       "      <td>B23D  51/01</td>\n",
       "      <td>NaN</td>\n",
       "      <td>...</td>\n",
       "      <td>NaN</td>\n",
       "      <td>NaN</td>\n",
       "      <td>NaN</td>\n",
       "      <td>NaN</td>\n",
       "      <td>NaN</td>\n",
       "      <td>International</td>\n",
       "      <td>NaN</td>\n",
       "      <td>NaN</td>\n",
       "      <td>NaN</td>\n",
       "      <td>NaN</td>\n",
       "    </tr>\n",
       "    <tr>\n",
       "      <th>2</th>\n",
       "      <td>2012268660</td>\n",
       "      <td>2016</td>\n",
       "      <td>9999.0</td>\n",
       "      <td>Standard</td>\n",
       "      <td>FILED</td>\n",
       "      <td>US</td>\n",
       "      <td>NaN</td>\n",
       "      <td>9999-12-31</td>\n",
       "      <td>C09D   5/00</td>\n",
       "      <td>1.0</td>\n",
       "      <td>...</td>\n",
       "      <td>NaN</td>\n",
       "      <td>NaN</td>\n",
       "      <td>NaN</td>\n",
       "      <td>NaN</td>\n",
       "      <td>NaN</td>\n",
       "      <td>International</td>\n",
       "      <td>NaN</td>\n",
       "      <td>NaN</td>\n",
       "      <td>NaN</td>\n",
       "      <td>NaN</td>\n",
       "    </tr>\n",
       "    <tr>\n",
       "      <th>3</th>\n",
       "      <td>2012306228</td>\n",
       "      <td>2016</td>\n",
       "      <td>9999.0</td>\n",
       "      <td>Standard</td>\n",
       "      <td>FILED</td>\n",
       "      <td>FI</td>\n",
       "      <td>NaN</td>\n",
       "      <td>9999-12-31</td>\n",
       "      <td>B65D  90/12</td>\n",
       "      <td>5.0</td>\n",
       "      <td>...</td>\n",
       "      <td>NaN</td>\n",
       "      <td>NaN</td>\n",
       "      <td>NaN</td>\n",
       "      <td>NaN</td>\n",
       "      <td>NaN</td>\n",
       "      <td>International</td>\n",
       "      <td>NaN</td>\n",
       "      <td>NaN</td>\n",
       "      <td>NaN</td>\n",
       "      <td>NaN</td>\n",
       "    </tr>\n",
       "    <tr>\n",
       "      <th>4</th>\n",
       "      <td>2012306228</td>\n",
       "      <td>2016</td>\n",
       "      <td>9999.0</td>\n",
       "      <td>Standard</td>\n",
       "      <td>FILED</td>\n",
       "      <td>FI</td>\n",
       "      <td>NaN</td>\n",
       "      <td>9999-12-31</td>\n",
       "      <td>B65D  90/12</td>\n",
       "      <td>5.0</td>\n",
       "      <td>...</td>\n",
       "      <td>NaN</td>\n",
       "      <td>NaN</td>\n",
       "      <td>NaN</td>\n",
       "      <td>NaN</td>\n",
       "      <td>NaN</td>\n",
       "      <td>International</td>\n",
       "      <td>NaN</td>\n",
       "      <td>NaN</td>\n",
       "      <td>NaN</td>\n",
       "      <td>NaN</td>\n",
       "    </tr>\n",
       "  </tbody>\n",
       "</table>\n",
       "<p>5 rows × 36 columns</p>\n",
       "</div>"
      ],
      "text/plain": [
       "  australian_appl_no  application_year  sealing_year patent_type  \\\n",
       "0         2011212055              2016        9999.0    Standard   \n",
       "1         2011291595              2016        9999.0    Standard   \n",
       "2         2012268660              2016        9999.0    Standard   \n",
       "3         2012306228              2016        9999.0    Standard   \n",
       "4         2012306228              2016        9999.0    Standard   \n",
       "\n",
       "  patent_status_type country_x  australian_x sealing_date  \\\n",
       "0              FILED        US           NaN   9999-12-31   \n",
       "1              FILED        US           NaN   9999-12-31   \n",
       "2              FILED        US           NaN   9999-12-31   \n",
       "3              FILED        FI           NaN   9999-12-31   \n",
       "4              FILED        FI           NaN   9999-12-31   \n",
       "\n",
       "  primary_ipc_mark_value  entity_x     ...      lon  qg  state postcode  \\\n",
       "0            C11D   1/12       1.0     ...      NaN NaN    NaN      NaN   \n",
       "1            B23D  51/01       NaN     ...      NaN NaN    NaN      NaN   \n",
       "2            C09D   5/00       1.0     ...      NaN NaN    NaN      NaN   \n",
       "3            B65D  90/12       5.0     ...      NaN NaN    NaN      NaN   \n",
       "4            B65D  90/12       5.0     ...      NaN NaN    NaN      NaN   \n",
       "\n",
       "  patstat_appln_id applicant_type sa2_main11  sa2_name11  gcc_code11  \\\n",
       "0              NaN  International        NaN         NaN         NaN   \n",
       "1              NaN  International        NaN         NaN         NaN   \n",
       "2              NaN  International        NaN         NaN         NaN   \n",
       "3              NaN  International        NaN         NaN         NaN   \n",
       "4              NaN  International        NaN         NaN         NaN   \n",
       "\n",
       "   gcc_name11  \n",
       "0         NaN  \n",
       "1         NaN  \n",
       "2         NaN  \n",
       "3         NaN  \n",
       "4         NaN  \n",
       "\n",
       "[5 rows x 36 columns]"
      ]
     },
     "execution_count": 15,
     "metadata": {},
     "output_type": "execute_result"
    }
   ],
   "source": [
    "data_merged.head(5)"
   ]
  },
  {
   "cell_type": "code",
   "execution_count": 16,
   "metadata": {},
   "outputs": [
    {
     "data": {
      "text/plain": [
       "Index(['australian_appl_no', 'application_year', 'sealing_year', 'patent_type',\n",
       "       'patent_status_type', 'country_x', 'australian_x', 'sealing_date',\n",
       "       'primary_ipc_mark_value', 'entity_x', 'big_x', 'applicant_no',\n",
       "       'ipa_applt_id', 'appln_type', 'name', 'cleanname', 'country_y',\n",
       "       'australian_y', 'entity_y', 'ipa_id', 'abn', 'acn', 'source', 'big_y',\n",
       "       'ultimate', 'lat', 'lon', 'qg', 'state', 'postcode', 'patstat_appln_id',\n",
       "       'applicant_type', 'sa2_main11', 'sa2_name11', 'gcc_code11',\n",
       "       'gcc_name11'],\n",
       "      dtype='object')"
      ]
     },
     "execution_count": 16,
     "metadata": {},
     "output_type": "execute_result"
    }
   ],
   "source": [
    "data_merged.columns"
   ]
  },
  {
   "cell_type": "markdown",
   "metadata": {},
   "source": [
    "## Check shape of merged dataset, note there are 39,298 patents in calendar year 2016"
   ]
  },
  {
   "cell_type": "code",
   "execution_count": 17,
   "metadata": {},
   "outputs": [
    {
     "data": {
      "text/plain": [
       "(39298, 36)"
      ]
     },
     "execution_count": 17,
     "metadata": {},
     "output_type": "execute_result"
    }
   ],
   "source": [
    "data_merged.shape"
   ]
  },
  {
   "cell_type": "markdown",
   "metadata": {},
   "source": [
    "## Create subset of merged dataset containing only coordinates "
   ]
  },
  {
   "cell_type": "code",
   "execution_count": 18,
   "metadata": {},
   "outputs": [],
   "source": [
    "lat_long_only = data_merged[['lat','lon']]"
   ]
  },
  {
   "cell_type": "code",
   "execution_count": 19,
   "metadata": {},
   "outputs": [
    {
     "name": "stdout",
     "output_type": "stream",
     "text": [
      "<class 'pandas.core.frame.DataFrame'>\n",
      "Int64Index: 39298 entries, 0 to 39297\n",
      "Data columns (total 2 columns):\n",
      "lat    7825 non-null float64\n",
      "lon    7825 non-null float64\n",
      "dtypes: float64(2)\n",
      "memory usage: 921.0 KB\n"
     ]
    }
   ],
   "source": [
    "lat_long_only.info()"
   ]
  },
  {
   "cell_type": "markdown",
   "metadata": {},
   "source": [
    "## Drop rows with null values"
   ]
  },
  {
   "cell_type": "code",
   "execution_count": 20,
   "metadata": {},
   "outputs": [],
   "source": [
    "lat_long_only2 = lat_long_only.dropna()"
   ]
  },
  {
   "cell_type": "markdown",
   "metadata": {},
   "source": [
    "## Note only 7825 rows remain"
   ]
  },
  {
   "cell_type": "code",
   "execution_count": 21,
   "metadata": {},
   "outputs": [
    {
     "data": {
      "text/plain": [
       "(7825, 2)"
      ]
     },
     "execution_count": 21,
     "metadata": {},
     "output_type": "execute_result"
    }
   ],
   "source": [
    "lat_long_only2.shape"
   ]
  },
  {
   "cell_type": "markdown",
   "metadata": {},
   "source": [
    "## The percentage of patent applications with usable coordinates in 2016"
   ]
  },
  {
   "cell_type": "code",
   "execution_count": 22,
   "metadata": {},
   "outputs": [
    {
     "data": {
      "text/plain": [
       "19.9119548068604"
      ]
     },
     "execution_count": 22,
     "metadata": {},
     "output_type": "execute_result"
    }
   ],
   "source": [
    "lat_long_only2.shape[0]/data_merged.shape[0] * 100"
   ]
  },
  {
   "cell_type": "markdown",
   "metadata": {},
   "source": [
    "## Export the data to csv "
   ]
  },
  {
   "cell_type": "code",
   "execution_count": 23,
   "metadata": {},
   "outputs": [],
   "source": [
    "lat_long_only2.to_csv(\"patent_coordinates_2016.csv\")"
   ]
  }
 ],
 "metadata": {
  "kernelspec": {
   "display_name": "Python 3",
   "language": "python",
   "name": "python3"
  },
  "language_info": {
   "codemirror_mode": {
    "name": "ipython",
    "version": 3
   },
   "file_extension": ".py",
   "mimetype": "text/x-python",
   "name": "python",
   "nbconvert_exporter": "python",
   "pygments_lexer": "ipython3",
   "version": "3.6.5"
  }
 },
 "nbformat": 4,
 "nbformat_minor": 1
}
