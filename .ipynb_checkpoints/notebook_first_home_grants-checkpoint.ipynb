{
 "cells": [
  {
   "cell_type": "markdown",
   "metadata": {},
   "source": [
    "# Pull first home grants"
   ]
  },
  {
   "cell_type": "markdown",
   "metadata": {},
   "source": [
    "## Import modules "
   ]
  },
  {
   "cell_type": "code",
   "execution_count": 1,
   "metadata": {},
   "outputs": [],
   "source": [
    "import pandas\n",
    "import requests\n",
    "import bs4"
   ]
  },
  {
   "cell_type": "markdown",
   "metadata": {},
   "source": [
    "## Set Base Url"
   ]
  },
  {
   "cell_type": "code",
   "execution_count": 2,
   "metadata": {},
   "outputs": [],
   "source": [
    "base_url = \"http://www.e-business.sro.vic.gov.au/corporate/statistics/SummaryServlet?postcodeInput=\"\n",
    "export_path = \"/users/danielcorcoran/desktop/grant_output/\""
   ]
  },
  {
   "cell_type": "code",
   "execution_count": 3,
   "metadata": {},
   "outputs": [],
   "source": [
    "postcode_list = [\n",
    "    \"3000\", \"3003\", \"3004\", \"3006\", \"3008\", \"3011\", \"3012\", \"3013\", \"3015\",\n",
    "    \"3016\", \"3018\", \"3019\", \"3020\", \"3021\", \"3022\", \"3023\", \"3024\", \"3025\",\n",
    "    \"3027\", \"3028\", \"3029\", \"3030\", \"3031\", \"3032\", \"3033\", \"3034\", \"3036\",\n",
    "    \"3037\", \"3038\", \"3039\", \"3040\", \"3041\", \"3042\", \"3043\", \"3044\", \"3046\",\n",
    "    \"3047\", \"3048\", \"3049\", \"3051\", \"3052\", \"3053\", \"3054\", \"3055\", \"3056\",\n",
    "    \"3057\", \"3058\", \"3059\", \"3060\", \"3061\", \"3063\", \"3064\", \"3065\", \"3066\",\n",
    "    \"3067\", \"3068\", \"3070\", \"3071\", \"3072\", \"3073\", \"3074\", \"3075\", \"3076\",\n",
    "    \"3078\", \"3079\", \"3081\", \"3082\", \"3083\", \"3084\", \"3085\", \"3087\", \"3088\",\n",
    "    \"3089\", \"3090\", \"3093\", \"3094\", \"3095\", \"3096\", \"3099\", \"3101\", \"3102\",\n",
    "    \"3103\", \"3104\", \"3105\", \"3106\", \"3107\", \"3108\", \"3109\", \"3111\", \"3113\",\n",
    "    \"3114\", \"3115\", \"3116\", \"3121\", \"3122\", \"3123\", \"3124\", \"3125\", \"3126\",\n",
    "    \"3127\", \"3128\", \"3129\", \"3130\", \"3131\", \"3132\", \"3133\", \"3134\", \"3135\",\n",
    "    \"3136\", \"3137\", \"3138\", \"3139\", \"3140\", \"3141\", \"3142\", \"3143\", \"3144\",\n",
    "    \"3145\", \"3146\", \"3147\", \"3148\", \"3149\", \"3150\", \"3151\", \"3152\", \"3153\",\n",
    "    \"3154\", \"3155\", \"3156\", \"3158\", \"3159\", \"3160\", \"3161\", \"3162\", \"3163\",\n",
    "    \"3165\", \"3166\", \"3167\", \"3168\", \"3169\", \"3170\", \"3171\", \"3172\", \"3173\",\n",
    "    \"3174\", \"3175\", \"3177\", \"3178\", \"3179\", \"3180\", \"3181\", \"3182\", \"3183\",\n",
    "    \"3184\", \"3185\", \"3186\", \"3187\", \"3188\", \"3189\", \"3190\", \"3191\", \"3192\",\n",
    "    \"3193\", \"3194\", \"3195\", \"3196\", \"3197\", \"3198\", \"3199\", \"3200\", \"3201\",\n",
    "    \"3202\", \"3204\", \"3205\", \"3207\", \"3212\", \"3213\", \"3214\", \"3215\", \"3216\",\n",
    "    \"3217\", \"3218\", \"3219\", \"3220\", \"3221\", \"3222\", \"3223\", \"3224\", \"3225\",\n",
    "    \"3226\", \"3227\", \"3228\", \"3230\", \"3231\", \"3233\", \"3235\", \"3241\", \"3242\",\n",
    "    \"3249\", \"3250\", \"3251\", \"3260\", \"3264\", \"3265\", \"3266\", \"3269\", \"3275\",\n",
    "    \"3276\", \"3278\", \"3280\", \"3281\", \"3282\", \"3283\", \"3284\", \"3285\", \"3289\",\n",
    "    \"3292\", \"3294\", \"3300\", \"3301\", \"3304\", \"3305\", \"3311\", \"3314\", \"3321\",\n",
    "    \"3324\", \"3328\", \"3331\", \"3332\", \"3335\", \"3336\", \"3337\", \"3338\", \"3340\",\n",
    "    \"3342\", \"3345\", \"3350\", \"3351\", \"3352\", \"3355\", \"3356\", \"3357\", \"3358\",\n",
    "    \"3360\", \"3361\", \"3363\", \"3364\", \"3370\", \"3371\", \"3373\", \"3377\", \"3380\",\n",
    "    \"3381\", \"3395\", \"3400\", \"3401\", \"3409\", \"3414\", \"3427\", \"3428\", \"3429\",\n",
    "    \"3431\", \"3434\", \"3435\", \"3437\", \"3438\", \"3441\", \"3442\", \"3444\", \"3446\",\n",
    "    \"3447\", \"3448\", \"3450\", \"3451\", \"3453\", \"3458\", \"3460\", \"3461\", \"3462\",\n",
    "    \"3463\", \"3464\", \"3465\", \"3467\", \"3475\", \"3478\", \"3483\", \"3490\", \"3496\",\n",
    "    \"3498\", \"3500\", \"3501\", \"3505\", \"3515\", \"3516\", \"3517\", \"3518\", \"3523\",\n",
    "    \"3525\", \"3537\", \"3549\", \"3550\", \"3551\", \"3555\", \"3556\", \"3557\", \"3558\",\n",
    "    \"3561\", \"3562\", \"3563\", \"3564\", \"3568\", \"3575\", \"3579\", \"3580\", \"3583\",\n",
    "    \"3585\", \"3608\", \"3610\", \"3612\", \"3614\", \"3616\", \"3620\", \"3621\", \"3629\",\n",
    "    \"3630\", \"3631\", \"3634\", \"3635\", \"3636\", \"3637\", \"3638\", \"3640\", \"3641\",\n",
    "    \"3644\", \"3658\", \"3660\", \"3663\", \"3664\", \"3665\", \"3666\", \"3669\", \"3672\",\n",
    "    \"3673\", \"3675\", \"3677\", \"3678\", \"3682\", \"3683\", \"3685\", \"3687\", \"3688\",\n",
    "    \"3690\", \"3691\", \"3697\", \"3700\", \"3707\", \"3711\", \"3714\", \"3715\", \"3717\",\n",
    "    \"3719\", \"3720\", \"3722\", \"3723\", \"3725\", \"3726\", \"3728\", \"3730\", \"3732\",\n",
    "    \"3735\", \"3737\", \"3738\", \"3740\", \"3741\", \"3744\", \"3746\", \"3747\", \"3749\",\n",
    "    \"3750\", \"3752\", \"3753\", \"3754\", \"3756\", \"3757\", \"3758\", \"3759\", \"3761\",\n",
    "    \"3763\", \"3764\", \"3765\", \"3766\", \"3770\", \"3775\", \"3777\", \"3778\", \"3779\",\n",
    "    \"3781\", \"3782\", \"3783\", \"3787\", \"3788\", \"3793\", \"3796\", \"3797\", \"3799\",\n",
    "    \"3802\", \"3803\", \"3804\", \"3805\", \"3806\", \"3807\", \"3809\", \"3810\", \"3813\",\n",
    "    \"3814\", \"3815\", \"3816\", \"3818\", \"3820\", \"3821\", \"3822\", \"3823\", \"3824\",\n",
    "    \"3825\", \"3831\", \"3840\", \"3842\", \"3844\", \"3847\", \"3850\", \"3851\", \"3854\",\n",
    "    \"3856\", \"3857\", \"3858\", \"3859\", \"3860\", \"3862\", \"3865\", \"3869\", \"3870\",\n",
    "    \"3871\", \"3874\", \"3875\", \"3878\", \"3880\", \"3882\", \"3885\", \"3886\", \"3887\",\n",
    "    \"3888\", \"3902\", \"3903\", \"3904\", \"3909\", \"3910\", \"3911\", \"3912\", \"3913\",\n",
    "    \"3915\", \"3916\", \"3918\", \"3919\", \"3922\", \"3925\", \"3926\", \"3930\", \"3931\",\n",
    "    \"3934\", \"3936\", \"3937\", \"3938\", \"3939\", \"3940\", \"3941\", \"3942\", \"3945\",\n",
    "    \"3950\", \"3953\", \"3956\", \"3959\", \"3960\", \"3962\", \"3964\", \"3966\", \"3971\",\n",
    "    \"3975\", \"3976\", \"3977\", \"3978\", \"3980\", \"3981\", \"3984\", \"3987\", \"3988\",\n",
    "    \"3992\", \"3995\", \"3996\"\n",
    "]"
   ]
  },
  {
   "cell_type": "markdown",
   "metadata": {},
   "source": [
    "## Loop through every postcode in postcode_list and process\n",
    "\n",
    "Steps\n",
    "- Retrieve html as string\n",
    "- string into pandas and create dataframes list\n",
    "- For each table in dataframes list go into another loop\n",
    "- In this loop drop rows containing \"Total or \"/\", drop all rows and columns containing 100% nulls\n",
    "- Change column headers\n",
    "- Add column for category\n",
    "- Add column for postcode\n",
    "- Export"
   ]
  },
  {
   "cell_type": "code",
   "execution_count": 8,
   "metadata": {},
   "outputs": [],
   "source": [
    "for postcode in postcode_list:\n",
    "    request = requests.get(base_url + postcode)\n",
    "    soup = bs4.BeautifulSoup(request.text, \"lxml\")\n",
    "    strsoup = str(soup)\n",
    "    tablelist = pandas.read_html(strsoup)\n",
    "\n",
    "\n",
    "    for index in range(len(tablelist)):\n",
    "\n",
    "        tablelist[index].columns = list(range(tablelist[index].shape[1]))\n",
    "\n",
    "        drop_list = []\n",
    "\n",
    "        for subindex in range(tablelist[index].shape[0]):\n",
    "            if \"Total\" in tablelist[index].iloc[subindex,0] or \"/\" in tablelist[index].iloc[subindex,0]:\n",
    "                drop_list.append(subindex)\n",
    "\n",
    "        tablelist[index].drop(drop_list, axis = 0, inplace = True)\n",
    "\n",
    "        tablelist[index] = tablelist[index].dropna(how = \"all\", axis = 0)\n",
    "        tablelist[index] = tablelist[index].dropna(how = \"all\", axis = 1)\n",
    "\n",
    "        tablelist[index].columns = [\"FINANCIAL_YEAR_MONTH\",\n",
    "                                   \"FIRST_HOME_OWNER_GRANT_NUMBER\",\n",
    "                                   \"FIRST_HOME_OWNER_GRANT_VALUE\",\n",
    "                                   \"FIRST_HOME_OWNER_BOOST_NUMBER\",\n",
    "                                   \"FIRST_HOME_OWNER_BOOST_VALUE\",\n",
    "                                   \"FIRST_HOME_BONUS_NUMBER\",\n",
    "                                   \"FIRST_HOME_BONUS_VALUE\",\n",
    "                                   \"FIRST_HOME_OWNER_REGIONAL_BONUS_NUMBER\",\n",
    "                                   \"FIRST_HOME_OWNER_REGIONAL_BONUS_VALUE\"]\n",
    "        if index == 0:\n",
    "            category = \"new_homes_\"\n",
    "            tablelist[index][\"CATEGORY\"] = \"FIRST HOME OWNER STATISTICS FOR NEW HOMES\"\n",
    "        elif index ==1:\n",
    "            category = \"establish_homes_\"\n",
    "            tablelist[index][\"CATEGORY\"] = \"FIRST HOME OWNER STATISTICS FOR ESTABLISHED HOMES\"\n",
    "\n",
    "        tablelist[index][\"POSTCODE\"] = postcode\n",
    "\n",
    "        tablelist[index].to_csv(export_path + category + postcode + \".csv\", index = True, index_label = \"row_index\")"
   ]
  }
 ],
 "metadata": {
  "kernelspec": {
   "display_name": "Python 3",
   "language": "python",
   "name": "python3"
  },
  "language_info": {
   "codemirror_mode": {
    "name": "ipython",
    "version": 3
   },
   "file_extension": ".py",
   "mimetype": "text/x-python",
   "name": "python",
   "nbconvert_exporter": "python",
   "pygments_lexer": "ipython3",
   "version": "3.6.5"
  },
  "toc": {
   "base_numbering": 1,
   "nav_menu": {},
   "number_sections": true,
   "sideBar": true,
   "skip_h1_title": false,
   "title_cell": "Table of Contents",
   "title_sidebar": "Contents",
   "toc_cell": false,
   "toc_position": {},
   "toc_section_display": true,
   "toc_window_display": false
  },
  "varInspector": {
   "cols": {
    "lenName": 16,
    "lenType": 16,
    "lenVar": 40
   },
   "kernels_config": {
    "python": {
     "delete_cmd_postfix": "",
     "delete_cmd_prefix": "del ",
     "library": "var_list.py",
     "varRefreshCmd": "print(var_dic_list())"
    },
    "r": {
     "delete_cmd_postfix": ") ",
     "delete_cmd_prefix": "rm(",
     "library": "var_list.r",
     "varRefreshCmd": "cat(var_dic_list()) "
    }
   },
   "types_to_exclude": [
    "module",
    "function",
    "builtin_function_or_method",
    "instance",
    "_Feature"
   ],
   "window_display": false
  }
 },
 "nbformat": 4,
 "nbformat_minor": 2
}
