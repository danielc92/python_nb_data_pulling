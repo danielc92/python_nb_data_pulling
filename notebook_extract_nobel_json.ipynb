{
 "cells": [
  {
   "cell_type": "markdown",
   "metadata": {},
   "source": [
    "#  Extracting data from nobel json files\n",
    "###### Source: https://github.com/jdorfman/awesome-json-datasets"
   ]
  },
  {
   "cell_type": "code",
   "execution_count": null,
   "metadata": {},
   "outputs": [],
   "source": [
    "'''\n",
    "Notes:\n",
    "> country contains country name and codes.\n",
    "> prizes contains information relating to prizes awarded each year, one year can have MULTIPLE prizes.\n",
    "> laureate contains information relating to people.\n",
    "'''"
   ]
  },
  {
   "cell_type": "code",
   "execution_count": 24,
   "metadata": {},
   "outputs": [],
   "source": [
    "import pandas\n",
    "country = pandas.read_json(\"/Users/danielcorcoran/Desktop/Tableau (mac)/Tableau Public Projects/Nobel/nobel_country.json\")\n",
    "prizes = pandas.read_json(\"/Users/danielcorcoran/Desktop/Tableau (mac)/Tableau Public Projects/Nobel/nobel_prizes.json\")\n",
    "laureate = pandas.read_json(\"/Users/danielcorcoran/Desktop/Tableau (mac)/Tableau Public Projects/Nobel/nobel_laureate.json\")"
   ]
  },
  {
   "cell_type": "markdown",
   "metadata": {},
   "source": [
    "## Extract country data"
   ]
  },
  {
   "cell_type": "code",
   "execution_count": 26,
   "metadata": {},
   "outputs": [
    {
     "data": {
      "text/plain": [
       "(156, 1)"
      ]
     },
     "execution_count": 26,
     "metadata": {},
     "output_type": "execute_result"
    }
   ],
   "source": [
    "country.shape"
   ]
  },
  {
   "cell_type": "code",
   "execution_count": 25,
   "metadata": {},
   "outputs": [
    {
     "data": {
      "text/plain": [
       "{'name': 'Alsace, then Germany', 'code': 'DE'}"
      ]
     },
     "execution_count": 25,
     "metadata": {},
     "output_type": "execute_result"
    }
   ],
   "source": [
    "country.iloc[0,0]"
   ]
  },
  {
   "cell_type": "code",
   "execution_count": 34,
   "metadata": {},
   "outputs": [],
   "source": [
    "country_dict = {\"name\":[],\n",
    "               \"code\":[]}\n",
    "\n",
    "for index in range(country.shape[0]):\n",
    "        country_dict[\"name\"].append(country.iloc[index, 0][\"name\"])\n",
    "        country_dict[\"code\"].append(country.iloc[index, 0][\"code\"])"
   ]
  },
  {
   "cell_type": "code",
   "execution_count": 36,
   "metadata": {},
   "outputs": [],
   "source": [
    "country_csv_data = pandas.DataFrame(country_dict)"
   ]
  },
  {
   "cell_type": "code",
   "execution_count": 39,
   "metadata": {},
   "outputs": [],
   "source": [
    "country_csv_data.to_csv(\"nobel_country.csv\", index_label = \"row_index\")"
   ]
  },
  {
   "cell_type": "markdown",
   "metadata": {},
   "source": [
    "## Extract prizes data"
   ]
  },
  {
   "cell_type": "code",
   "execution_count": 27,
   "metadata": {},
   "outputs": [
    {
     "data": {
      "text/plain": [
       "(585, 1)"
      ]
     },
     "execution_count": 27,
     "metadata": {},
     "output_type": "execute_result"
    }
   ],
   "source": [
    "prizes.shape"
   ]
  },
  {
   "cell_type": "code",
   "execution_count": 69,
   "metadata": {},
   "outputs": [
    {
     "data": {
      "text/plain": [
       "{'year': '1984',\n",
       " 'category': 'medicine',\n",
       " 'laureates': [{'id': '429',\n",
       "   'firstname': 'Niels K.',\n",
       "   'surname': 'Jerne',\n",
       "   'motivation': '\"for theories concerning the specificity in development and control of the immune system and the discovery of the principle for production of monoclonal antibodies\"',\n",
       "   'share': '3'},\n",
       "  {'id': '430',\n",
       "   'firstname': 'Georges J.F.',\n",
       "   'surname': 'Köhler',\n",
       "   'motivation': '\"for theories concerning the specificity in development and control of the immune system and the discovery of the principle for production of monoclonal antibodies\"',\n",
       "   'share': '3'},\n",
       "  {'id': '431',\n",
       "   'firstname': 'César',\n",
       "   'surname': 'Milstein',\n",
       "   'motivation': '\"for theories concerning the specificity in development and control of the immune system and the discovery of the principle for production of monoclonal antibodies\"',\n",
       "   'share': '3'}]}"
      ]
     },
     "execution_count": 69,
     "metadata": {},
     "output_type": "execute_result"
    }
   ],
   "source": [
    "prizes.iloc[200,0]"
   ]
  },
  {
   "cell_type": "code",
   "execution_count": 86,
   "metadata": {},
   "outputs": [],
   "source": [
    "prizes_dict = {\"year\":[],\n",
    "              \"category\":[],\n",
    "               \"id\":[],\n",
    "              \"firstname\":[],\n",
    "              \"surname\":[],\n",
    "              \"motivation\":[],\n",
    "              \"share\":[],\n",
    "              \"prize_index\":[]}"
   ]
  },
  {
   "cell_type": "code",
   "execution_count": 87,
   "metadata": {},
   "outputs": [],
   "source": [
    "for index in range(prizes.shape[0]):\n",
    "    number_prizes = len(prizes.iloc[index, 0][\"laureates\"])\n",
    "    for p_index in range(number_prizes):\n",
    "        prizes_dict[\"year\"].append(prizes.iloc[index, 0][\"year\"])\n",
    "        prizes_dict[\"category\"].append(prizes.iloc[index, 0][\"category\"])\n",
    "        prizes_dict[\"id\"].append(prizes.iloc[index, 0][\"laureates\"][p_index][\"id\"])\n",
    "        prizes_dict[\"firstname\"].append(prizes.iloc[index, 0][\"laureates\"][p_index][\"firstname\"])\n",
    "        prizes_dict[\"surname\"].append(prizes.iloc[index, 0][\"laureates\"][p_index][\"surname\"])\n",
    "        try:\n",
    "            prizes_dict[\"motivation\"].append(prizes.iloc[index, 0][\"laureates\"][p_index][\"motivation\"])\n",
    "        except:\n",
    "            prizes_dict[\"motivation\"].append(None)\n",
    "        \n",
    "        prizes_dict[\"share\"].append(prizes.iloc[index, 0][\"laureates\"][p_index][\"share\"])\n",
    "        prizes_dict[\"prize_index\"].append(p_index)"
   ]
  },
  {
   "cell_type": "code",
   "execution_count": 89,
   "metadata": {},
   "outputs": [],
   "source": [
    "prizes_csv_data = pandas.DataFrame(prizes_dict)"
   ]
  },
  {
   "cell_type": "code",
   "execution_count": 90,
   "metadata": {},
   "outputs": [],
   "source": [
    "prizes_csv_data.to_csv(\"nobel_prizes.csv\", index_label=\"row_index\")"
   ]
  },
  {
   "cell_type": "markdown",
   "metadata": {},
   "source": [
    "## Extract laureate data"
   ]
  },
  {
   "cell_type": "code",
   "execution_count": 48,
   "metadata": {},
   "outputs": [
    {
     "data": {
      "text/plain": [
       "(922, 1)"
      ]
     },
     "execution_count": 48,
     "metadata": {},
     "output_type": "execute_result"
    }
   ],
   "source": [
    "laureate.shape"
   ]
  },
  {
   "cell_type": "code",
   "execution_count": 62,
   "metadata": {},
   "outputs": [
    {
     "data": {
      "text/plain": [
       "{'id': '928',\n",
       " 'firstname': 'David J.',\n",
       " 'surname': 'Thouless',\n",
       " 'born': '1934-09-21',\n",
       " 'died': '0000-00-00',\n",
       " 'bornCountry': 'United Kingdom',\n",
       " 'bornCountryCode': 'GB',\n",
       " 'bornCity': 'Bearsden',\n",
       " 'gender': 'male',\n",
       " 'prizes': [{'year': '2016',\n",
       "   'category': 'physics',\n",
       "   'share': '2',\n",
       "   'motivation': '\"for theoretical discoveries of topological phase transitions and topological phases of matter\"',\n",
       "   'affiliations': [{'name': 'University of Washington',\n",
       "     'city': 'Seattle, WA',\n",
       "     'country': 'USA'}]}]}"
      ]
     },
     "execution_count": 62,
     "metadata": {},
     "output_type": "execute_result"
    }
   ],
   "source": [
    "laureate.iloc[900,0]"
   ]
  },
  {
   "cell_type": "code",
   "execution_count": 63,
   "metadata": {},
   "outputs": [],
   "source": [
    "laureate_dict = {\"id\":[],\"firstname\":[],\n",
    "                 \"surname\":[],\"born\":[],\n",
    "                 \"died\":[],\"bornCountry\":[],\n",
    "                 \"bornCountryCode\":[],\"bornCity\":[],\n",
    "                \"diedCountry\":[],\"diedCountryCode\":[], \"gender\":[]}"
   ]
  },
  {
   "cell_type": "code",
   "execution_count": 64,
   "metadata": {},
   "outputs": [],
   "source": [
    "for index in range(laureate.shape[0]):\n",
    "    \n",
    "    try:\n",
    "        laureate_dict[\"id\"].append(laureate.iloc[index, 0][\"id\"])\n",
    "    except:\n",
    "        laureate_dict[\"id\"].append(None)\n",
    "    \n",
    "    try:\n",
    "        laureate_dict[\"firstname\"].append(laureate.iloc[index, 0][\"firstname\"])\n",
    "    except:\n",
    "        laureate_dict[\"firstname\"].append(None)\n",
    "        \n",
    "    try:\n",
    "        laureate_dict[\"surname\"].append(laureate.iloc[index, 0][\"surname\"])\n",
    "    except:\n",
    "        laureate_dict[\"surname\"].append(None)\n",
    "        \n",
    "    try:\n",
    "        laureate_dict[\"born\"].append(laureate.iloc[index, 0][\"born\"])\n",
    "    except:\n",
    "        laureate_dict[\"born\"].append(None)\n",
    "        \n",
    "    try:\n",
    "        laureate_dict[\"died\"].append(laureate.iloc[index, 0][\"died\"])\n",
    "    except:\n",
    "        laureate_dict[\"died\"].append(None)\n",
    "         \n",
    "    try:\n",
    "        laureate_dict[\"bornCountry\"].append(laureate.iloc[index, 0][\"bornCountry\"])\n",
    "    except:\n",
    "        laureate_dict[\"bornCountry\"].append(None)\n",
    "        \n",
    "    try:\n",
    "        laureate_dict[\"bornCountryCode\"].append(laureate.iloc[index, 0][\"bornCountryCode\"])\n",
    "    except:\n",
    "        laureate_dict[\"bornCountryCode\"].append(None)\n",
    "        \n",
    "    try:\n",
    "        laureate_dict[\"bornCity\"].append(laureate.iloc[index, 0][\"bornCity\"])\n",
    "    except:\n",
    "        laureate_dict[\"bornCity\"].append(None)\n",
    "        \n",
    "    try:\n",
    "        laureate_dict[\"diedCountry\"].append(laureate.iloc[index, 0][\"diedCountry\"])\n",
    "    except:\n",
    "        laureate_dict[\"diedCountry\"].append(None)\n",
    "        \n",
    "    try:\n",
    "        laureate_dict[\"diedCountryCode\"].append(laureate.iloc[index, 0][\"diedCountryCode\"])\n",
    "    except:\n",
    "        laureate_dict[\"diedCountryCode\"].append(None)\n",
    "        \n",
    "    try:\n",
    "        laureate_dict[\"gender\"].append(laureate.iloc[index, 0][\"gender\"])\n",
    "    except:\n",
    "        laureate_dict[\"gender\"].append(None)\n",
    "        "
   ]
  },
  {
   "cell_type": "code",
   "execution_count": 65,
   "metadata": {},
   "outputs": [],
   "source": [
    "laureate_csv_data = pandas.DataFrame(laureate_dict)"
   ]
  },
  {
   "cell_type": "code",
   "execution_count": 66,
   "metadata": {},
   "outputs": [],
   "source": [
    "laureate_csv_data.to_csv(\"nobel_laureate.csv\", index_label = \"row_index\")"
   ]
  }
 ],
 "metadata": {
  "kernelspec": {
   "display_name": "Python 3",
   "language": "python",
   "name": "python3"
  },
  "language_info": {
   "codemirror_mode": {
    "name": "ipython",
    "version": 3
   },
   "file_extension": ".py",
   "mimetype": "text/x-python",
   "name": "python",
   "nbconvert_exporter": "python",
   "pygments_lexer": "ipython3",
   "version": "3.6.5"
  },
  "toc": {
   "base_numbering": 1.0,
   "nav_menu": {},
   "number_sections": true,
   "sideBar": true,
   "skip_h1_title": false,
   "title_cell": "Table of Contents",
   "title_sidebar": "Contents",
   "toc_cell": false,
   "toc_position": {},
   "toc_section_display": true,
   "toc_window_display": false
  },
  "varInspector": {
   "cols": {
    "lenName": 16.0,
    "lenType": 16.0,
    "lenVar": 40.0
   },
   "kernels_config": {
    "python": {
     "delete_cmd_postfix": "",
     "delete_cmd_prefix": "del ",
     "library": "var_list.py",
     "varRefreshCmd": "print(var_dic_list())"
    },
    "r": {
     "delete_cmd_postfix": ") ",
     "delete_cmd_prefix": "rm(",
     "library": "var_list.r",
     "varRefreshCmd": "cat(var_dic_list()) "
    }
   },
   "types_to_exclude": [
    "module",
    "function",
    "builtin_function_or_method",
    "instance",
    "_Feature"
   ],
   "window_display": false
  }
 },
 "nbformat": 4,
 "nbformat_minor": 1
}
