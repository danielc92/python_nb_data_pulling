{
 "cells": [
  {
   "cell_type": "markdown",
   "metadata": {},
   "source": [
    "# Canvas Pull"
   ]
  },
  {
   "cell_type": "markdown",
   "metadata": {},
   "source": [
    "## About\n",
    "- Parses **'html file'** extracted from vcdi's confluence page and exports .csvs containing canvas information"
   ]
  },
  {
   "cell_type": "markdown",
   "metadata": {},
   "source": [
    "## How to obtain 'html file'\n",
    "- Load canvas page in confluence\n",
    "- Right click, inspect element\n",
    "- Right click on html body, copy inner code\n",
    "- Paste in editor (notepad++, sublime etc)\n",
    "- Save as .html\n",
    "- Link path into this script"
   ]
  },
  {
   "cell_type": "markdown",
   "metadata": {},
   "source": [
    "## Setup"
   ]
  },
  {
   "cell_type": "code",
   "execution_count": 1,
   "metadata": {},
   "outputs": [],
   "source": [
    "import pandas\n",
    "import requests\n",
    "import datetime\n",
    "import bs4\n",
    "\n",
    "timestamp = datetime.datetime.now().strftime(\"%d-%b-%y\")"
   ]
  },
  {
   "cell_type": "code",
   "execution_count": 2,
   "metadata": {},
   "outputs": [
    {
     "data": {
      "text/plain": [
       "'today is: 06-Jun-18'"
      ]
     },
     "execution_count": 2,
     "metadata": {},
     "output_type": "execute_result"
    }
   ],
   "source": [
    "\"today is: \" + timestamp"
   ]
  },
  {
   "cell_type": "code",
   "execution_count": 3,
   "metadata": {},
   "outputs": [],
   "source": [
    "#output folder path\n",
    "output_folder_path = \"/users/danielcorcoran/desktop/Confluence Files/outputs/canvas/\"\n",
    "\n",
    "input_html_file_path = \"/users/danielcorcoran/desktop/Confluence Files/inputs/canvas_page.html\"\n",
    "#input_html_file_path = \"/users/danielcorcoran/desktop/farm.html\""
   ]
  },
  {
   "cell_type": "code",
   "execution_count": 4,
   "metadata": {},
   "outputs": [],
   "source": [
    "soup = bs4.BeautifulSoup(open(input_html_file_path), \"html.parser\")"
   ]
  },
  {
   "cell_type": "markdown",
   "metadata": {},
   "source": [
    "### How each cell's contents will be stored"
   ]
  },
  {
   "cell_type": "raw",
   "metadata": {},
   "source": [
    "Project Table;\n",
    "    'PROJECT CODE:'\n",
    "    'PROJECT NAME:'\n",
    "    'START DATE:'\n",
    "    'CURRENT PHASE:'\n",
    "    'PROBLEM SUMMARY:'\n",
    "    'STATUS:'\n",
    "\n",
    "Teams Table:\n",
    "    'PROJECT TEAM:'\n",
    "\n",
    "Stakeholders Table:\n",
    "    'STAKEHOLDERS:'\n",
    "    \n",
    "BuildingBlocks Table:\n",
    "    'BUILDING BLOCKS OUTCOMES:'\n",
    "\n",
    "Analytics Table:\n",
    "    'TYPES OF ANALYTICS:'\n",
    "\n",
    "ProjectOutcomes\n",
    "    'PROJECT OUTCOMES:'\n",
    "\n",
    "Benefits Table:\n",
    "    'BENEFITS:'\n",
    "\n",
    "Milestones Table:\n",
    "    'HIGH LEVEL MILESTONES (WITH EXPECTED START AND END DATES):'\n",
    "\n",
    "BudgetCost Table:\n",
    "    'BUDGET & COSTS:'\n",
    "\n",
    "Risks Table:\n",
    "    'RISKS:'\n",
    "\n",
    "Issues Table:\n",
    "    'ISSUES:'"
   ]
  },
  {
   "cell_type": "markdown",
   "metadata": {},
   "source": [
    "### Create dictionaries to store data"
   ]
  },
  {
   "cell_type": "code",
   "execution_count": 5,
   "metadata": {},
   "outputs": [],
   "source": [
    "project_info = {\"project_code\": [], \"project_name\": [], \"project_start_date\": [],\n",
    "                \"project_current_phase\": [], \"project_status\": [], \"problem_summary\": []}\n",
    "\n",
    "teams = {\"project_code\": [], \"team_member_desc\": []}\n",
    "\n",
    "stakeholders = {\"project_code\": [], \"stakeholder_desc\": []}\n",
    "\n",
    "buildingblocks = {\"project_code\": [], \"building_blocks_desc\": []}\n",
    "\n",
    "analytics = {\"project_code\": [], \"analytics_desc\": []}\n",
    "\n",
    "project_outcomes = {\"project_code\": [], \"project_outcome_desc\": []}\n",
    "\n",
    "benefits = {\"project_code\": [], \"benefits_desc\": []}\n",
    "\n",
    "milestones = {\"project_code\": [], \"milestone_desc\": []}\n",
    "\n",
    "budgetcost = {\"project_code\": [], \"budget_cost_desc\": []}\n",
    "\n",
    "issues = {\"project_code\": [], \"issues_desc\": []}\n",
    "\n",
    "risks = {\"project_code\": [], \"risks_desc\": []}"
   ]
  },
  {
   "cell_type": "markdown",
   "metadata": {},
   "source": [
    "## Functions"
   ]
  },
  {
   "cell_type": "markdown",
   "metadata": {},
   "source": [
    "### Remove last two chars from string"
   ]
  },
  {
   "cell_type": "code",
   "execution_count": 6,
   "metadata": {},
   "outputs": [],
   "source": [
    "def remove_last_two_chars(string):\n",
    "    \n",
    "    if len(string) > 3:\n",
    "        string = string[:len(string)-3]\n",
    "        \n",
    "    return string"
   ]
  },
  {
   "cell_type": "markdown",
   "metadata": {},
   "source": [
    "### Clean a string"
   ]
  },
  {
   "cell_type": "code",
   "execution_count": 7,
   "metadata": {},
   "outputs": [],
   "source": [
    "def clean_a_string(string):\n",
    "    string = string.upper().strip()\n",
    "    \n",
    "    while \"  \" in string:\n",
    "        string = string.replace(\"  \",\" \")\n",
    "        \n",
    "    while \",\" in string:\n",
    "        string = string.replace(\",\",\" \")\n",
    "\n",
    "    while \"'\" in string:\n",
    "        string = string.replace(\"'\",\" \")\n",
    "        \n",
    "    string = string.replace(\"\\xa0\",\" \")\n",
    "        \n",
    "    string = string.strip()\n",
    "    \n",
    "    return string"
   ]
  },
  {
   "cell_type": "markdown",
   "metadata": {},
   "source": [
    "### Remove h3 tags from a string"
   ]
  },
  {
   "cell_type": "code",
   "execution_count": 8,
   "metadata": {},
   "outputs": [],
   "source": [
    "def remove_h3_tags(string):\n",
    "    \n",
    "    unwanted_phrases = ['PROJECT CODE:',\n",
    "                        'PROJECT NAME:',\n",
    "                        'PROJECT TEAM:',\n",
    "                        'START DATE:',\n",
    "                        'CURRENT PHASE:',\n",
    "                        'STATUS:',\n",
    "                        'STAKEHOLDERS:',\n",
    "                        'BUILDING BLOCKS OUTCOMES:',\n",
    "                        'TYPES OF ANALYTICS:',\n",
    "                        'PROBLEM SUMMARY:',\n",
    "                        'PROJECT OUTCOMES:',\n",
    "                        'BENEFITS:',\n",
    "                        'HIGH LEVEL MILESTONES (WITH EXPECTED START AND END DATES):',\n",
    "                        'BUDGET & COSTS:',\n",
    "                        'RISKS:',\n",
    "                        'ISSUES:']\n",
    "    \n",
    "    for phrase in unwanted_phrases:\n",
    "        if phrase in string:\n",
    "            string = string.replace(phrase, \" \")\n",
    "    \n",
    "    string = string.strip()\n",
    "    \n",
    "    return string"
   ]
  },
  {
   "cell_type": "markdown",
   "metadata": {},
   "source": [
    "## Start Processing "
   ]
  },
  {
   "cell_type": "markdown",
   "metadata": {},
   "source": [
    "### Target all confluenceTd elements (table cells) store them in list"
   ]
  },
  {
   "cell_type": "code",
   "execution_count": 9,
   "metadata": {},
   "outputs": [],
   "source": [
    "cells = soup.find_all(\"td\", {\"class\":\"confluenceTd\"})"
   ]
  },
  {
   "cell_type": "markdown",
   "metadata": {},
   "source": [
    "### Locate Project Code"
   ]
  },
  {
   "cell_type": "code",
   "execution_count": 10,
   "metadata": {},
   "outputs": [
    {
     "data": {
      "text/plain": [
       "'150'"
      ]
     },
     "execution_count": 10,
     "metadata": {},
     "output_type": "execute_result"
    }
   ],
   "source": [
    "for table_cell in cells:\n",
    "    \n",
    "    if table_cell.find(\"h3\"):\n",
    "        \n",
    "        h3_text = table_cell.find(\"h3\").text\n",
    "        h3_text_cleaned = clean_a_string(h3_text)\n",
    "        \n",
    "        if h3_text_cleaned == \"PROJECT CODE:\":\n",
    "            project_code = remove_h3_tags(clean_a_string(table_cell.text))\n",
    "            \n",
    "project_code"
   ]
  },
  {
   "cell_type": "markdown",
   "metadata": {},
   "source": [
    "### Locate Project Name"
   ]
  },
  {
   "cell_type": "code",
   "execution_count": 11,
   "metadata": {},
   "outputs": [
    {
     "data": {
      "text/plain": [
       "'EXAMPLE PROJECT NAME'"
      ]
     },
     "execution_count": 11,
     "metadata": {},
     "output_type": "execute_result"
    }
   ],
   "source": [
    "for table_cell in cells:\n",
    "    \n",
    "    if table_cell.find(\"h3\"):\n",
    "        \n",
    "        h3_text = table_cell.find(\"h3\").text\n",
    "        h3_text_cleaned = clean_a_string(h3_text)\n",
    "        \n",
    "        if h3_text_cleaned == \"PROJECT NAME:\":\n",
    "            project_name = remove_h3_tags(clean_a_string(table_cell.text))\n",
    "            \n",
    "project_name"
   ]
  },
  {
   "cell_type": "markdown",
   "metadata": {},
   "source": [
    "### Locate Problem Summary"
   ]
  },
  {
   "cell_type": "code",
   "execution_count": 12,
   "metadata": {},
   "outputs": [
    {
     "data": {
      "text/plain": [
       "'REVENUE FROM SPEED AND RED LIGHT CAMERAS ALONE ARE EXPECTED TO BE $393 MILLION IN 2017-18  INCREASING TO $421 MILLION BY 2020-21.THE BUDGET ALSO ESTIMATES REVENUE FROM ON-THE-SPOT FINES AND TOLL ROAD EVASION WILL CONTINUE TO GROW.THERE ARE CURRENTLY APPROXIMATELY $2 BILLION UNPAID FINES WITH THE AVERAGE BEING GREATER THAN 1 YEAR OLD.'"
      ]
     },
     "execution_count": 12,
     "metadata": {},
     "output_type": "execute_result"
    }
   ],
   "source": [
    "for table_cell in cells:\n",
    "    \n",
    "    if table_cell.find(\"h3\"):\n",
    "        \n",
    "        h3_text = table_cell.find(\"h3\").text\n",
    "        h3_text_cleaned = clean_a_string(h3_text)\n",
    "        \n",
    "        if h3_text_cleaned == \"PROBLEM SUMMARY:\":\n",
    "            problem_summary = remove_h3_tags(clean_a_string(table_cell.text))\n",
    "            \n",
    "problem_summary"
   ]
  },
  {
   "cell_type": "markdown",
   "metadata": {},
   "source": [
    "### Locate Start Date"
   ]
  },
  {
   "cell_type": "code",
   "execution_count": 13,
   "metadata": {},
   "outputs": [
    {
     "data": {
      "text/plain": [
       "'18 OCT 2017'"
      ]
     },
     "execution_count": 13,
     "metadata": {},
     "output_type": "execute_result"
    }
   ],
   "source": [
    "for table_cell in cells:\n",
    "    \n",
    "    if table_cell.find(\"h3\"):\n",
    "        \n",
    "        h3_text = table_cell.find(\"h3\").text\n",
    "        h3_text_cleaned = clean_a_string(h3_text)\n",
    "        \n",
    "        if h3_text_cleaned == \"START DATE:\":\n",
    "            project_start_date = remove_h3_tags(clean_a_string(table_cell.text))\n",
    "            \n",
    "project_start_date"
   ]
  },
  {
   "cell_type": "markdown",
   "metadata": {},
   "source": [
    "### Locate Current Phase "
   ]
  },
  {
   "cell_type": "code",
   "execution_count": 14,
   "metadata": {},
   "outputs": [
    {
     "data": {
      "text/plain": [
       "'DISCOVERY'"
      ]
     },
     "execution_count": 14,
     "metadata": {},
     "output_type": "execute_result"
    }
   ],
   "source": [
    "for table_cell in cells:\n",
    "    \n",
    "    if table_cell.find(\"h3\"):\n",
    "        \n",
    "        h3_text = table_cell.find(\"h3\").text\n",
    "        h3_text_cleaned = clean_a_string(h3_text)\n",
    "        \n",
    "        if h3_text_cleaned == \"CURRENT PHASE:\":\n",
    "            project_phase = remove_h3_tags(clean_a_string(table_cell.text))\n",
    "            \n",
    "project_phase"
   ]
  },
  {
   "cell_type": "markdown",
   "metadata": {},
   "source": [
    "### Locate Status"
   ]
  },
  {
   "cell_type": "code",
   "execution_count": 15,
   "metadata": {},
   "outputs": [
    {
     "data": {
      "text/plain": [
       "'GREEN'"
      ]
     },
     "execution_count": 15,
     "metadata": {},
     "output_type": "execute_result"
    }
   ],
   "source": [
    "for table_cell in cells:\n",
    "    \n",
    "    if table_cell.find(\"h3\"):\n",
    "        \n",
    "        h3_text = table_cell.find(\"h3\").text\n",
    "        h3_text_cleaned = clean_a_string(h3_text)\n",
    "        \n",
    "        if h3_text_cleaned == \"STATUS:\":\n",
    "            project_status = remove_h3_tags(clean_a_string(table_cell.text))\n",
    "            \n",
    "project_status"
   ]
  },
  {
   "cell_type": "markdown",
   "metadata": {},
   "source": [
    "### Add to projects table "
   ]
  },
  {
   "cell_type": "code",
   "execution_count": 16,
   "metadata": {},
   "outputs": [],
   "source": [
    "project_info[\"project_code\"].append(project_code)\n",
    "project_info[\"project_name\"].append(project_name)\n",
    "project_info[\"project_start_date\"].append(project_start_date)\n",
    "project_info[\"project_status\"].append(project_status)\n",
    "project_info[\"problem_summary\"].append(problem_summary)\n",
    "project_info[\"project_current_phase\"].append(project_phase)"
   ]
  },
  {
   "cell_type": "markdown",
   "metadata": {},
   "source": [
    "### Set sep variable"
   ]
  },
  {
   "cell_type": "code",
   "execution_count": 17,
   "metadata": {},
   "outputs": [],
   "source": [
    "sep = \" | \""
   ]
  },
  {
   "cell_type": "markdown",
   "metadata": {},
   "source": [
    "### Locate Project Team"
   ]
  },
  {
   "cell_type": "code",
   "execution_count": 18,
   "metadata": {},
   "outputs": [
    {
     "data": {
      "text/plain": [
       "{'project_code': ['150', '150', '150'],\n",
       " 'team_member_desc': ['NAME  -  POSITION TITLE .',\n",
       "  'NAME  -  POSITION TITLE .',\n",
       "  'NAME  -  POSITION TITLE .']}"
      ]
     },
     "execution_count": 18,
     "metadata": {},
     "output_type": "execute_result"
    }
   ],
   "source": [
    "teams_combined = \"\"\n",
    "\n",
    "for table_cell in cells:\n",
    "    \n",
    "    if table_cell.find(\"h3\"):\n",
    "        \n",
    "        h3_text = table_cell.find(\"h3\").text\n",
    "        h3_text_cleaned = clean_a_string(h3_text)\n",
    "        \n",
    "        if h3_text_cleaned == \"PROJECT TEAM:\":\n",
    "            list_members = table_cell.find(\"ul\")\n",
    "            for item in list_members:\n",
    "                cleaned_item = clean_a_string(item.text)\n",
    "                teams[\"team_member_desc\"].append(cleaned_item)\n",
    "                teams_combined = teams_combined + cleaned_item + sep\n",
    "                teams[\"project_code\"].append(project_code)\n",
    "                \n",
    "teams"
   ]
  },
  {
   "cell_type": "markdown",
   "metadata": {},
   "source": [
    "### Locate Stakeholders"
   ]
  },
  {
   "cell_type": "code",
   "execution_count": 19,
   "metadata": {},
   "outputs": [
    {
     "data": {
      "text/plain": [
       "{'project_code': ['150', '150', '150'],\n",
       " 'stakeholder_desc': ['DEPARTMENT AND BUSINESS UNIT -  NAME .',\n",
       "  'NAME OF EXECUTIVE SPONSOR -  NAME .',\n",
       "  'NAME OF CONTACT PERSON -  NAME .']}"
      ]
     },
     "execution_count": 19,
     "metadata": {},
     "output_type": "execute_result"
    }
   ],
   "source": [
    "stakeholders_combined = \"\"\n",
    "\n",
    "for table_cell in cells:\n",
    "    \n",
    "    if table_cell.find(\"h3\"):\n",
    "        \n",
    "        h3_text = table_cell.find(\"h3\").text\n",
    "        h3_text_cleaned = clean_a_string(h3_text)\n",
    "        \n",
    "        if h3_text_cleaned == \"STAKEHOLDERS:\":\n",
    "            list_members = table_cell.find(\"ul\")\n",
    "            for item in list_members:\n",
    "                cleaned_item = clean_a_string(item.text)\n",
    "                stakeholders[\"stakeholder_desc\"].append(cleaned_item)\n",
    "                stakeholders_combined = stakeholders_combined + cleaned_item + sep\n",
    "                stakeholders[\"project_code\"].append(project_code)\n",
    "                \n",
    "stakeholders"
   ]
  },
  {
   "cell_type": "markdown",
   "metadata": {},
   "source": [
    "### Locate Project Outcomes"
   ]
  },
  {
   "cell_type": "code",
   "execution_count": 20,
   "metadata": {},
   "outputs": [
    {
     "data": {
      "text/plain": [
       "{'project_code': ['150', '150', '150'],\n",
       " 'project_outcome_desc': ['REDUCE AGED DEBT BY 10% WITHIN 12 MONTHS.',\n",
       "  'REDUCE AVERAGE AGE OF OVERDUE FEES TO LESS THAN 1 YEAR WITHIN 6 MONTHS.',\n",
       "  'REDUCE OPERATIONAL COSTS BY 10% BY 2020.']}"
      ]
     },
     "execution_count": 20,
     "metadata": {},
     "output_type": "execute_result"
    }
   ],
   "source": [
    "project_outcomes_combined = \"\"\n",
    "\n",
    "for table_cell in cells:\n",
    "    \n",
    "    if table_cell.find(\"h3\"):\n",
    "        \n",
    "        h3_text = table_cell.find(\"h3\").text\n",
    "        h3_text_cleaned = clean_a_string(h3_text)\n",
    "        \n",
    "        if h3_text_cleaned == \"PROJECT OUTCOMES:\":\n",
    "            list_members = table_cell.find(\"ul\")\n",
    "            for item in list_members:\n",
    "                cleaned_item = clean_a_string(item.text)\n",
    "                project_outcomes[\"project_outcome_desc\"].append(cleaned_item)\n",
    "                project_outcomes_combined = project_outcomes_combined + cleaned_item + sep\n",
    "                project_outcomes[\"project_code\"].append(project_code)\n",
    "                \n",
    "project_outcomes"
   ]
  },
  {
   "cell_type": "markdown",
   "metadata": {},
   "source": [
    "### Locate Benefits "
   ]
  },
  {
   "cell_type": "code",
   "execution_count": 21,
   "metadata": {},
   "outputs": [
    {
     "data": {
      "text/plain": [
       "{'project_code': ['150', '150', '150', '150'],\n",
       " 'benefits_desc': ['ADVANCE IMES S SELF-SERVICE ANALYTICS CAPABILITIES.',\n",
       "  'REDUCE AGED DEBT.',\n",
       "  'REDUCE OPERATIONAL COSTS OF MANAGING AND COLLECTING.',\n",
       "  'CHANGE BEHAVIOUR OF FUTURE DEFENDANTS.']}"
      ]
     },
     "execution_count": 21,
     "metadata": {},
     "output_type": "execute_result"
    }
   ],
   "source": [
    "benefits_combined = \"\"\n",
    "\n",
    "for table_cell in cells:\n",
    "    \n",
    "    if table_cell.find(\"h3\"):\n",
    "        \n",
    "        h3_text = table_cell.find(\"h3\").text\n",
    "        h3_text_cleaned = clean_a_string(h3_text)\n",
    "        \n",
    "        if h3_text_cleaned == \"BENEFITS:\":\n",
    "            list_members = table_cell.find(\"ul\")\n",
    "            for item in list_members:\n",
    "                cleaned_item = clean_a_string(item.text)\n",
    "                benefits[\"benefits_desc\"].append(cleaned_item)\n",
    "                benefits_combined = benefits_combined + cleaned_item + sep\n",
    "                benefits[\"project_code\"].append(project_code)\n",
    "                \n",
    "benefits"
   ]
  },
  {
   "cell_type": "markdown",
   "metadata": {},
   "source": [
    "### Locate Budget & Costs"
   ]
  },
  {
   "cell_type": "code",
   "execution_count": 22,
   "metadata": {},
   "outputs": [
    {
     "data": {
      "text/plain": [
       "{'project_code': ['150', '150'],\n",
       " 'budget_cost_desc': ['BUDGET - $12.', 'COSTS - $5.']}"
      ]
     },
     "execution_count": 22,
     "metadata": {},
     "output_type": "execute_result"
    }
   ],
   "source": [
    "budgetcost_combined= \"\"\n",
    "\n",
    "for table_cell in cells:\n",
    "    \n",
    "    if table_cell.find(\"h3\"):\n",
    "        \n",
    "        h3_text = table_cell.find(\"h3\").text\n",
    "        h3_text_cleaned = clean_a_string(h3_text)\n",
    "        \n",
    "        if h3_text_cleaned == \"BUDGET & COSTS:\":\n",
    "            list_members = table_cell.find(\"ul\")\n",
    "            for item in list_members:\n",
    "                cleaned_item = clean_a_string(item.text)\n",
    "                budgetcost[\"budget_cost_desc\"].append(cleaned_item)\n",
    "                budgetcost_combined = budgetcost_combined + cleaned_item + sep\n",
    "                budgetcost[\"project_code\"].append(project_code)\n",
    "                \n",
    "budgetcost"
   ]
  },
  {
   "cell_type": "markdown",
   "metadata": {},
   "source": [
    "### Locate Issues"
   ]
  },
  {
   "cell_type": "code",
   "execution_count": 23,
   "metadata": {},
   "outputs": [
    {
     "data": {
      "text/plain": [
       "{'project_code': ['150', '150', '150', '150'],\n",
       " 'issues_desc': ['ISSUE 1 - INFORMATION ABOUT ISSUE 1.',\n",
       "  'ISSUE 2 - INFORMATION ABOUT ISSUE 2.',\n",
       "  'ISSUE 3 - INFORMATION ABOUT ISSUE 3.',\n",
       "  'ISSUE 4 - INFORMATION ABOUT ISSUE 4.']}"
      ]
     },
     "execution_count": 23,
     "metadata": {},
     "output_type": "execute_result"
    }
   ],
   "source": [
    "issues_combined = \"\"\n",
    "\n",
    "for table_cell in cells:\n",
    "    \n",
    "    if table_cell.find(\"h3\"):\n",
    "        \n",
    "        h3_text = table_cell.find(\"h3\").text\n",
    "        h3_text_cleaned = clean_a_string(h3_text)\n",
    "        \n",
    "        if h3_text_cleaned == \"ISSUES:\":\n",
    "            list_members = table_cell.find(\"ul\")\n",
    "            for item in list_members:\n",
    "                cleaned_item = clean_a_string(item.text)\n",
    "                issues[\"issues_desc\"].append(cleaned_item)\n",
    "                issues_combined = issues_combined + cleaned_item + sep\n",
    "                issues[\"project_code\"].append(project_code)\n",
    "                \n",
    "issues"
   ]
  },
  {
   "cell_type": "markdown",
   "metadata": {},
   "source": [
    "### Locate Risks"
   ]
  },
  {
   "cell_type": "code",
   "execution_count": 24,
   "metadata": {},
   "outputs": [
    {
     "data": {
      "text/plain": [
       "{'project_code': ['150', '150', '150', '150'],\n",
       " 'risks_desc': ['RISK 1 - INFORMATION ABOUT RISK 1.',\n",
       "  'RISK 2 - INFORMATION ABOUT RISK 2.',\n",
       "  'RISK 3 - INFORMATION ABOUT RISK 3.',\n",
       "  'RISK 4 - INFORMATION ABOUT RISK 4.']}"
      ]
     },
     "execution_count": 24,
     "metadata": {},
     "output_type": "execute_result"
    }
   ],
   "source": [
    "risks_combined = \"\"\n",
    "\n",
    "for table_cell in cells:\n",
    "    \n",
    "    if table_cell.find(\"h3\"):\n",
    "        \n",
    "        h3_text = table_cell.find(\"h3\").text\n",
    "        h3_text_cleaned = clean_a_string(h3_text)\n",
    "        \n",
    "        if h3_text_cleaned == \"RISKS:\":\n",
    "            list_members = table_cell.find(\"ul\")\n",
    "            for item in list_members:\n",
    "                cleaned_item = clean_a_string(item.text)\n",
    "                risks[\"risks_desc\"].append(cleaned_item)\n",
    "                risks_combined = risks_combined + cleaned_item + sep\n",
    "                risks[\"project_code\"].append(project_code)\n",
    "\n",
    "risks"
   ]
  },
  {
   "cell_type": "markdown",
   "metadata": {},
   "source": [
    "### Locate Milestones"
   ]
  },
  {
   "cell_type": "code",
   "execution_count": 25,
   "metadata": {},
   "outputs": [
    {
     "data": {
      "text/plain": [
       "{'project_code': ['150', '150', '150'],\n",
       " 'milestone_desc': ['INFORMATION ABOUT MILESTONE 1  TIMEFRAME:01 MAY 2018 TO 23 MAY 2018.',\n",
       "  'INFORMATION ABOUT MILESTONE 2  TIMEFRAME:03 MAY 2018 TO 24 MAY 2018.',\n",
       "  'INFORMATION ABOUT MILESTONE 3  TIMEFRAME:07 MAY 2018 TO 22 MAY 2018.']}"
      ]
     },
     "execution_count": 25,
     "metadata": {},
     "output_type": "execute_result"
    }
   ],
   "source": [
    "milestones_combined = \"\"\n",
    "\n",
    "for table_cell in cells:\n",
    "    \n",
    "    if table_cell.find(\"h3\"):\n",
    "        \n",
    "        h3_text = table_cell.find(\"h3\").text\n",
    "        h3_text_cleaned = clean_a_string(h3_text)\n",
    "        \n",
    "        if h3_text_cleaned == \"HIGH LEVEL MILESTONES (WITH EXPECTED START AND END DATES):\":\n",
    "            list_members = table_cell.find(\"ul\")\n",
    "            for item in list_members:\n",
    "                cleaned_item = clean_a_string(item.text)\n",
    "                milestones[\"milestone_desc\"].append(cleaned_item)\n",
    "                milestones_combined = milestones_combined + cleaned_item + sep\n",
    "                milestones[\"project_code\"].append(project_code)\n",
    "                \n",
    "milestones"
   ]
  },
  {
   "cell_type": "markdown",
   "metadata": {},
   "source": [
    "### Locate Analytics Types"
   ]
  },
  {
   "cell_type": "code",
   "execution_count": 26,
   "metadata": {},
   "outputs": [
    {
     "data": {
      "text/plain": [
       "{'project_code': ['150'], 'analytics_desc': ['PRESCRIPTIVE']}"
      ]
     },
     "execution_count": 26,
     "metadata": {},
     "output_type": "execute_result"
    }
   ],
   "source": [
    "analytics_combined = \"\"\n",
    "\n",
    "for table_cell in cells:\n",
    "    \n",
    "    if table_cell.find(\"h3\"):\n",
    "        \n",
    "        h3_text = table_cell.find(\"h3\").text\n",
    "        h3_text_cleaned = clean_a_string(h3_text)\n",
    "        \n",
    "        if h3_text_cleaned == \"TYPES OF ANALYTICS:\":\n",
    "            \n",
    "            unordered_list = table_cell.find(\"ul\")\n",
    "            list_items = unordered_list.find_all(\"li\")\n",
    "            \n",
    "            for item in list_items:\n",
    "                item_class = item.get(\"class\")\n",
    "                \n",
    "                if item_class == [\"checked\"]:\n",
    "                    cleaned_item = clean_a_string(item.text)\n",
    "                    analytics[\"analytics_desc\"].append(cleaned_item)\n",
    "                    analytics_combined = analytics_combined + cleaned_item + sep\n",
    "                    analytics[\"project_code\"].append(project_code)\n",
    "                    \n",
    "analytics"
   ]
  },
  {
   "cell_type": "markdown",
   "metadata": {},
   "source": [
    "### Locate Building Blocks"
   ]
  },
  {
   "cell_type": "code",
   "execution_count": 27,
   "metadata": {},
   "outputs": [
    {
     "data": {
      "text/plain": [
       "{'project_code': ['150', '150'],\n",
       " 'building_blocks_desc': ['JOBS NOW', 'FAIRNESS AND EQUITY']}"
      ]
     },
     "execution_count": 27,
     "metadata": {},
     "output_type": "execute_result"
    }
   ],
   "source": [
    "buildingblocks_combined = \"\"\n",
    "\n",
    "for table_cell in cells:\n",
    "    \n",
    "    if table_cell.find(\"h3\"):\n",
    "        \n",
    "        h3_text = table_cell.find(\"h3\").text\n",
    "        h3_text_cleaned = clean_a_string(h3_text)\n",
    "        \n",
    "        if h3_text_cleaned == \"BUILDING BLOCKS OUTCOMES:\":\n",
    "            \n",
    "            unordered_list = table_cell.find(\"ul\")\n",
    "            list_items = unordered_list.find_all(\"li\")\n",
    "            \n",
    "            for item in list_items:\n",
    "                item_class = item.get(\"class\")\n",
    "                \n",
    "                if item_class == [\"checked\"]:\n",
    "                    cleaned_item = clean_a_string(item.text)\n",
    "                    buildingblocks[\"building_blocks_desc\"].append(cleaned_item)\n",
    "                    buildingblocks_combined = buildingblocks_combined + cleaned_item + sep\n",
    "                    buildingblocks[\"project_code\"].append(project_code)\n",
    "                    \n",
    "buildingblocks"
   ]
  },
  {
   "cell_type": "markdown",
   "metadata": {},
   "source": [
    "## Create Dataframes from each dictionary and export to csv with timestamp and row index"
   ]
  },
  {
   "cell_type": "code",
   "execution_count": 28,
   "metadata": {},
   "outputs": [],
   "source": [
    "project_info_data = pandas.concat([pandas.DataFrame(project_info)])\n",
    "\n",
    "project_info_data[\"date_extracted\"] = timestamp\n",
    "\n",
    "project_info_data.to_csv(output_folder_path + \"project_info_data_\"+str(project_code)+\".csv\", \n",
    "                         index_label = \"project_info_row_index\")"
   ]
  },
  {
   "cell_type": "code",
   "execution_count": 29,
   "metadata": {},
   "outputs": [],
   "source": [
    "teams_data = pandas.concat([pandas.DataFrame(teams)])\n",
    "\n",
    "teams_data[\"date_extracted\"] = timestamp\n",
    "\n",
    "teams_data.to_csv(output_folder_path + \"teams_data_\"+str(project_code)+\".csv\", \n",
    "                         index_label = \"teams_row_index\")"
   ]
  },
  {
   "cell_type": "code",
   "execution_count": 30,
   "metadata": {},
   "outputs": [],
   "source": [
    "building_blocks_data = pandas.concat([pandas.DataFrame(buildingblocks)])\n",
    "\n",
    "building_blocks_data[\"date_extracted\"] = timestamp\n",
    "\n",
    "building_blocks_data.to_csv(output_folder_path + \"building_blocks_data_\"+str(project_code)+\".csv\", \n",
    "                         index_label = \"building_blocks_row_index\")"
   ]
  },
  {
   "cell_type": "code",
   "execution_count": 31,
   "metadata": {},
   "outputs": [],
   "source": [
    "analytics_data = pandas.concat([pandas.DataFrame(analytics)])\n",
    "\n",
    "analytics_data[\"date_extracted\"] = timestamp\n",
    "\n",
    "analytics_data.to_csv(output_folder_path + \"analytics_data_\"+str(project_code)+\".csv\", \n",
    "                         index_label = \"analytics_row_index\")"
   ]
  },
  {
   "cell_type": "code",
   "execution_count": 32,
   "metadata": {},
   "outputs": [],
   "source": [
    "project_outcomes_data = pandas.concat([pandas.DataFrame(project_outcomes)])\n",
    "\n",
    "project_outcomes_data[\"date_extracted\"] = timestamp\n",
    "\n",
    "project_outcomes_data.to_csv(output_folder_path + \"project_outcomes_data_\"+str(project_code)+\".csv\", \n",
    "                         index_label = \"project_outcomes_row_index\")"
   ]
  },
  {
   "cell_type": "code",
   "execution_count": 33,
   "metadata": {},
   "outputs": [],
   "source": [
    "benefits_data = pandas.concat([pandas.DataFrame(benefits)])\n",
    "\n",
    "benefits_data[\"date_extracted\"] = timestamp\n",
    "\n",
    "benefits_data.to_csv(output_folder_path + \"benefits_data_\"+str(project_code)+\".csv\", \n",
    "                         index_label = \"benefits_row_index\")"
   ]
  },
  {
   "cell_type": "code",
   "execution_count": 34,
   "metadata": {},
   "outputs": [],
   "source": [
    "milestones_data = pandas.concat([pandas.DataFrame(milestones)])\n",
    "\n",
    "milestones_data[\"date_extracted\"] = timestamp\n",
    "\n",
    "milestones_data.to_csv(output_folder_path + \"milestones_data_\"+str(project_code)+\".csv\", \n",
    "                         index_label = \"milestones_row_index\")"
   ]
  },
  {
   "cell_type": "code",
   "execution_count": 35,
   "metadata": {},
   "outputs": [],
   "source": [
    "budgetcost_data = pandas.concat([pandas.DataFrame(budgetcost)])\n",
    "\n",
    "budgetcost_data[\"date_extracted\"] = timestamp\n",
    "\n",
    "budgetcost_data.to_csv(output_folder_path + \"budgetcost_data_\"+str(project_code)+\".csv\", \n",
    "                         index_label = \"budgetcost_row_index\")"
   ]
  },
  {
   "cell_type": "code",
   "execution_count": 36,
   "metadata": {},
   "outputs": [],
   "source": [
    "issues_data = pandas.concat([pandas.DataFrame(issues)])\n",
    "\n",
    "issues_data[\"date_extracted\"] = timestamp\n",
    "\n",
    "issues_data.to_csv(output_folder_path + \"issues_data_\"+str(project_code)+\".csv\", \n",
    "                         index_label = \"issues_row_index\")"
   ]
  },
  {
   "cell_type": "code",
   "execution_count": 37,
   "metadata": {},
   "outputs": [],
   "source": [
    "risks_data = pandas.concat([pandas.DataFrame(risks)])\n",
    "\n",
    "risks_data[\"date_extracted\"] = timestamp\n",
    "\n",
    "risks_data.to_csv(output_folder_path + \"risks_data_\"+str(project_code)+\".csv\", \n",
    "                         index_label = \"risks_row_index\")"
   ]
  },
  {
   "cell_type": "markdown",
   "metadata": {},
   "source": [
    "### Process Combined Table"
   ]
  },
  {
   "cell_type": "code",
   "execution_count": 38,
   "metadata": {},
   "outputs": [],
   "source": [
    "combined = {\n",
    "\t\"project_code\":[project_code],\n",
    "\t\"project_name\":[project_name],\n",
    "\t\"problem_summary\":[problem_summary],\n",
    "\t\"project_start_date\":[project_start_date],\n",
    "\t\"project_phase\":[project_phase],\n",
    "\t\"project_status\":[project_status],\n",
    "\t\"project_team\":[remove_last_two_chars(teams_combined)],\n",
    "\t\"project_stakeholders\":[remove_last_two_chars(stakeholders_combined)],\n",
    "\t\"project_outcomes\":[remove_last_two_chars(project_outcomes_combined)],\n",
    "\t\"project_benefits\":[remove_last_two_chars(benefits_combined)],\n",
    "\t\"project_budget_cost\":[remove_last_two_chars(budgetcost_combined)],\n",
    "\t\"project_issues\":[remove_last_two_chars(issues_combined)],\n",
    "\t\"project_risks\":[remove_last_two_chars(risks_combined)],\n",
    "\t\"project_milestones\":[remove_last_two_chars(milestones_combined)],\n",
    "\t\"project_analytics\":[remove_last_two_chars(analytics_combined)],\n",
    "\t\"project_building_blocks\":[remove_last_two_chars(buildingblocks_combined)],\n",
    "\t\"extract_date\":[timestamp]\n",
    "}"
   ]
  },
  {
   "cell_type": "code",
   "execution_count": 39,
   "metadata": {},
   "outputs": [
    {
     "data": {
      "text/html": [
       "<div>\n",
       "<style scoped>\n",
       "    .dataframe tbody tr th:only-of-type {\n",
       "        vertical-align: middle;\n",
       "    }\n",
       "\n",
       "    .dataframe tbody tr th {\n",
       "        vertical-align: top;\n",
       "    }\n",
       "\n",
       "    .dataframe thead th {\n",
       "        text-align: right;\n",
       "    }\n",
       "</style>\n",
       "<table border=\"1\" class=\"dataframe\">\n",
       "  <thead>\n",
       "    <tr style=\"text-align: right;\">\n",
       "      <th></th>\n",
       "      <th>project_code</th>\n",
       "      <th>project_name</th>\n",
       "      <th>problem_summary</th>\n",
       "      <th>project_start_date</th>\n",
       "      <th>project_phase</th>\n",
       "      <th>project_status</th>\n",
       "      <th>project_team</th>\n",
       "      <th>project_stakeholders</th>\n",
       "      <th>project_outcomes</th>\n",
       "      <th>project_benefits</th>\n",
       "      <th>project_budget_cost</th>\n",
       "      <th>project_issues</th>\n",
       "      <th>project_risks</th>\n",
       "      <th>project_milestones</th>\n",
       "      <th>project_analytics</th>\n",
       "      <th>project_building_blocks</th>\n",
       "      <th>extract_date</th>\n",
       "    </tr>\n",
       "  </thead>\n",
       "  <tbody>\n",
       "    <tr>\n",
       "      <th>0</th>\n",
       "      <td>150</td>\n",
       "      <td>EXAMPLE PROJECT NAME</td>\n",
       "      <td>REVENUE FROM SPEED AND RED LIGHT CAMERAS ALONE...</td>\n",
       "      <td>18 OCT 2017</td>\n",
       "      <td>DISCOVERY</td>\n",
       "      <td>GREEN</td>\n",
       "      <td>NAME  -  POSITION TITLE . | NAME  -  POSITION ...</td>\n",
       "      <td>DEPARTMENT AND BUSINESS UNIT -  NAME . | NAME ...</td>\n",
       "      <td>REDUCE AGED DEBT BY 10% WITHIN 12 MONTHS. | RE...</td>\n",
       "      <td>ADVANCE IMES S SELF-SERVICE ANALYTICS CAPABILI...</td>\n",
       "      <td>BUDGET - $12. | COSTS - $5.</td>\n",
       "      <td>ISSUE 1 - INFORMATION ABOUT ISSUE 1. | ISSUE 2...</td>\n",
       "      <td>RISK 1 - INFORMATION ABOUT RISK 1. | RISK 2 - ...</td>\n",
       "      <td>INFORMATION ABOUT MILESTONE 1  TIMEFRAME:01 MA...</td>\n",
       "      <td>PRESCRIPTIVE</td>\n",
       "      <td>JOBS NOW | FAIRNESS AND EQUITY</td>\n",
       "      <td>06-Jun-18</td>\n",
       "    </tr>\n",
       "  </tbody>\n",
       "</table>\n",
       "</div>"
      ],
      "text/plain": [
       "  project_code          project_name  \\\n",
       "0          150  EXAMPLE PROJECT NAME   \n",
       "\n",
       "                                     problem_summary project_start_date  \\\n",
       "0  REVENUE FROM SPEED AND RED LIGHT CAMERAS ALONE...        18 OCT 2017   \n",
       "\n",
       "  project_phase project_status  \\\n",
       "0     DISCOVERY          GREEN   \n",
       "\n",
       "                                        project_team  \\\n",
       "0  NAME  -  POSITION TITLE . | NAME  -  POSITION ...   \n",
       "\n",
       "                                project_stakeholders  \\\n",
       "0  DEPARTMENT AND BUSINESS UNIT -  NAME . | NAME ...   \n",
       "\n",
       "                                    project_outcomes  \\\n",
       "0  REDUCE AGED DEBT BY 10% WITHIN 12 MONTHS. | RE...   \n",
       "\n",
       "                                    project_benefits  \\\n",
       "0  ADVANCE IMES S SELF-SERVICE ANALYTICS CAPABILI...   \n",
       "\n",
       "           project_budget_cost  \\\n",
       "0  BUDGET - $12. | COSTS - $5.   \n",
       "\n",
       "                                      project_issues  \\\n",
       "0  ISSUE 1 - INFORMATION ABOUT ISSUE 1. | ISSUE 2...   \n",
       "\n",
       "                                       project_risks  \\\n",
       "0  RISK 1 - INFORMATION ABOUT RISK 1. | RISK 2 - ...   \n",
       "\n",
       "                                  project_milestones project_analytics  \\\n",
       "0  INFORMATION ABOUT MILESTONE 1  TIMEFRAME:01 MA...      PRESCRIPTIVE   \n",
       "\n",
       "          project_building_blocks extract_date  \n",
       "0  JOBS NOW | FAIRNESS AND EQUITY    06-Jun-18  "
      ]
     },
     "execution_count": 39,
     "metadata": {},
     "output_type": "execute_result"
    }
   ],
   "source": [
    "combined_dataframe = pandas.DataFrame(combined)\n",
    "\n",
    "combined_dataframe"
   ]
  },
  {
   "cell_type": "markdown",
   "metadata": {},
   "source": [
    "#### Export Combined Table"
   ]
  },
  {
   "cell_type": "code",
   "execution_count": 40,
   "metadata": {},
   "outputs": [],
   "source": [
    "combined_dataframe.to_csv(output_folder_path + \"combined_canvas_data_\" + str(project_code) + \".csv\", index = False)"
   ]
  }
 ],
 "metadata": {
  "kernelspec": {
   "display_name": "Python 3",
   "language": "python",
   "name": "python3"
  },
  "language_info": {
   "codemirror_mode": {
    "name": "ipython",
    "version": 3
   },
   "file_extension": ".py",
   "mimetype": "text/x-python",
   "name": "python",
   "nbconvert_exporter": "python",
   "pygments_lexer": "ipython3",
   "version": "3.6.5"
  },
  "toc": {
   "base_numbering": 1,
   "nav_menu": {},
   "number_sections": true,
   "sideBar": true,
   "skip_h1_title": false,
   "title_cell": "Table of Contents",
   "title_sidebar": "Contents",
   "toc_cell": false,
   "toc_position": {
    "height": "calc(100% - 180px)",
    "left": "10px",
    "top": "150px",
    "width": "348px"
   },
   "toc_section_display": true,
   "toc_window_display": true
  },
  "varInspector": {
   "cols": {
    "lenName": 16,
    "lenType": 16,
    "lenVar": 40
   },
   "kernels_config": {
    "python": {
     "delete_cmd_postfix": "",
     "delete_cmd_prefix": "del ",
     "library": "var_list.py",
     "varRefreshCmd": "print(var_dic_list())"
    },
    "r": {
     "delete_cmd_postfix": ") ",
     "delete_cmd_prefix": "rm(",
     "library": "var_list.r",
     "varRefreshCmd": "cat(var_dic_list()) "
    }
   },
   "types_to_exclude": [
    "module",
    "function",
    "builtin_function_or_method",
    "instance",
    "_Feature"
   ],
   "window_display": false
  }
 },
 "nbformat": 4,
 "nbformat_minor": 2
}
