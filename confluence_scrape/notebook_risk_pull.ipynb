{
 "cells": [
  {
   "cell_type": "markdown",
   "metadata": {},
   "source": [
    "# Scrape Risks from Confluence\n",
    "\n",
    "\"We basically want a master Risk register, which contains all the risks of the various projects, plus the program level risks\""
   ]
  },
  {
   "cell_type": "code",
   "execution_count": 1,
   "metadata": {},
   "outputs": [],
   "source": [
    "import bs4\n",
    "import pandas\n",
    "import datetime\n",
    "import os\n"
   ]
  },
  {
   "cell_type": "markdown",
   "metadata": {},
   "source": [
    "## Set input and output paths\n",
    "\n",
    "Links to files used in this test run:\n",
    "- https://vcdi-dpc.atlassian.net/wiki/spaces/PROJ/pages/204374089/Project+Page+dummy+template+1\n",
    "- https://vcdi-dpc.atlassian.net/wiki/spaces/PROJ/pages/206536717/Project+Page+dummy+template+2\n",
    "- https://vcdi-dpc.atlassian.net/wiki/spaces/PM/pages/194183606/Risks"
   ]
  },
  {
   "cell_type": "code",
   "execution_count": 2,
   "metadata": {},
   "outputs": [],
   "source": [
    "input_folder_path = \\\n",
    "\"/Users/danielcorcoran/Desktop/github_repos/python_nb_data_pulling/confluence_scrape/risk data/inputs/\"\n",
    "\n",
    "output_folder_path = \\\n",
    "\"/Users/danielcorcoran/Desktop/github_repos/python_nb_data_pulling/confluence_scrape/risk data/outputs/\"\n"
   ]
  },
  {
   "cell_type": "markdown",
   "metadata": {},
   "source": [
    "## Create list to store all tables"
   ]
  },
  {
   "cell_type": "code",
   "execution_count": 3,
   "metadata": {},
   "outputs": [],
   "source": [
    "all_tables = []"
   ]
  },
  {
   "cell_type": "markdown",
   "metadata": {},
   "source": [
    "## Process input folder\n",
    "- Loop through each filename if it is .html continue\n",
    "- Convert all tables in each filename to pandas dataframes and store in a list\n",
    "- Check each table in list above if the column headers contain \"Risk ID\" add that table to all_tables list"
   ]
  },
  {
   "cell_type": "code",
   "execution_count": 4,
   "metadata": {},
   "outputs": [
    {
     "name": "stdout",
     "output_type": "stream",
     "text": [
      "risks.html is being processed\n",
      "project_dummy_template_1.html is being processed\n",
      "project_dummy_page_2.html is being processed\n"
     ]
    }
   ],
   "source": [
    "for filename in os.listdir(input_folder_path):\n",
    "    if \".html\" in filename:\n",
    "        print(filename,\"is being processed\")\n",
    "        tables_list = pandas.read_html(input_folder_path + filename)\n",
    "        for table in tables_list:\n",
    "            column_names = list(table.columns)\n",
    "            if \"Risk ID\" in column_names:\n",
    "                all_tables.append(table)\n",
    "    "
   ]
  },
  {
   "cell_type": "markdown",
   "metadata": {},
   "source": [
    "## Check shapes of all tables added to all_tables list, they should be identical in column numbers (the 2nd item in the tuple)"
   ]
  },
  {
   "cell_type": "code",
   "execution_count": 7,
   "metadata": {},
   "outputs": [
    {
     "name": "stdout",
     "output_type": "stream",
     "text": [
      "(3, 13)\n",
      "(2, 13)\n",
      "(2, 13)\n"
     ]
    }
   ],
   "source": [
    "for table in all_tables:\n",
    "    print(table.shape)"
   ]
  },
  {
   "cell_type": "markdown",
   "metadata": {},
   "source": [
    "## Union all the tables vertically"
   ]
  },
  {
   "cell_type": "code",
   "execution_count": 8,
   "metadata": {},
   "outputs": [],
   "source": [
    "compiled_risk_table = pandas.concat(all_tables, axis = 0, sort = True)"
   ]
  },
  {
   "cell_type": "markdown",
   "metadata": {},
   "source": [
    "##  Reset index of compiled risk table"
   ]
  },
  {
   "cell_type": "code",
   "execution_count": 11,
   "metadata": {},
   "outputs": [],
   "source": [
    "compiled_risk_table = compiled_risk_table.reset_index(drop = True)"
   ]
  },
  {
   "cell_type": "markdown",
   "metadata": {},
   "source": [
    "## Preview compiled risks table"
   ]
  },
  {
   "cell_type": "code",
   "execution_count": 12,
   "metadata": {},
   "outputs": [
    {
     "data": {
      "text/html": [
       "<div>\n",
       "<style scoped>\n",
       "    .dataframe tbody tr th:only-of-type {\n",
       "        vertical-align: middle;\n",
       "    }\n",
       "\n",
       "    .dataframe tbody tr th {\n",
       "        vertical-align: top;\n",
       "    }\n",
       "\n",
       "    .dataframe thead th {\n",
       "        text-align: right;\n",
       "    }\n",
       "</style>\n",
       "<table border=\"1\" class=\"dataframe\">\n",
       "  <thead>\n",
       "    <tr style=\"text-align: right;\">\n",
       "      <th></th>\n",
       "      <th>Comments</th>\n",
       "      <th>DateLoggeddd/mm/yy</th>\n",
       "      <th>DateUpdateddd/mm/yy</th>\n",
       "      <th>Impact</th>\n",
       "      <th>Likelihood</th>\n",
       "      <th>MitigationControlsTAPs</th>\n",
       "      <th>Owner</th>\n",
       "      <th>Proj ID</th>\n",
       "      <th>Rating</th>\n",
       "      <th>Risk ID</th>\n",
       "      <th>RiskCategory</th>\n",
       "      <th>Status</th>\n",
       "      <th>Title/Description</th>\n",
       "    </tr>\n",
       "  </thead>\n",
       "  <tbody>\n",
       "    <tr>\n",
       "      <th>0</th>\n",
       "      <td>NaN</td>\n",
       "      <td>18/05/18</td>\n",
       "      <td>18/05/18</td>\n",
       "      <td>High</td>\n",
       "      <td>High</td>\n",
       "      <td>1</td>\n",
       "      <td>BP</td>\n",
       "      <td>0</td>\n",
       "      <td>9</td>\n",
       "      <td>1</td>\n",
       "      <td>Resourcing</td>\n",
       "      <td>Open</td>\n",
       "      <td>Delivery ability of the analytics team in ligh...</td>\n",
       "    </tr>\n",
       "    <tr>\n",
       "      <th>1</th>\n",
       "      <td>NaN</td>\n",
       "      <td>18/05/18</td>\n",
       "      <td>18/05/18</td>\n",
       "      <td>Moderate</td>\n",
       "      <td>High</td>\n",
       "      <td>1</td>\n",
       "      <td>AF</td>\n",
       "      <td>0</td>\n",
       "      <td>6</td>\n",
       "      <td>2</td>\n",
       "      <td>Operational</td>\n",
       "      <td>Open</td>\n",
       "      <td>Delivery delays in data reform strategy</td>\n",
       "    </tr>\n",
       "    <tr>\n",
       "      <th>2</th>\n",
       "      <td>NaN</td>\n",
       "      <td>18/05/18</td>\n",
       "      <td>18/05/18</td>\n",
       "      <td>Moderate</td>\n",
       "      <td>High</td>\n",
       "      <td>1</td>\n",
       "      <td>JH</td>\n",
       "      <td>0</td>\n",
       "      <td>6</td>\n",
       "      <td>3</td>\n",
       "      <td>Financial</td>\n",
       "      <td>Open</td>\n",
       "      <td>Funding</td>\n",
       "    </tr>\n",
       "    <tr>\n",
       "      <th>3</th>\n",
       "      <td>NaN</td>\n",
       "      <td>18/05/18</td>\n",
       "      <td>18/05/18</td>\n",
       "      <td>High</td>\n",
       "      <td>High</td>\n",
       "      <td>abc</td>\n",
       "      <td>BP</td>\n",
       "      <td>0</td>\n",
       "      <td>9</td>\n",
       "      <td>R001</td>\n",
       "      <td>Resourcing</td>\n",
       "      <td>Open</td>\n",
       "      <td>Delivery ability of the analytics team in ligh...</td>\n",
       "    </tr>\n",
       "    <tr>\n",
       "      <th>4</th>\n",
       "      <td>NaN</td>\n",
       "      <td>19/05/18</td>\n",
       "      <td>19/05/18</td>\n",
       "      <td>High</td>\n",
       "      <td>High</td>\n",
       "      <td>abcdef</td>\n",
       "      <td>BP</td>\n",
       "      <td>0</td>\n",
       "      <td>9</td>\n",
       "      <td>R002</td>\n",
       "      <td>Financial</td>\n",
       "      <td>Closed</td>\n",
       "      <td>Limited budget</td>\n",
       "    </tr>\n",
       "    <tr>\n",
       "      <th>5</th>\n",
       "      <td>NaN</td>\n",
       "      <td>27/05/18</td>\n",
       "      <td>28/05/18</td>\n",
       "      <td>Medium</td>\n",
       "      <td>High</td>\n",
       "      <td>Work with stakeholders</td>\n",
       "      <td>TBC</td>\n",
       "      <td>1</td>\n",
       "      <td>6</td>\n",
       "      <td>R001</td>\n",
       "      <td>Scope</td>\n",
       "      <td>Closed</td>\n",
       "      <td>Scope creep</td>\n",
       "    </tr>\n",
       "    <tr>\n",
       "      <th>6</th>\n",
       "      <td>NaN</td>\n",
       "      <td>28/05/18</td>\n",
       "      <td>29/05/18</td>\n",
       "      <td>High</td>\n",
       "      <td>Low</td>\n",
       "      <td>Extra resourcesRegular monitoring</td>\n",
       "      <td>TBC</td>\n",
       "      <td>2</td>\n",
       "      <td>8</td>\n",
       "      <td>R002</td>\n",
       "      <td>Schedule</td>\n",
       "      <td>Closed</td>\n",
       "      <td>Possible slippage</td>\n",
       "    </tr>\n",
       "  </tbody>\n",
       "</table>\n",
       "</div>"
      ],
      "text/plain": [
       "   Comments DateLoggeddd/mm/yy DateUpdateddd/mm/yy    Impact Likelihood  \\\n",
       "0       NaN           18/05/18            18/05/18      High       High   \n",
       "1       NaN           18/05/18            18/05/18  Moderate       High   \n",
       "2       NaN           18/05/18            18/05/18  Moderate       High   \n",
       "3       NaN           18/05/18            18/05/18      High       High   \n",
       "4       NaN           19/05/18            19/05/18      High       High   \n",
       "5       NaN           27/05/18            28/05/18    Medium       High   \n",
       "6       NaN           28/05/18            29/05/18      High        Low   \n",
       "\n",
       "              MitigationControlsTAPs Owner  Proj ID  Rating Risk ID  \\\n",
       "0                                  1    BP        0       9       1   \n",
       "1                                  1    AF        0       6       2   \n",
       "2                                  1    JH        0       6       3   \n",
       "3                                abc    BP        0       9    R001   \n",
       "4                             abcdef    BP        0       9    R002   \n",
       "5             Work with stakeholders   TBC        1       6    R001   \n",
       "6  Extra resourcesRegular monitoring   TBC        2       8    R002   \n",
       "\n",
       "  RiskCategory  Status                                  Title/Description  \n",
       "0   Resourcing    Open  Delivery ability of the analytics team in ligh...  \n",
       "1  Operational    Open            Delivery delays in data reform strategy  \n",
       "2    Financial    Open                                            Funding  \n",
       "3   Resourcing    Open  Delivery ability of the analytics team in ligh...  \n",
       "4    Financial  Closed                                     Limited budget  \n",
       "5        Scope  Closed                                        Scope creep  \n",
       "6     Schedule  Closed                                  Possible slippage  "
      ]
     },
     "execution_count": 12,
     "metadata": {},
     "output_type": "execute_result"
    }
   ],
   "source": [
    "compiled_risk_table"
   ]
  },
  {
   "cell_type": "markdown",
   "metadata": {},
   "source": [
    "## Adjust Project ID"
   ]
  },
  {
   "cell_type": "markdown",
   "metadata": {},
   "source": [
    "### A function to clean project ID "
   ]
  },
  {
   "cell_type": "code",
   "execution_count": 10,
   "metadata": {},
   "outputs": [],
   "source": [
    "def cleancode(var):\n",
    "    var = str(var)\n",
    "    var = var.strip()\n",
    "    maxchar = len(var)\n",
    "    if maxchar == 1:\n",
    "        new_var = \"00\" + var\n",
    "    elif maxchar == 2:\n",
    "        new_var = \"0\" + var\n",
    "    else:\n",
    "        new_var = var\n",
    "        \n",
    "    return new_var"
   ]
  },
  {
   "cell_type": "markdown",
   "metadata": {},
   "source": [
    "### Apply function to dataframe"
   ]
  },
  {
   "cell_type": "code",
   "execution_count": 18,
   "metadata": {},
   "outputs": [
    {
     "name": "stdout",
     "output_type": "stream",
     "text": [
      "000\n",
      "000\n",
      "000\n",
      "000\n",
      "000\n",
      "001\n",
      "002\n"
     ]
    }
   ],
   "source": [
    "for index in range(compiled_risk_table.shape[0]):\n",
    "    temp_code = compiled_risk_table.loc[index, \"Proj ID\"]\n",
    "    new_code = cleancode(temp_code)\n",
    "    compiled_risk_table.loc[index,\"Proj ID\"] = new_code"
   ]
  },
  {
   "cell_type": "markdown",
   "metadata": {},
   "source": [
    "## Check compiled risks table"
   ]
  },
  {
   "cell_type": "code",
   "execution_count": 20,
   "metadata": {},
   "outputs": [
    {
     "data": {
      "text/html": [
       "<div>\n",
       "<style scoped>\n",
       "    .dataframe tbody tr th:only-of-type {\n",
       "        vertical-align: middle;\n",
       "    }\n",
       "\n",
       "    .dataframe tbody tr th {\n",
       "        vertical-align: top;\n",
       "    }\n",
       "\n",
       "    .dataframe thead th {\n",
       "        text-align: right;\n",
       "    }\n",
       "</style>\n",
       "<table border=\"1\" class=\"dataframe\">\n",
       "  <thead>\n",
       "    <tr style=\"text-align: right;\">\n",
       "      <th></th>\n",
       "      <th>Comments</th>\n",
       "      <th>DateLoggeddd/mm/yy</th>\n",
       "      <th>DateUpdateddd/mm/yy</th>\n",
       "      <th>Impact</th>\n",
       "      <th>Likelihood</th>\n",
       "      <th>MitigationControlsTAPs</th>\n",
       "      <th>Owner</th>\n",
       "      <th>Proj ID</th>\n",
       "      <th>Rating</th>\n",
       "      <th>Risk ID</th>\n",
       "      <th>RiskCategory</th>\n",
       "      <th>Status</th>\n",
       "      <th>Title/Description</th>\n",
       "    </tr>\n",
       "  </thead>\n",
       "  <tbody>\n",
       "    <tr>\n",
       "      <th>0</th>\n",
       "      <td>NaN</td>\n",
       "      <td>18/05/18</td>\n",
       "      <td>18/05/18</td>\n",
       "      <td>High</td>\n",
       "      <td>High</td>\n",
       "      <td>1</td>\n",
       "      <td>BP</td>\n",
       "      <td>000</td>\n",
       "      <td>9</td>\n",
       "      <td>1</td>\n",
       "      <td>Resourcing</td>\n",
       "      <td>Open</td>\n",
       "      <td>Delivery ability of the analytics team in ligh...</td>\n",
       "    </tr>\n",
       "    <tr>\n",
       "      <th>1</th>\n",
       "      <td>NaN</td>\n",
       "      <td>18/05/18</td>\n",
       "      <td>18/05/18</td>\n",
       "      <td>Moderate</td>\n",
       "      <td>High</td>\n",
       "      <td>1</td>\n",
       "      <td>AF</td>\n",
       "      <td>000</td>\n",
       "      <td>6</td>\n",
       "      <td>2</td>\n",
       "      <td>Operational</td>\n",
       "      <td>Open</td>\n",
       "      <td>Delivery delays in data reform strategy</td>\n",
       "    </tr>\n",
       "    <tr>\n",
       "      <th>2</th>\n",
       "      <td>NaN</td>\n",
       "      <td>18/05/18</td>\n",
       "      <td>18/05/18</td>\n",
       "      <td>Moderate</td>\n",
       "      <td>High</td>\n",
       "      <td>1</td>\n",
       "      <td>JH</td>\n",
       "      <td>000</td>\n",
       "      <td>6</td>\n",
       "      <td>3</td>\n",
       "      <td>Financial</td>\n",
       "      <td>Open</td>\n",
       "      <td>Funding</td>\n",
       "    </tr>\n",
       "    <tr>\n",
       "      <th>3</th>\n",
       "      <td>NaN</td>\n",
       "      <td>18/05/18</td>\n",
       "      <td>18/05/18</td>\n",
       "      <td>High</td>\n",
       "      <td>High</td>\n",
       "      <td>abc</td>\n",
       "      <td>BP</td>\n",
       "      <td>000</td>\n",
       "      <td>9</td>\n",
       "      <td>R001</td>\n",
       "      <td>Resourcing</td>\n",
       "      <td>Open</td>\n",
       "      <td>Delivery ability of the analytics team in ligh...</td>\n",
       "    </tr>\n",
       "    <tr>\n",
       "      <th>4</th>\n",
       "      <td>NaN</td>\n",
       "      <td>19/05/18</td>\n",
       "      <td>19/05/18</td>\n",
       "      <td>High</td>\n",
       "      <td>High</td>\n",
       "      <td>abcdef</td>\n",
       "      <td>BP</td>\n",
       "      <td>000</td>\n",
       "      <td>9</td>\n",
       "      <td>R002</td>\n",
       "      <td>Financial</td>\n",
       "      <td>Closed</td>\n",
       "      <td>Limited budget</td>\n",
       "    </tr>\n",
       "    <tr>\n",
       "      <th>5</th>\n",
       "      <td>NaN</td>\n",
       "      <td>27/05/18</td>\n",
       "      <td>28/05/18</td>\n",
       "      <td>Medium</td>\n",
       "      <td>High</td>\n",
       "      <td>Work with stakeholders</td>\n",
       "      <td>TBC</td>\n",
       "      <td>001</td>\n",
       "      <td>6</td>\n",
       "      <td>R001</td>\n",
       "      <td>Scope</td>\n",
       "      <td>Closed</td>\n",
       "      <td>Scope creep</td>\n",
       "    </tr>\n",
       "    <tr>\n",
       "      <th>6</th>\n",
       "      <td>NaN</td>\n",
       "      <td>28/05/18</td>\n",
       "      <td>29/05/18</td>\n",
       "      <td>High</td>\n",
       "      <td>Low</td>\n",
       "      <td>Extra resourcesRegular monitoring</td>\n",
       "      <td>TBC</td>\n",
       "      <td>002</td>\n",
       "      <td>8</td>\n",
       "      <td>R002</td>\n",
       "      <td>Schedule</td>\n",
       "      <td>Closed</td>\n",
       "      <td>Possible slippage</td>\n",
       "    </tr>\n",
       "  </tbody>\n",
       "</table>\n",
       "</div>"
      ],
      "text/plain": [
       "   Comments DateLoggeddd/mm/yy DateUpdateddd/mm/yy    Impact Likelihood  \\\n",
       "0       NaN           18/05/18            18/05/18      High       High   \n",
       "1       NaN           18/05/18            18/05/18  Moderate       High   \n",
       "2       NaN           18/05/18            18/05/18  Moderate       High   \n",
       "3       NaN           18/05/18            18/05/18      High       High   \n",
       "4       NaN           19/05/18            19/05/18      High       High   \n",
       "5       NaN           27/05/18            28/05/18    Medium       High   \n",
       "6       NaN           28/05/18            29/05/18      High        Low   \n",
       "\n",
       "              MitigationControlsTAPs Owner Proj ID  Rating Risk ID  \\\n",
       "0                                  1    BP     000       9       1   \n",
       "1                                  1    AF     000       6       2   \n",
       "2                                  1    JH     000       6       3   \n",
       "3                                abc    BP     000       9    R001   \n",
       "4                             abcdef    BP     000       9    R002   \n",
       "5             Work with stakeholders   TBC     001       6    R001   \n",
       "6  Extra resourcesRegular monitoring   TBC     002       8    R002   \n",
       "\n",
       "  RiskCategory  Status                                  Title/Description  \n",
       "0   Resourcing    Open  Delivery ability of the analytics team in ligh...  \n",
       "1  Operational    Open            Delivery delays in data reform strategy  \n",
       "2    Financial    Open                                            Funding  \n",
       "3   Resourcing    Open  Delivery ability of the analytics team in ligh...  \n",
       "4    Financial  Closed                                     Limited budget  \n",
       "5        Scope  Closed                                        Scope creep  \n",
       "6     Schedule  Closed                                  Possible slippage  "
      ]
     },
     "execution_count": 20,
     "metadata": {},
     "output_type": "execute_result"
    }
   ],
   "source": [
    "compiled_risk_table"
   ]
  },
  {
   "cell_type": "markdown",
   "metadata": {},
   "source": [
    "## Export Compiled Risks Table "
   ]
  },
  {
   "cell_type": "code",
   "execution_count": 22,
   "metadata": {},
   "outputs": [],
   "source": [
    "compiled_risk_table.to_csv(output_folder_path + \"compiled_risk_table.csv\", \n",
    "                          index = False)"
   ]
  }
 ],
 "metadata": {
  "kernelspec": {
   "display_name": "Python 3",
   "language": "python",
   "name": "python3"
  },
  "language_info": {
   "codemirror_mode": {
    "name": "ipython",
    "version": 3
   },
   "file_extension": ".py",
   "mimetype": "text/x-python",
   "name": "python",
   "nbconvert_exporter": "python",
   "pygments_lexer": "ipython3",
   "version": "3.6.5"
  },
  "toc": {
   "base_numbering": 1,
   "nav_menu": {},
   "number_sections": true,
   "sideBar": true,
   "skip_h1_title": false,
   "title_cell": "Table of Contents",
   "title_sidebar": "Contents",
   "toc_cell": false,
   "toc_position": {},
   "toc_section_display": true,
   "toc_window_display": true
  },
  "varInspector": {
   "cols": {
    "lenName": 16,
    "lenType": 16,
    "lenVar": 40
   },
   "kernels_config": {
    "python": {
     "delete_cmd_postfix": "",
     "delete_cmd_prefix": "del ",
     "library": "var_list.py",
     "varRefreshCmd": "print(var_dic_list())"
    },
    "r": {
     "delete_cmd_postfix": ") ",
     "delete_cmd_prefix": "rm(",
     "library": "var_list.r",
     "varRefreshCmd": "cat(var_dic_list()) "
    }
   },
   "types_to_exclude": [
    "module",
    "function",
    "builtin_function_or_method",
    "instance",
    "_Feature"
   ],
   "window_display": false
  }
 },
 "nbformat": 4,
 "nbformat_minor": 2
}
