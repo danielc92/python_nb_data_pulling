{
 "cells": [
  {
   "cell_type": "markdown",
   "metadata": {},
   "source": [
    "# Confluence Dummy Template Scrape"
   ]
  },
  {
   "cell_type": "markdown",
   "metadata": {},
   "source": [
    "## About\n",
    "\n",
    "- Parses **'html file'** project page from confluence into a single .csv file.\n",
    "- One must download the page as html through element inspector, save as html, then pass through this script.\n",
    "- Tables are pulled from html as a list via pandas module.\n",
    "- Tables are processed invidually using a range of custom functions\n",
    "- Functions as expected as of 6th June 2018\n"
   ]
  },
  {
   "cell_type": "markdown",
   "metadata": {},
   "source": [
    "## How to obtain 'html file'\n",
    "- Load canvas page in confluence\n",
    "- Right click, inspect element\n",
    "- Right click on html body, copy inner code\n",
    "- Paste in editor (notepad++, sublime etc)\n",
    "- Save as .html\n",
    "- Link path into this %%script"
   ]
  },
  {
   "cell_type": "markdown",
   "metadata": {},
   "source": [
    "## Setup "
   ]
  },
  {
   "cell_type": "markdown",
   "metadata": {},
   "source": [
    "### Import Modules"
   ]
  },
  {
   "cell_type": "code",
   "execution_count": 1,
   "metadata": {},
   "outputs": [],
   "source": [
    "import pandas\n",
    "import bs4\n",
    "import requests\n",
    "import datetime"
   ]
  },
  {
   "cell_type": "markdown",
   "metadata": {},
   "source": [
    "### Specify html file path and import as soup object, using html.parser"
   ]
  },
  {
   "cell_type": "code",
   "execution_count": 2,
   "metadata": {},
   "outputs": [],
   "source": [
    "input_path = \"/Users/danielcorcoran/Desktop/Confluence Files/inputs/project_dummy_page_number_3.html\"\n",
    "\n",
    "output_path = \"/users/danielcorcoran/Desktop/Confluence Files/outputs/project_page/\""
   ]
  },
  {
   "cell_type": "code",
   "execution_count": 3,
   "metadata": {},
   "outputs": [],
   "source": [
    "tables = pandas.read_html(input_path)"
   ]
  },
  {
   "cell_type": "code",
   "execution_count": 4,
   "metadata": {},
   "outputs": [
    {
     "data": {
      "text/plain": [
       "13"
      ]
     },
     "execution_count": 4,
     "metadata": {},
     "output_type": "execute_result"
    }
   ],
   "source": [
    "len(tables)"
   ]
  },
  {
   "cell_type": "code",
   "execution_count": 5,
   "metadata": {
    "scrolled": false
   },
   "outputs": [
    {
     "name": "stdout",
     "output_type": "stream",
     "text": [
      "Table at index: 0 \n",
      "\n",
      "\n",
      "                    0                                                  1\n",
      "0         Project ID                                                121\n",
      "1      Project Title  Develop best practice data analytics lifecycle...\n",
      "2        Last Update                                        06 Jun 2018\n",
      "3        VCDI Stream                                        Data Reform\n",
      "4       Project Lead                                   Natasha Thompson\n",
      "5    Key Stakeholder                                         Brad Petry\n",
      "6  Executive Sponsor                                      Julian Hebden\n",
      "7      Project Start                                        01 Apr 2018\n",
      "8        Project End                                        31 Dec 2018\n",
      "9      Current State                                             Active \n",
      "\n",
      "\n",
      " ============================================================\n",
      "Table at index: 1 \n",
      "\n",
      "\n",
      "    Project Selection Score  Priority  Maturity  Complexity\n",
      "0                      NaN       NaN       NaN         NaN \n",
      "\n",
      "\n",
      " ============================================================\n",
      "Table at index: 2 \n",
      "\n",
      "\n",
      "                   0         1\n",
      "0   1 - Pre Project  COMPLETE\n",
      "1   2 - Feasibility       NaN\n",
      "2   3 - Foundations       NaN\n",
      "3   4 - Development   3-GREEN\n",
      "4      5 - Delivery       NaN\n",
      "5       6 - Closure       NaN\n",
      "6  7 - Post Project       NaN \n",
      "\n",
      "\n",
      " ============================================================\n",
      "Table at index: 3 \n",
      "\n",
      "\n",
      "                 0            1\n",
      "0   Current Phase  Development\n",
      "1  Overall Status      3-GREEN \n",
      "\n",
      "\n",
      " ============================================================\n",
      "Table at index: 4 \n",
      "\n",
      "\n",
      "                                          0\n",
      "0                            Status Update\n",
      "1  Exec summary and status of the project. \n",
      "\n",
      "\n",
      " ============================================================\n",
      "Table at index: 5 \n",
      "\n",
      "\n",
      "   Data Type Yes / No  Nature of Data / Info Used\n",
      "0  Personal       No                         NaN\n",
      "1    Health       No                         NaN \n",
      "\n",
      "\n",
      " ============================================================\n",
      "Table at index: 6 \n",
      "\n",
      "\n",
      "    Stakeholder  Contacts / Description\n",
      "0          NaN                     NaN\n",
      "1          NaN                     NaN\n",
      "2          NaN                     NaN\n",
      "3          NaN                     NaN\n",
      "4          NaN                     NaN \n",
      "\n",
      "\n",
      " ============================================================\n",
      "Table at index: 7 \n",
      "\n",
      "\n",
      "                                                    0                 1  \\\n",
      "0                                                  #  Name / Wiki Link   \n",
      "1                                                 01           Example   \n",
      "2                                                 02           Example   \n",
      "3                                                NaN               NaN   \n",
      "4  Project Space(Click here to access project tea...               NaN   \n",
      "\n",
      "          2  \n",
      "0    CM Ref  \n",
      "1       NaN  \n",
      "2  F17/1234  \n",
      "3       NaN  \n",
      "4       NaN   \n",
      "\n",
      "\n",
      " ============================================================\n",
      "Table at index: 8 \n",
      "\n",
      "\n",
      "                                                    0\n",
      "0                                          Objective\n",
      "1                      The objective of the project.\n",
      "2                                           Outcomes\n",
      "3  Best practice data analytics lifecycle methodo... \n",
      "\n",
      "\n",
      " ============================================================\n",
      "Table at index: 9 \n",
      "\n",
      "\n",
      "    Risk ID  Proj ID DateLoggeddd/mm/yy DateUpdateddd/mm/yy RiskCategory  \\\n",
      "0        1        0           18/05/18            18/05/18   Resourcing   \n",
      "1        2        0           19/05/18            19/05/18    Financial   \n",
      "\n",
      "                                   Title/Description MitigationControlsTAPs  \\\n",
      "0  Delivery ability of the analytics team in ligh...                    abc   \n",
      "1                                     Limited budget                 abcdef   \n",
      "\n",
      "  Impact Likelihood  Rating Owner  Status  Comments  \n",
      "0   High       High       9    BP    Open       NaN  \n",
      "1   High       High       9    BP  Closed       NaN   \n",
      "\n",
      "\n",
      " ============================================================\n",
      "Table at index: 10 \n",
      "\n",
      "\n",
      "    IssueID  ProjID  RiskRef DateLoggeddd/mm/yy DateUpdateddd/mm/yy  \\\n",
      "0        1       0        2           19/05/18            19/05/18   \n",
      "1        2       0        1           20/05/18            20/05/18   \n",
      "\n",
      "  Issue Category           Title/Description Resolution/Actions  \\\n",
      "0      Financial              Limited budget                NaN   \n",
      "1     Resourcing  Critical resource on leave               1.2.   \n",
      "\n",
      "  Resolution due date  Impact Priority Owner  Status  Comments  \n",
      "0            21/05/18  Medium     High    BP    Open       NaN  \n",
      "1            22/05/18  Medium     High    BP  Closed       NaN   \n",
      "\n",
      "\n",
      " ============================================================\n",
      "Table at index: 11 \n",
      "\n",
      "\n",
      "    OBID  ProjID DateLoggeddd/mm/yy DateUpdateddd/mm/yy OB Category  \\\n",
      "0   1.0     0.0           20/05/18            20/05/18   Financial   \n",
      "1   NaN     NaN                NaN                 NaN         NaN   \n",
      "\n",
      "  Title/Description Realisation ETA Priority Owner Achievement Status  \\\n",
      "0   Saved man hours        20/12/18     High    BP           Achieved   \n",
      "1               NaN             NaN      NaN   NaN                NaN   \n",
      "\n",
      "   Comments  \n",
      "0       NaN  \n",
      "1       NaN   \n",
      "\n",
      "\n",
      " ============================================================\n",
      "Table at index: 12 \n",
      "\n",
      "\n",
      "    DRID  ProjID DateRequesteddd/mm/yy DateUpdateddd/mm/yy DR Stakeholder  \\\n",
      "0   1.0     0.0              20/05/18            20/05/18            VBA   \n",
      "1   NaN     NaN                   NaN                 NaN            NaN   \n",
      "\n",
      "  DR Stakeholder Contact Data Type Title/Description  Due Date Date Received  \\\n",
      "0                    TBC     Place         Addresses  27/05/18      26/05/18   \n",
      "1                    NaN       NaN               NaN       NaN           NaN   \n",
      "\n",
      "  Elapsed Time (from request date) Owner  Status  Comments  \n",
      "0                           5 days    BP  Closed       NaN  \n",
      "1                              NaN   NaN     NaN       NaN   \n",
      "\n",
      "\n",
      " ============================================================\n"
     ]
    }
   ],
   "source": [
    "for index in range(len(tables)):\n",
    "    print(\"Table at index:\", index, \"\\n\\n\\n\", tables[index], \"\\n\\n\\n\",\"=\" * 60)"
   ]
  },
  {
   "cell_type": "markdown",
   "metadata": {},
   "source": [
    "## Functions\n",
    "These functions will help mutate the tables into the desired look and feel, and perform repetitive tasks.\n"
   ]
  },
  {
   "cell_type": "markdown",
   "metadata": {},
   "source": [
    "### Drop all rows and columns containing 100% nulls"
   ]
  },
  {
   "cell_type": "code",
   "execution_count": 6,
   "metadata": {},
   "outputs": [],
   "source": [
    "def drop_null_rows_and_columns(dataframe):\n",
    "    dataframe.dropna(how = \"all\", axis =1, inplace = True)\n",
    "    dataframe.dropna(how = \"all\", axis =0, inplace = True)\n",
    "    return dataframe"
   ]
  },
  {
   "cell_type": "markdown",
   "metadata": {},
   "source": [
    "### Transpose table with two columns"
   ]
  },
  {
   "cell_type": "code",
   "execution_count": 7,
   "metadata": {},
   "outputs": [],
   "source": [
    "def transpose_table_with_two_columns(table):\n",
    "\n",
    "    table.columns = [\"index\", \"values\"]\n",
    "\n",
    "    index_list = list(table[\"index\"])\n",
    "    table.index = index_list\n",
    "    table.drop(\"index\", axis = 1, inplace = True)\n",
    "\n",
    "    table2 = table.transpose()\n",
    "    table2.reset_index(inplace = True, drop = True)\n",
    "\n",
    "\n",
    "    return table2"
   ]
  },
  {
   "cell_type": "markdown",
   "metadata": {},
   "source": [
    "### Convert first row to headers and drop first row"
   ]
  },
  {
   "cell_type": "code",
   "execution_count": 8,
   "metadata": {},
   "outputs": [],
   "source": [
    "def first_row_to_headers(table):\n",
    "    \n",
    "    table.columns = table.iloc[0].tolist()\n",
    "    table.drop([0], axis = 0, inplace = True)\n",
    "    \n",
    "    return table"
   ]
  },
  {
   "cell_type": "markdown",
   "metadata": {},
   "source": [
    "### Compress table vertically"
   ]
  },
  {
   "cell_type": "code",
   "execution_count": 9,
   "metadata": {},
   "outputs": [],
   "source": [
    "def compress_table_vertically(table):\n",
    "    \n",
    "    table_dict = table.to_dict(orient = \"list\")\n",
    "\n",
    "    new = {}\n",
    "    for key in table_dict.keys():\n",
    "        new[key] = \"\"\n",
    "        for item in table_dict[key]:\n",
    "            new[key] = new[key] + str(item) + \" | \"\n",
    "\n",
    "    for key in new.keys():\n",
    "        item = new[key]\n",
    "        item_max_length = len(item)\n",
    "        item2 = item[:item_max_length-3]\n",
    "        new[key] = item2\n",
    "\n",
    "    final_dictionary = {}\n",
    "\n",
    "    for key in new.keys():\n",
    "        final_dictionary[key] = [new[key]]\n",
    "\n",
    "    data = pandas.DataFrame(final_dictionary)\n",
    "\n",
    "    return data"
   ]
  },
  {
   "cell_type": "markdown",
   "metadata": {},
   "source": [
    "### Reset table index and drop old index"
   ]
  },
  {
   "cell_type": "code",
   "execution_count": 10,
   "metadata": {},
   "outputs": [],
   "source": [
    "def reset(table):\n",
    "    table = table.reset_index(drop = True)\n",
    "    return table"
   ]
  },
  {
   "cell_type": "markdown",
   "metadata": {},
   "source": [
    "### Drop null column and rows in particular dataframes"
   ]
  },
  {
   "cell_type": "code",
   "execution_count": 11,
   "metadata": {},
   "outputs": [],
   "source": [
    "relevant_table_indices = list(range(len(tables)))\n",
    "relevant_table_indices.remove(1)\n",
    "relevant_table_indices.remove(5)\n",
    "relevant_table_indices.remove(2)\n",
    "relevant_table_indices.remove(6)\n",
    "for index in relevant_table_indices:\n",
    "    tables[index] = drop_null_rows_and_columns(tables[index])"
   ]
  },
  {
   "cell_type": "markdown",
   "metadata": {},
   "source": [
    "### Clean Project Code"
   ]
  },
  {
   "cell_type": "code",
   "execution_count": 12,
   "metadata": {},
   "outputs": [],
   "source": [
    "def cleancode(var):\n",
    "    var = str(var)\n",
    "    var = var.strip()\n",
    "    maxchar = len(var)\n",
    "    if maxchar == 1:\n",
    "        new_var = \"00\" + var\n",
    "    elif maxchar == 2:\n",
    "        new_var = \"0\" + var\n",
    "    else:\n",
    "        new_var = var\n",
    "        \n",
    "    return new_var"
   ]
  },
  {
   "cell_type": "markdown",
   "metadata": {},
   "source": [
    "## Inspect and process each table"
   ]
  },
  {
   "cell_type": "markdown",
   "metadata": {},
   "source": [
    "### Table 0 (KEY INFORMATION)"
   ]
  },
  {
   "cell_type": "code",
   "execution_count": 13,
   "metadata": {},
   "outputs": [
    {
     "data": {
      "text/html": [
       "<div>\n",
       "<style scoped>\n",
       "    .dataframe tbody tr th:only-of-type {\n",
       "        vertical-align: middle;\n",
       "    }\n",
       "\n",
       "    .dataframe tbody tr th {\n",
       "        vertical-align: top;\n",
       "    }\n",
       "\n",
       "    .dataframe thead th {\n",
       "        text-align: right;\n",
       "    }\n",
       "</style>\n",
       "<table border=\"1\" class=\"dataframe\">\n",
       "  <thead>\n",
       "    <tr style=\"text-align: right;\">\n",
       "      <th></th>\n",
       "      <th>0</th>\n",
       "      <th>1</th>\n",
       "    </tr>\n",
       "  </thead>\n",
       "  <tbody>\n",
       "    <tr>\n",
       "      <th>0</th>\n",
       "      <td>Project ID</td>\n",
       "      <td>121</td>\n",
       "    </tr>\n",
       "    <tr>\n",
       "      <th>1</th>\n",
       "      <td>Project Title</td>\n",
       "      <td>Develop best practice data analytics lifecycle...</td>\n",
       "    </tr>\n",
       "    <tr>\n",
       "      <th>2</th>\n",
       "      <td>Last Update</td>\n",
       "      <td>06 Jun 2018</td>\n",
       "    </tr>\n",
       "    <tr>\n",
       "      <th>3</th>\n",
       "      <td>VCDI Stream</td>\n",
       "      <td>Data Reform</td>\n",
       "    </tr>\n",
       "    <tr>\n",
       "      <th>4</th>\n",
       "      <td>Project Lead</td>\n",
       "      <td>Natasha Thompson</td>\n",
       "    </tr>\n",
       "    <tr>\n",
       "      <th>5</th>\n",
       "      <td>Key Stakeholder</td>\n",
       "      <td>Brad Petry</td>\n",
       "    </tr>\n",
       "    <tr>\n",
       "      <th>6</th>\n",
       "      <td>Executive Sponsor</td>\n",
       "      <td>Julian Hebden</td>\n",
       "    </tr>\n",
       "    <tr>\n",
       "      <th>7</th>\n",
       "      <td>Project Start</td>\n",
       "      <td>01 Apr 2018</td>\n",
       "    </tr>\n",
       "    <tr>\n",
       "      <th>8</th>\n",
       "      <td>Project End</td>\n",
       "      <td>31 Dec 2018</td>\n",
       "    </tr>\n",
       "    <tr>\n",
       "      <th>9</th>\n",
       "      <td>Current State</td>\n",
       "      <td>Active</td>\n",
       "    </tr>\n",
       "  </tbody>\n",
       "</table>\n",
       "</div>"
      ],
      "text/plain": [
       "                   0                                                  1\n",
       "0         Project ID                                                121\n",
       "1      Project Title  Develop best practice data analytics lifecycle...\n",
       "2        Last Update                                        06 Jun 2018\n",
       "3        VCDI Stream                                        Data Reform\n",
       "4       Project Lead                                   Natasha Thompson\n",
       "5    Key Stakeholder                                         Brad Petry\n",
       "6  Executive Sponsor                                      Julian Hebden\n",
       "7      Project Start                                        01 Apr 2018\n",
       "8        Project End                                        31 Dec 2018\n",
       "9      Current State                                             Active"
      ]
     },
     "execution_count": 13,
     "metadata": {},
     "output_type": "execute_result"
    }
   ],
   "source": [
    "tables[0]"
   ]
  },
  {
   "cell_type": "code",
   "execution_count": 14,
   "metadata": {},
   "outputs": [
    {
     "data": {
      "text/html": [
       "<div>\n",
       "<style scoped>\n",
       "    .dataframe tbody tr th:only-of-type {\n",
       "        vertical-align: middle;\n",
       "    }\n",
       "\n",
       "    .dataframe tbody tr th {\n",
       "        vertical-align: top;\n",
       "    }\n",
       "\n",
       "    .dataframe thead th {\n",
       "        text-align: right;\n",
       "    }\n",
       "</style>\n",
       "<table border=\"1\" class=\"dataframe\">\n",
       "  <thead>\n",
       "    <tr style=\"text-align: right;\">\n",
       "      <th></th>\n",
       "      <th>Project ID</th>\n",
       "      <th>Project Title</th>\n",
       "      <th>Last Update</th>\n",
       "      <th>VCDI Stream</th>\n",
       "      <th>Project Lead</th>\n",
       "      <th>Key Stakeholder</th>\n",
       "      <th>Executive Sponsor</th>\n",
       "      <th>Project Start</th>\n",
       "      <th>Project End</th>\n",
       "      <th>Current State</th>\n",
       "    </tr>\n",
       "  </thead>\n",
       "  <tbody>\n",
       "    <tr>\n",
       "      <th>0</th>\n",
       "      <td>121</td>\n",
       "      <td>Develop best practice data analytics lifecycle...</td>\n",
       "      <td>06 Jun 2018</td>\n",
       "      <td>Data Reform</td>\n",
       "      <td>Natasha Thompson</td>\n",
       "      <td>Brad Petry</td>\n",
       "      <td>Julian Hebden</td>\n",
       "      <td>01 Apr 2018</td>\n",
       "      <td>31 Dec 2018</td>\n",
       "      <td>Active</td>\n",
       "    </tr>\n",
       "  </tbody>\n",
       "</table>\n",
       "</div>"
      ],
      "text/plain": [
       "  Project ID                                      Project Title  Last Update  \\\n",
       "0        121  Develop best practice data analytics lifecycle...  06 Jun 2018   \n",
       "\n",
       "   VCDI Stream      Project Lead Key Stakeholder Executive Sponsor  \\\n",
       "0  Data Reform  Natasha Thompson      Brad Petry     Julian Hebden   \n",
       "\n",
       "  Project Start  Project End Current State  \n",
       "0   01 Apr 2018  31 Dec 2018        Active  "
      ]
     },
     "execution_count": 14,
     "metadata": {},
     "output_type": "execute_result"
    }
   ],
   "source": [
    "tables[0] = transpose_table_with_two_columns(tables[0])\n",
    "tables[0]"
   ]
  },
  {
   "cell_type": "code",
   "execution_count": 15,
   "metadata": {},
   "outputs": [],
   "source": [
    "project_code = cleancode(tables[0].iloc[0,0])\n",
    "tables[0].iloc[0,0] = project_code"
   ]
  },
  {
   "cell_type": "markdown",
   "metadata": {},
   "source": [
    "### Table 1 (PROJECT SCORES)"
   ]
  },
  {
   "cell_type": "code",
   "execution_count": 16,
   "metadata": {},
   "outputs": [
    {
     "data": {
      "text/html": [
       "<div>\n",
       "<style scoped>\n",
       "    .dataframe tbody tr th:only-of-type {\n",
       "        vertical-align: middle;\n",
       "    }\n",
       "\n",
       "    .dataframe tbody tr th {\n",
       "        vertical-align: top;\n",
       "    }\n",
       "\n",
       "    .dataframe thead th {\n",
       "        text-align: right;\n",
       "    }\n",
       "</style>\n",
       "<table border=\"1\" class=\"dataframe\">\n",
       "  <thead>\n",
       "    <tr style=\"text-align: right;\">\n",
       "      <th></th>\n",
       "      <th>Project Selection Score</th>\n",
       "      <th>Priority</th>\n",
       "      <th>Maturity</th>\n",
       "      <th>Complexity</th>\n",
       "    </tr>\n",
       "  </thead>\n",
       "  <tbody>\n",
       "    <tr>\n",
       "      <th>0</th>\n",
       "      <td>NaN</td>\n",
       "      <td>NaN</td>\n",
       "      <td>NaN</td>\n",
       "      <td>NaN</td>\n",
       "    </tr>\n",
       "  </tbody>\n",
       "</table>\n",
       "</div>"
      ],
      "text/plain": [
       "   Project Selection Score  Priority  Maturity  Complexity\n",
       "0                      NaN       NaN       NaN         NaN"
      ]
     },
     "execution_count": 16,
     "metadata": {},
     "output_type": "execute_result"
    }
   ],
   "source": [
    "tables[1]"
   ]
  },
  {
   "cell_type": "markdown",
   "metadata": {},
   "source": [
    "### Table 2 (PROJECT LIFE CYCLE 1/2)"
   ]
  },
  {
   "cell_type": "code",
   "execution_count": 17,
   "metadata": {},
   "outputs": [
    {
     "data": {
      "text/html": [
       "<div>\n",
       "<style scoped>\n",
       "    .dataframe tbody tr th:only-of-type {\n",
       "        vertical-align: middle;\n",
       "    }\n",
       "\n",
       "    .dataframe tbody tr th {\n",
       "        vertical-align: top;\n",
       "    }\n",
       "\n",
       "    .dataframe thead th {\n",
       "        text-align: right;\n",
       "    }\n",
       "</style>\n",
       "<table border=\"1\" class=\"dataframe\">\n",
       "  <thead>\n",
       "    <tr style=\"text-align: right;\">\n",
       "      <th></th>\n",
       "      <th>0</th>\n",
       "      <th>1</th>\n",
       "    </tr>\n",
       "  </thead>\n",
       "  <tbody>\n",
       "    <tr>\n",
       "      <th>0</th>\n",
       "      <td>1 - Pre Project</td>\n",
       "      <td>COMPLETE</td>\n",
       "    </tr>\n",
       "    <tr>\n",
       "      <th>1</th>\n",
       "      <td>2 - Feasibility</td>\n",
       "      <td>NaN</td>\n",
       "    </tr>\n",
       "    <tr>\n",
       "      <th>2</th>\n",
       "      <td>3 - Foundations</td>\n",
       "      <td>NaN</td>\n",
       "    </tr>\n",
       "    <tr>\n",
       "      <th>3</th>\n",
       "      <td>4 - Development</td>\n",
       "      <td>3-GREEN</td>\n",
       "    </tr>\n",
       "    <tr>\n",
       "      <th>4</th>\n",
       "      <td>5 - Delivery</td>\n",
       "      <td>NaN</td>\n",
       "    </tr>\n",
       "    <tr>\n",
       "      <th>5</th>\n",
       "      <td>6 - Closure</td>\n",
       "      <td>NaN</td>\n",
       "    </tr>\n",
       "    <tr>\n",
       "      <th>6</th>\n",
       "      <td>7 - Post Project</td>\n",
       "      <td>NaN</td>\n",
       "    </tr>\n",
       "  </tbody>\n",
       "</table>\n",
       "</div>"
      ],
      "text/plain": [
       "                  0         1\n",
       "0   1 - Pre Project  COMPLETE\n",
       "1   2 - Feasibility       NaN\n",
       "2   3 - Foundations       NaN\n",
       "3   4 - Development   3-GREEN\n",
       "4      5 - Delivery       NaN\n",
       "5       6 - Closure       NaN\n",
       "6  7 - Post Project       NaN"
      ]
     },
     "execution_count": 17,
     "metadata": {},
     "output_type": "execute_result"
    }
   ],
   "source": [
    "tables[2]"
   ]
  },
  {
   "cell_type": "code",
   "execution_count": 18,
   "metadata": {},
   "outputs": [
    {
     "data": {
      "text/html": [
       "<div>\n",
       "<style scoped>\n",
       "    .dataframe tbody tr th:only-of-type {\n",
       "        vertical-align: middle;\n",
       "    }\n",
       "\n",
       "    .dataframe tbody tr th {\n",
       "        vertical-align: top;\n",
       "    }\n",
       "\n",
       "    .dataframe thead th {\n",
       "        text-align: right;\n",
       "    }\n",
       "</style>\n",
       "<table border=\"1\" class=\"dataframe\">\n",
       "  <thead>\n",
       "    <tr style=\"text-align: right;\">\n",
       "      <th></th>\n",
       "      <th>1 - Pre Project</th>\n",
       "      <th>2 - Feasibility</th>\n",
       "      <th>3 - Foundations</th>\n",
       "      <th>4 - Development</th>\n",
       "      <th>5 - Delivery</th>\n",
       "      <th>6 - Closure</th>\n",
       "      <th>7 - Post Project</th>\n",
       "    </tr>\n",
       "  </thead>\n",
       "  <tbody>\n",
       "    <tr>\n",
       "      <th>0</th>\n",
       "      <td>COMPLETE</td>\n",
       "      <td>NaN</td>\n",
       "      <td>NaN</td>\n",
       "      <td>3-GREEN</td>\n",
       "      <td>NaN</td>\n",
       "      <td>NaN</td>\n",
       "      <td>NaN</td>\n",
       "    </tr>\n",
       "  </tbody>\n",
       "</table>\n",
       "</div>"
      ],
      "text/plain": [
       "  1 - Pre Project 2 - Feasibility 3 - Foundations 4 - Development  \\\n",
       "0        COMPLETE             NaN             NaN         3-GREEN   \n",
       "\n",
       "  5 - Delivery 6 - Closure 7 - Post Project  \n",
       "0          NaN         NaN              NaN  "
      ]
     },
     "execution_count": 18,
     "metadata": {},
     "output_type": "execute_result"
    }
   ],
   "source": [
    "tables[2] = transpose_table_with_two_columns(tables[2])\n",
    "tables[2]"
   ]
  },
  {
   "cell_type": "markdown",
   "metadata": {},
   "source": [
    "### Table 3 (PROJECT LIFE CYCLE 2/2)"
   ]
  },
  {
   "cell_type": "code",
   "execution_count": 19,
   "metadata": {},
   "outputs": [
    {
     "data": {
      "text/html": [
       "<div>\n",
       "<style scoped>\n",
       "    .dataframe tbody tr th:only-of-type {\n",
       "        vertical-align: middle;\n",
       "    }\n",
       "\n",
       "    .dataframe tbody tr th {\n",
       "        vertical-align: top;\n",
       "    }\n",
       "\n",
       "    .dataframe thead th {\n",
       "        text-align: right;\n",
       "    }\n",
       "</style>\n",
       "<table border=\"1\" class=\"dataframe\">\n",
       "  <thead>\n",
       "    <tr style=\"text-align: right;\">\n",
       "      <th></th>\n",
       "      <th>0</th>\n",
       "      <th>1</th>\n",
       "    </tr>\n",
       "  </thead>\n",
       "  <tbody>\n",
       "    <tr>\n",
       "      <th>0</th>\n",
       "      <td>Current Phase</td>\n",
       "      <td>Development</td>\n",
       "    </tr>\n",
       "    <tr>\n",
       "      <th>1</th>\n",
       "      <td>Overall Status</td>\n",
       "      <td>3-GREEN</td>\n",
       "    </tr>\n",
       "  </tbody>\n",
       "</table>\n",
       "</div>"
      ],
      "text/plain": [
       "                0            1\n",
       "0   Current Phase  Development\n",
       "1  Overall Status      3-GREEN"
      ]
     },
     "execution_count": 19,
     "metadata": {},
     "output_type": "execute_result"
    }
   ],
   "source": [
    "tables[3]"
   ]
  },
  {
   "cell_type": "code",
   "execution_count": 20,
   "metadata": {},
   "outputs": [
    {
     "data": {
      "text/html": [
       "<div>\n",
       "<style scoped>\n",
       "    .dataframe tbody tr th:only-of-type {\n",
       "        vertical-align: middle;\n",
       "    }\n",
       "\n",
       "    .dataframe tbody tr th {\n",
       "        vertical-align: top;\n",
       "    }\n",
       "\n",
       "    .dataframe thead th {\n",
       "        text-align: right;\n",
       "    }\n",
       "</style>\n",
       "<table border=\"1\" class=\"dataframe\">\n",
       "  <thead>\n",
       "    <tr style=\"text-align: right;\">\n",
       "      <th></th>\n",
       "      <th>Current Phase</th>\n",
       "      <th>Overall Status</th>\n",
       "    </tr>\n",
       "  </thead>\n",
       "  <tbody>\n",
       "    <tr>\n",
       "      <th>0</th>\n",
       "      <td>Development</td>\n",
       "      <td>3-GREEN</td>\n",
       "    </tr>\n",
       "  </tbody>\n",
       "</table>\n",
       "</div>"
      ],
      "text/plain": [
       "  Current Phase Overall Status\n",
       "0   Development        3-GREEN"
      ]
     },
     "execution_count": 20,
     "metadata": {},
     "output_type": "execute_result"
    }
   ],
   "source": [
    "tables[3] = transpose_table_with_two_columns(tables[3])\n",
    "tables[3]"
   ]
  },
  {
   "cell_type": "markdown",
   "metadata": {},
   "source": [
    "###  Table 4 (STATUS UPDATE)"
   ]
  },
  {
   "cell_type": "code",
   "execution_count": 21,
   "metadata": {},
   "outputs": [
    {
     "data": {
      "text/html": [
       "<div>\n",
       "<style scoped>\n",
       "    .dataframe tbody tr th:only-of-type {\n",
       "        vertical-align: middle;\n",
       "    }\n",
       "\n",
       "    .dataframe tbody tr th {\n",
       "        vertical-align: top;\n",
       "    }\n",
       "\n",
       "    .dataframe thead th {\n",
       "        text-align: right;\n",
       "    }\n",
       "</style>\n",
       "<table border=\"1\" class=\"dataframe\">\n",
       "  <thead>\n",
       "    <tr style=\"text-align: right;\">\n",
       "      <th></th>\n",
       "      <th>0</th>\n",
       "    </tr>\n",
       "  </thead>\n",
       "  <tbody>\n",
       "    <tr>\n",
       "      <th>0</th>\n",
       "      <td>Status Update</td>\n",
       "    </tr>\n",
       "    <tr>\n",
       "      <th>1</th>\n",
       "      <td>Exec summary and status of the project.</td>\n",
       "    </tr>\n",
       "  </tbody>\n",
       "</table>\n",
       "</div>"
      ],
      "text/plain": [
       "                                         0\n",
       "0                            Status Update\n",
       "1  Exec summary and status of the project."
      ]
     },
     "execution_count": 21,
     "metadata": {},
     "output_type": "execute_result"
    }
   ],
   "source": [
    "tables[4]"
   ]
  },
  {
   "cell_type": "code",
   "execution_count": 22,
   "metadata": {},
   "outputs": [
    {
     "data": {
      "text/html": [
       "<div>\n",
       "<style scoped>\n",
       "    .dataframe tbody tr th:only-of-type {\n",
       "        vertical-align: middle;\n",
       "    }\n",
       "\n",
       "    .dataframe tbody tr th {\n",
       "        vertical-align: top;\n",
       "    }\n",
       "\n",
       "    .dataframe thead th {\n",
       "        text-align: right;\n",
       "    }\n",
       "</style>\n",
       "<table border=\"1\" class=\"dataframe\">\n",
       "  <thead>\n",
       "    <tr style=\"text-align: right;\">\n",
       "      <th></th>\n",
       "      <th>Status Update</th>\n",
       "    </tr>\n",
       "  </thead>\n",
       "  <tbody>\n",
       "    <tr>\n",
       "      <th>1</th>\n",
       "      <td>Exec summary and status of the project.</td>\n",
       "    </tr>\n",
       "  </tbody>\n",
       "</table>\n",
       "</div>"
      ],
      "text/plain": [
       "                             Status Update\n",
       "1  Exec summary and status of the project."
      ]
     },
     "execution_count": 22,
     "metadata": {},
     "output_type": "execute_result"
    }
   ],
   "source": [
    "tables[4] = first_row_to_headers(tables[4])\n",
    "tables[4]"
   ]
  },
  {
   "cell_type": "code",
   "execution_count": 23,
   "metadata": {},
   "outputs": [
    {
     "data": {
      "text/html": [
       "<div>\n",
       "<style scoped>\n",
       "    .dataframe tbody tr th:only-of-type {\n",
       "        vertical-align: middle;\n",
       "    }\n",
       "\n",
       "    .dataframe tbody tr th {\n",
       "        vertical-align: top;\n",
       "    }\n",
       "\n",
       "    .dataframe thead th {\n",
       "        text-align: right;\n",
       "    }\n",
       "</style>\n",
       "<table border=\"1\" class=\"dataframe\">\n",
       "  <thead>\n",
       "    <tr style=\"text-align: right;\">\n",
       "      <th></th>\n",
       "      <th>Status Update</th>\n",
       "    </tr>\n",
       "  </thead>\n",
       "  <tbody>\n",
       "    <tr>\n",
       "      <th>0</th>\n",
       "      <td>Exec summary and status of the project.</td>\n",
       "    </tr>\n",
       "  </tbody>\n",
       "</table>\n",
       "</div>"
      ],
      "text/plain": [
       "                             Status Update\n",
       "0  Exec summary and status of the project."
      ]
     },
     "execution_count": 23,
     "metadata": {},
     "output_type": "execute_result"
    }
   ],
   "source": [
    "tables[4] = reset(tables[4])\n",
    "tables[4]"
   ]
  },
  {
   "cell_type": "markdown",
   "metadata": {},
   "source": [
    "### Table 5 (DATA CATEGORIES)"
   ]
  },
  {
   "cell_type": "code",
   "execution_count": 24,
   "metadata": {},
   "outputs": [
    {
     "data": {
      "text/html": [
       "<div>\n",
       "<style scoped>\n",
       "    .dataframe tbody tr th:only-of-type {\n",
       "        vertical-align: middle;\n",
       "    }\n",
       "\n",
       "    .dataframe tbody tr th {\n",
       "        vertical-align: top;\n",
       "    }\n",
       "\n",
       "    .dataframe thead th {\n",
       "        text-align: right;\n",
       "    }\n",
       "</style>\n",
       "<table border=\"1\" class=\"dataframe\">\n",
       "  <thead>\n",
       "    <tr style=\"text-align: right;\">\n",
       "      <th></th>\n",
       "      <th>Data Type</th>\n",
       "      <th>Yes / No</th>\n",
       "      <th>Nature of Data / Info Used</th>\n",
       "    </tr>\n",
       "  </thead>\n",
       "  <tbody>\n",
       "    <tr>\n",
       "      <th>0</th>\n",
       "      <td>Personal</td>\n",
       "      <td>No</td>\n",
       "      <td>NaN</td>\n",
       "    </tr>\n",
       "    <tr>\n",
       "      <th>1</th>\n",
       "      <td>Health</td>\n",
       "      <td>No</td>\n",
       "      <td>NaN</td>\n",
       "    </tr>\n",
       "  </tbody>\n",
       "</table>\n",
       "</div>"
      ],
      "text/plain": [
       "  Data Type Yes / No  Nature of Data / Info Used\n",
       "0  Personal       No                         NaN\n",
       "1    Health       No                         NaN"
      ]
     },
     "execution_count": 24,
     "metadata": {},
     "output_type": "execute_result"
    }
   ],
   "source": [
    "tables[5]"
   ]
  },
  {
   "cell_type": "code",
   "execution_count": 25,
   "metadata": {},
   "outputs": [
    {
     "data": {
      "text/plain": [
       "['Data Type', 'Yes / No', 'Nature of Data / Info Used']"
      ]
     },
     "execution_count": 25,
     "metadata": {},
     "output_type": "execute_result"
    }
   ],
   "source": [
    "columns = list(tables[5].columns)\n",
    "columns"
   ]
  },
  {
   "cell_type": "code",
   "execution_count": 26,
   "metadata": {},
   "outputs": [],
   "source": [
    "new_tbl5_dict = {}"
   ]
  },
  {
   "cell_type": "code",
   "execution_count": 27,
   "metadata": {},
   "outputs": [
    {
     "data": {
      "text/plain": [
       "{'Yes / No Personal': ['No'],\n",
       " 'Nature of Data / Info Used Personal': [nan],\n",
       " 'Yes / No Health': ['No'],\n",
       " 'Nature of Data / Info Used Health': [nan]}"
      ]
     },
     "execution_count": 27,
     "metadata": {},
     "output_type": "execute_result"
    }
   ],
   "source": [
    "for index in range(tables[5].shape[0]):\n",
    "    datatype = tables[5].loc[index, columns[0]]\n",
    "    type_header =  columns[1] + \" \" + datatype\n",
    "    type_selection = tables[5].loc[index, columns[1]]\n",
    "    info_header = columns[2] + \" \" + datatype\n",
    "    info_selection = tables[5].loc[index, columns[2]]\n",
    "    \n",
    "    new_tbl5_dict[type_header] = [type_selection]\n",
    "    new_tbl5_dict[info_header] = [info_selection]\n",
    "new_tbl5_dict"
   ]
  },
  {
   "cell_type": "code",
   "execution_count": 28,
   "metadata": {},
   "outputs": [
    {
     "data": {
      "text/html": [
       "<div>\n",
       "<style scoped>\n",
       "    .dataframe tbody tr th:only-of-type {\n",
       "        vertical-align: middle;\n",
       "    }\n",
       "\n",
       "    .dataframe tbody tr th {\n",
       "        vertical-align: top;\n",
       "    }\n",
       "\n",
       "    .dataframe thead th {\n",
       "        text-align: right;\n",
       "    }\n",
       "</style>\n",
       "<table border=\"1\" class=\"dataframe\">\n",
       "  <thead>\n",
       "    <tr style=\"text-align: right;\">\n",
       "      <th></th>\n",
       "      <th>Yes / No Personal</th>\n",
       "      <th>Nature of Data / Info Used Personal</th>\n",
       "      <th>Yes / No Health</th>\n",
       "      <th>Nature of Data / Info Used Health</th>\n",
       "    </tr>\n",
       "  </thead>\n",
       "  <tbody>\n",
       "    <tr>\n",
       "      <th>0</th>\n",
       "      <td>No</td>\n",
       "      <td>NaN</td>\n",
       "      <td>No</td>\n",
       "      <td>NaN</td>\n",
       "    </tr>\n",
       "  </tbody>\n",
       "</table>\n",
       "</div>"
      ],
      "text/plain": [
       "  Yes / No Personal  Nature of Data / Info Used Personal Yes / No Health  \\\n",
       "0                No                                  NaN              No   \n",
       "\n",
       "   Nature of Data / Info Used Health  \n",
       "0                                NaN  "
      ]
     },
     "execution_count": 28,
     "metadata": {},
     "output_type": "execute_result"
    }
   ],
   "source": [
    "tbl5_data = pandas.DataFrame(new_tbl5_dict)\n",
    "tables[5] = tbl5_data\n",
    "tables[5]"
   ]
  },
  {
   "cell_type": "markdown",
   "metadata": {},
   "source": [
    "### Table 6 (STAKEHOLDERS)"
   ]
  },
  {
   "cell_type": "code",
   "execution_count": 29,
   "metadata": {},
   "outputs": [
    {
     "data": {
      "text/html": [
       "<div>\n",
       "<style scoped>\n",
       "    .dataframe tbody tr th:only-of-type {\n",
       "        vertical-align: middle;\n",
       "    }\n",
       "\n",
       "    .dataframe tbody tr th {\n",
       "        vertical-align: top;\n",
       "    }\n",
       "\n",
       "    .dataframe thead th {\n",
       "        text-align: right;\n",
       "    }\n",
       "</style>\n",
       "<table border=\"1\" class=\"dataframe\">\n",
       "  <thead>\n",
       "    <tr style=\"text-align: right;\">\n",
       "      <th></th>\n",
       "      <th>Stakeholder</th>\n",
       "      <th>Contacts / Description</th>\n",
       "    </tr>\n",
       "  </thead>\n",
       "  <tbody>\n",
       "    <tr>\n",
       "      <th>0</th>\n",
       "      <td>NaN</td>\n",
       "      <td>NaN</td>\n",
       "    </tr>\n",
       "    <tr>\n",
       "      <th>1</th>\n",
       "      <td>NaN</td>\n",
       "      <td>NaN</td>\n",
       "    </tr>\n",
       "    <tr>\n",
       "      <th>2</th>\n",
       "      <td>NaN</td>\n",
       "      <td>NaN</td>\n",
       "    </tr>\n",
       "    <tr>\n",
       "      <th>3</th>\n",
       "      <td>NaN</td>\n",
       "      <td>NaN</td>\n",
       "    </tr>\n",
       "    <tr>\n",
       "      <th>4</th>\n",
       "      <td>NaN</td>\n",
       "      <td>NaN</td>\n",
       "    </tr>\n",
       "  </tbody>\n",
       "</table>\n",
       "</div>"
      ],
      "text/plain": [
       "   Stakeholder  Contacts / Description\n",
       "0          NaN                     NaN\n",
       "1          NaN                     NaN\n",
       "2          NaN                     NaN\n",
       "3          NaN                     NaN\n",
       "4          NaN                     NaN"
      ]
     },
     "execution_count": 29,
     "metadata": {},
     "output_type": "execute_result"
    }
   ],
   "source": [
    "tables[6]"
   ]
  },
  {
   "cell_type": "code",
   "execution_count": 30,
   "metadata": {},
   "outputs": [],
   "source": [
    "tables[6][\"Project ID\"] = project_code"
   ]
  },
  {
   "cell_type": "code",
   "execution_count": 31,
   "metadata": {},
   "outputs": [
    {
     "data": {
      "text/html": [
       "<div>\n",
       "<style scoped>\n",
       "    .dataframe tbody tr th:only-of-type {\n",
       "        vertical-align: middle;\n",
       "    }\n",
       "\n",
       "    .dataframe tbody tr th {\n",
       "        vertical-align: top;\n",
       "    }\n",
       "\n",
       "    .dataframe thead th {\n",
       "        text-align: right;\n",
       "    }\n",
       "</style>\n",
       "<table border=\"1\" class=\"dataframe\">\n",
       "  <thead>\n",
       "    <tr style=\"text-align: right;\">\n",
       "      <th></th>\n",
       "      <th>Stakeholder</th>\n",
       "      <th>Contacts / Description</th>\n",
       "      <th>Project ID</th>\n",
       "    </tr>\n",
       "  </thead>\n",
       "  <tbody>\n",
       "    <tr>\n",
       "      <th>0</th>\n",
       "      <td>NaN</td>\n",
       "      <td>NaN</td>\n",
       "      <td>121</td>\n",
       "    </tr>\n",
       "    <tr>\n",
       "      <th>1</th>\n",
       "      <td>NaN</td>\n",
       "      <td>NaN</td>\n",
       "      <td>121</td>\n",
       "    </tr>\n",
       "    <tr>\n",
       "      <th>2</th>\n",
       "      <td>NaN</td>\n",
       "      <td>NaN</td>\n",
       "      <td>121</td>\n",
       "    </tr>\n",
       "    <tr>\n",
       "      <th>3</th>\n",
       "      <td>NaN</td>\n",
       "      <td>NaN</td>\n",
       "      <td>121</td>\n",
       "    </tr>\n",
       "    <tr>\n",
       "      <th>4</th>\n",
       "      <td>NaN</td>\n",
       "      <td>NaN</td>\n",
       "      <td>121</td>\n",
       "    </tr>\n",
       "  </tbody>\n",
       "</table>\n",
       "</div>"
      ],
      "text/plain": [
       "   Stakeholder  Contacts / Description Project ID\n",
       "0          NaN                     NaN        121\n",
       "1          NaN                     NaN        121\n",
       "2          NaN                     NaN        121\n",
       "3          NaN                     NaN        121\n",
       "4          NaN                     NaN        121"
      ]
     },
     "execution_count": 31,
     "metadata": {},
     "output_type": "execute_result"
    }
   ],
   "source": [
    "tables[6]"
   ]
  },
  {
   "cell_type": "code",
   "execution_count": 32,
   "metadata": {},
   "outputs": [],
   "source": [
    "null_stakeholder_column = tables[6][\"Stakeholder\"].isnull().sum()/tables[6].shape[0]"
   ]
  },
  {
   "cell_type": "code",
   "execution_count": 33,
   "metadata": {},
   "outputs": [],
   "source": [
    "if null_stakeholder_column == 1:\n",
    "    tables[6] = tables[6][:1]"
   ]
  },
  {
   "cell_type": "markdown",
   "metadata": {},
   "source": [
    "### Table 7 (ARTIFACTS)"
   ]
  },
  {
   "cell_type": "code",
   "execution_count": 34,
   "metadata": {},
   "outputs": [
    {
     "data": {
      "text/html": [
       "<div>\n",
       "<style scoped>\n",
       "    .dataframe tbody tr th:only-of-type {\n",
       "        vertical-align: middle;\n",
       "    }\n",
       "\n",
       "    .dataframe tbody tr th {\n",
       "        vertical-align: top;\n",
       "    }\n",
       "\n",
       "    .dataframe thead th {\n",
       "        text-align: right;\n",
       "    }\n",
       "</style>\n",
       "<table border=\"1\" class=\"dataframe\">\n",
       "  <thead>\n",
       "    <tr style=\"text-align: right;\">\n",
       "      <th></th>\n",
       "      <th>0</th>\n",
       "      <th>1</th>\n",
       "      <th>2</th>\n",
       "    </tr>\n",
       "  </thead>\n",
       "  <tbody>\n",
       "    <tr>\n",
       "      <th>0</th>\n",
       "      <td>#</td>\n",
       "      <td>Name / Wiki Link</td>\n",
       "      <td>CM Ref</td>\n",
       "    </tr>\n",
       "    <tr>\n",
       "      <th>1</th>\n",
       "      <td>01</td>\n",
       "      <td>Example</td>\n",
       "      <td>NaN</td>\n",
       "    </tr>\n",
       "    <tr>\n",
       "      <th>2</th>\n",
       "      <td>02</td>\n",
       "      <td>Example</td>\n",
       "      <td>F17/1234</td>\n",
       "    </tr>\n",
       "    <tr>\n",
       "      <th>4</th>\n",
       "      <td>Project Space(Click here to access project tea...</td>\n",
       "      <td>NaN</td>\n",
       "      <td>NaN</td>\n",
       "    </tr>\n",
       "  </tbody>\n",
       "</table>\n",
       "</div>"
      ],
      "text/plain": [
       "                                                   0                 1  \\\n",
       "0                                                  #  Name / Wiki Link   \n",
       "1                                                 01           Example   \n",
       "2                                                 02           Example   \n",
       "4  Project Space(Click here to access project tea...               NaN   \n",
       "\n",
       "          2  \n",
       "0    CM Ref  \n",
       "1       NaN  \n",
       "2  F17/1234  \n",
       "4       NaN  "
      ]
     },
     "execution_count": 34,
     "metadata": {},
     "output_type": "execute_result"
    }
   ],
   "source": [
    "tables[7]"
   ]
  },
  {
   "cell_type": "code",
   "execution_count": 35,
   "metadata": {},
   "outputs": [
    {
     "data": {
      "text/html": [
       "<div>\n",
       "<style scoped>\n",
       "    .dataframe tbody tr th:only-of-type {\n",
       "        vertical-align: middle;\n",
       "    }\n",
       "\n",
       "    .dataframe tbody tr th {\n",
       "        vertical-align: top;\n",
       "    }\n",
       "\n",
       "    .dataframe thead th {\n",
       "        text-align: right;\n",
       "    }\n",
       "</style>\n",
       "<table border=\"1\" class=\"dataframe\">\n",
       "  <thead>\n",
       "    <tr style=\"text-align: right;\">\n",
       "      <th></th>\n",
       "      <th>0</th>\n",
       "      <th>1</th>\n",
       "      <th>2</th>\n",
       "    </tr>\n",
       "  </thead>\n",
       "  <tbody>\n",
       "    <tr>\n",
       "      <th>0</th>\n",
       "      <td>#</td>\n",
       "      <td>Name / Wiki Link</td>\n",
       "      <td>CM Ref</td>\n",
       "    </tr>\n",
       "    <tr>\n",
       "      <th>1</th>\n",
       "      <td>01</td>\n",
       "      <td>Example</td>\n",
       "      <td>NaN</td>\n",
       "    </tr>\n",
       "    <tr>\n",
       "      <th>2</th>\n",
       "      <td>02</td>\n",
       "      <td>Example</td>\n",
       "      <td>F17/1234</td>\n",
       "    </tr>\n",
       "    <tr>\n",
       "      <th>4</th>\n",
       "      <td>Project Space(Click here to access project tea...</td>\n",
       "      <td>NaN</td>\n",
       "      <td>NaN</td>\n",
       "    </tr>\n",
       "  </tbody>\n",
       "</table>\n",
       "</div>"
      ],
      "text/plain": [
       "                                                   0                 1  \\\n",
       "0                                                  #  Name / Wiki Link   \n",
       "1                                                 01           Example   \n",
       "2                                                 02           Example   \n",
       "4  Project Space(Click here to access project tea...               NaN   \n",
       "\n",
       "          2  \n",
       "0    CM Ref  \n",
       "1       NaN  \n",
       "2  F17/1234  \n",
       "4       NaN  "
      ]
     },
     "execution_count": 35,
     "metadata": {},
     "output_type": "execute_result"
    }
   ],
   "source": [
    "tables[7]"
   ]
  },
  {
   "cell_type": "code",
   "execution_count": 36,
   "metadata": {
    "scrolled": true
   },
   "outputs": [
    {
     "data": {
      "text/html": [
       "<div>\n",
       "<style scoped>\n",
       "    .dataframe tbody tr th:only-of-type {\n",
       "        vertical-align: middle;\n",
       "    }\n",
       "\n",
       "    .dataframe tbody tr th {\n",
       "        vertical-align: top;\n",
       "    }\n",
       "\n",
       "    .dataframe thead th {\n",
       "        text-align: right;\n",
       "    }\n",
       "</style>\n",
       "<table border=\"1\" class=\"dataframe\">\n",
       "  <thead>\n",
       "    <tr style=\"text-align: right;\">\n",
       "      <th></th>\n",
       "      <th>#</th>\n",
       "      <th>Name / Wiki Link</th>\n",
       "      <th>CM Ref</th>\n",
       "    </tr>\n",
       "  </thead>\n",
       "  <tbody>\n",
       "    <tr>\n",
       "      <th>1</th>\n",
       "      <td>01</td>\n",
       "      <td>Example</td>\n",
       "      <td>NaN</td>\n",
       "    </tr>\n",
       "    <tr>\n",
       "      <th>2</th>\n",
       "      <td>02</td>\n",
       "      <td>Example</td>\n",
       "      <td>F17/1234</td>\n",
       "    </tr>\n",
       "    <tr>\n",
       "      <th>4</th>\n",
       "      <td>Project Space(Click here to access project tea...</td>\n",
       "      <td>NaN</td>\n",
       "      <td>NaN</td>\n",
       "    </tr>\n",
       "  </tbody>\n",
       "</table>\n",
       "</div>"
      ],
      "text/plain": [
       "                                                   # Name / Wiki Link  \\\n",
       "1                                                 01          Example   \n",
       "2                                                 02          Example   \n",
       "4  Project Space(Click here to access project tea...              NaN   \n",
       "\n",
       "     CM Ref  \n",
       "1       NaN  \n",
       "2  F17/1234  \n",
       "4       NaN  "
      ]
     },
     "execution_count": 36,
     "metadata": {},
     "output_type": "execute_result"
    }
   ],
   "source": [
    "tables[7] = first_row_to_headers(tables[7])\n",
    "tables[7]"
   ]
  },
  {
   "cell_type": "code",
   "execution_count": 37,
   "metadata": {},
   "outputs": [
    {
     "data": {
      "text/html": [
       "<div>\n",
       "<style scoped>\n",
       "    .dataframe tbody tr th:only-of-type {\n",
       "        vertical-align: middle;\n",
       "    }\n",
       "\n",
       "    .dataframe tbody tr th {\n",
       "        vertical-align: top;\n",
       "    }\n",
       "\n",
       "    .dataframe thead th {\n",
       "        text-align: right;\n",
       "    }\n",
       "</style>\n",
       "<table border=\"1\" class=\"dataframe\">\n",
       "  <thead>\n",
       "    <tr style=\"text-align: right;\">\n",
       "      <th></th>\n",
       "      <th>#</th>\n",
       "      <th>Name / Wiki Link</th>\n",
       "      <th>CM Ref</th>\n",
       "    </tr>\n",
       "  </thead>\n",
       "  <tbody>\n",
       "    <tr>\n",
       "      <th>0</th>\n",
       "      <td>01 | 02 | Project Space(Click here to access p...</td>\n",
       "      <td>Example | Example | nan</td>\n",
       "      <td>nan | F17/1234 | nan</td>\n",
       "    </tr>\n",
       "  </tbody>\n",
       "</table>\n",
       "</div>"
      ],
      "text/plain": [
       "                                                   #         Name / Wiki Link  \\\n",
       "0  01 | 02 | Project Space(Click here to access p...  Example | Example | nan   \n",
       "\n",
       "                 CM Ref  \n",
       "0  nan | F17/1234 | nan  "
      ]
     },
     "execution_count": 37,
     "metadata": {},
     "output_type": "execute_result"
    }
   ],
   "source": [
    "tables[7] = compress_table_vertically(tables[7])\n",
    "tables[7]"
   ]
  },
  {
   "cell_type": "markdown",
   "metadata": {},
   "source": [
    "### Table 8 (PROJECT OBJECTIVE OUTCOMES)"
   ]
  },
  {
   "cell_type": "code",
   "execution_count": 38,
   "metadata": {
    "scrolled": true
   },
   "outputs": [
    {
     "data": {
      "text/html": [
       "<div>\n",
       "<style scoped>\n",
       "    .dataframe tbody tr th:only-of-type {\n",
       "        vertical-align: middle;\n",
       "    }\n",
       "\n",
       "    .dataframe tbody tr th {\n",
       "        vertical-align: top;\n",
       "    }\n",
       "\n",
       "    .dataframe thead th {\n",
       "        text-align: right;\n",
       "    }\n",
       "</style>\n",
       "<table border=\"1\" class=\"dataframe\">\n",
       "  <thead>\n",
       "    <tr style=\"text-align: right;\">\n",
       "      <th></th>\n",
       "      <th>0</th>\n",
       "    </tr>\n",
       "  </thead>\n",
       "  <tbody>\n",
       "    <tr>\n",
       "      <th>0</th>\n",
       "      <td>Objective</td>\n",
       "    </tr>\n",
       "    <tr>\n",
       "      <th>1</th>\n",
       "      <td>The objective of the project.</td>\n",
       "    </tr>\n",
       "    <tr>\n",
       "      <th>2</th>\n",
       "      <td>Outcomes</td>\n",
       "    </tr>\n",
       "    <tr>\n",
       "      <th>3</th>\n",
       "      <td>Best practice data analytics lifecycle methodo...</td>\n",
       "    </tr>\n",
       "  </tbody>\n",
       "</table>\n",
       "</div>"
      ],
      "text/plain": [
       "                                                   0\n",
       "0                                          Objective\n",
       "1                      The objective of the project.\n",
       "2                                           Outcomes\n",
       "3  Best practice data analytics lifecycle methodo..."
      ]
     },
     "execution_count": 38,
     "metadata": {},
     "output_type": "execute_result"
    }
   ],
   "source": [
    "tables[8]"
   ]
  },
  {
   "cell_type": "code",
   "execution_count": 39,
   "metadata": {},
   "outputs": [
    {
     "data": {
      "text/plain": [
       "{'Objective': ['The objective of the project.'],\n",
       " 'Outcomes': ['Best practice data analytics lifecycle methodology.']}"
      ]
     },
     "execution_count": 39,
     "metadata": {},
     "output_type": "execute_result"
    }
   ],
   "source": [
    "dictionary = {tables[8].iloc[0,0] : [tables[8].iloc[1,0]],\n",
    "             tables[8].iloc[2,0] : [tables[8].iloc[3,0]]}\n",
    "\n",
    "dictionary"
   ]
  },
  {
   "cell_type": "code",
   "execution_count": 40,
   "metadata": {},
   "outputs": [
    {
     "data": {
      "text/html": [
       "<div>\n",
       "<style scoped>\n",
       "    .dataframe tbody tr th:only-of-type {\n",
       "        vertical-align: middle;\n",
       "    }\n",
       "\n",
       "    .dataframe tbody tr th {\n",
       "        vertical-align: top;\n",
       "    }\n",
       "\n",
       "    .dataframe thead th {\n",
       "        text-align: right;\n",
       "    }\n",
       "</style>\n",
       "<table border=\"1\" class=\"dataframe\">\n",
       "  <thead>\n",
       "    <tr style=\"text-align: right;\">\n",
       "      <th></th>\n",
       "      <th>Objective</th>\n",
       "      <th>Outcomes</th>\n",
       "    </tr>\n",
       "  </thead>\n",
       "  <tbody>\n",
       "    <tr>\n",
       "      <th>0</th>\n",
       "      <td>The objective of the project.</td>\n",
       "      <td>Best practice data analytics lifecycle methodo...</td>\n",
       "    </tr>\n",
       "  </tbody>\n",
       "</table>\n",
       "</div>"
      ],
      "text/plain": [
       "                       Objective  \\\n",
       "0  The objective of the project.   \n",
       "\n",
       "                                            Outcomes  \n",
       "0  Best practice data analytics lifecycle methodo...  "
      ]
     },
     "execution_count": 40,
     "metadata": {},
     "output_type": "execute_result"
    }
   ],
   "source": [
    "tables[8] = pandas.DataFrame(dictionary)\n",
    "tables[8]"
   ]
  },
  {
   "cell_type": "markdown",
   "metadata": {},
   "source": [
    "### Table 9 (RISK REGISTER)"
   ]
  },
  {
   "cell_type": "code",
   "execution_count": 41,
   "metadata": {
    "scrolled": false
   },
   "outputs": [
    {
     "data": {
      "text/html": [
       "<div>\n",
       "<style scoped>\n",
       "    .dataframe tbody tr th:only-of-type {\n",
       "        vertical-align: middle;\n",
       "    }\n",
       "\n",
       "    .dataframe tbody tr th {\n",
       "        vertical-align: top;\n",
       "    }\n",
       "\n",
       "    .dataframe thead th {\n",
       "        text-align: right;\n",
       "    }\n",
       "</style>\n",
       "<table border=\"1\" class=\"dataframe\">\n",
       "  <thead>\n",
       "    <tr style=\"text-align: right;\">\n",
       "      <th></th>\n",
       "      <th>Risk ID</th>\n",
       "      <th>Proj ID</th>\n",
       "      <th>DateLoggeddd/mm/yy</th>\n",
       "      <th>DateUpdateddd/mm/yy</th>\n",
       "      <th>RiskCategory</th>\n",
       "      <th>Title/Description</th>\n",
       "      <th>MitigationControlsTAPs</th>\n",
       "      <th>Impact</th>\n",
       "      <th>Likelihood</th>\n",
       "      <th>Rating</th>\n",
       "      <th>Owner</th>\n",
       "      <th>Status</th>\n",
       "    </tr>\n",
       "  </thead>\n",
       "  <tbody>\n",
       "    <tr>\n",
       "      <th>0</th>\n",
       "      <td>1</td>\n",
       "      <td>0</td>\n",
       "      <td>18/05/18</td>\n",
       "      <td>18/05/18</td>\n",
       "      <td>Resourcing</td>\n",
       "      <td>Delivery ability of the analytics team in ligh...</td>\n",
       "      <td>abc</td>\n",
       "      <td>High</td>\n",
       "      <td>High</td>\n",
       "      <td>9</td>\n",
       "      <td>BP</td>\n",
       "      <td>Open</td>\n",
       "    </tr>\n",
       "    <tr>\n",
       "      <th>1</th>\n",
       "      <td>2</td>\n",
       "      <td>0</td>\n",
       "      <td>19/05/18</td>\n",
       "      <td>19/05/18</td>\n",
       "      <td>Financial</td>\n",
       "      <td>Limited budget</td>\n",
       "      <td>abcdef</td>\n",
       "      <td>High</td>\n",
       "      <td>High</td>\n",
       "      <td>9</td>\n",
       "      <td>BP</td>\n",
       "      <td>Closed</td>\n",
       "    </tr>\n",
       "  </tbody>\n",
       "</table>\n",
       "</div>"
      ],
      "text/plain": [
       "   Risk ID  Proj ID DateLoggeddd/mm/yy DateUpdateddd/mm/yy RiskCategory  \\\n",
       "0        1        0           18/05/18            18/05/18   Resourcing   \n",
       "1        2        0           19/05/18            19/05/18    Financial   \n",
       "\n",
       "                                   Title/Description MitigationControlsTAPs  \\\n",
       "0  Delivery ability of the analytics team in ligh...                    abc   \n",
       "1                                     Limited budget                 abcdef   \n",
       "\n",
       "  Impact Likelihood  Rating Owner  Status  \n",
       "0   High       High       9    BP    Open  \n",
       "1   High       High       9    BP  Closed  "
      ]
     },
     "execution_count": 41,
     "metadata": {},
     "output_type": "execute_result"
    }
   ],
   "source": [
    "tables[9]"
   ]
  },
  {
   "cell_type": "code",
   "execution_count": 42,
   "metadata": {},
   "outputs": [],
   "source": [
    "for index in range(tables[9].shape[0]):\n",
    "    tables[9].iloc[index, 1] = project_code"
   ]
  },
  {
   "cell_type": "code",
   "execution_count": 43,
   "metadata": {},
   "outputs": [
    {
     "data": {
      "text/html": [
       "<div>\n",
       "<style scoped>\n",
       "    .dataframe tbody tr th:only-of-type {\n",
       "        vertical-align: middle;\n",
       "    }\n",
       "\n",
       "    .dataframe tbody tr th {\n",
       "        vertical-align: top;\n",
       "    }\n",
       "\n",
       "    .dataframe thead th {\n",
       "        text-align: right;\n",
       "    }\n",
       "</style>\n",
       "<table border=\"1\" class=\"dataframe\">\n",
       "  <thead>\n",
       "    <tr style=\"text-align: right;\">\n",
       "      <th></th>\n",
       "      <th>Risk ID</th>\n",
       "      <th>Proj ID</th>\n",
       "      <th>DateLoggeddd/mm/yy</th>\n",
       "      <th>DateUpdateddd/mm/yy</th>\n",
       "      <th>RiskCategory</th>\n",
       "      <th>Title/Description</th>\n",
       "      <th>MitigationControlsTAPs</th>\n",
       "      <th>Impact</th>\n",
       "      <th>Likelihood</th>\n",
       "      <th>Rating</th>\n",
       "      <th>Owner</th>\n",
       "      <th>Status</th>\n",
       "    </tr>\n",
       "  </thead>\n",
       "  <tbody>\n",
       "    <tr>\n",
       "      <th>0</th>\n",
       "      <td>1 | 2</td>\n",
       "      <td>121 | 121</td>\n",
       "      <td>18/05/18 | 19/05/18</td>\n",
       "      <td>18/05/18 | 19/05/18</td>\n",
       "      <td>Resourcing | Financial</td>\n",
       "      <td>Delivery ability of the analytics team in ligh...</td>\n",
       "      <td>abc | abcdef</td>\n",
       "      <td>High | High</td>\n",
       "      <td>High | High</td>\n",
       "      <td>9 | 9</td>\n",
       "      <td>BP | BP</td>\n",
       "      <td>Open | Closed</td>\n",
       "    </tr>\n",
       "  </tbody>\n",
       "</table>\n",
       "</div>"
      ],
      "text/plain": [
       "  Risk ID    Proj ID   DateLoggeddd/mm/yy  DateUpdateddd/mm/yy  \\\n",
       "0   1 | 2  121 | 121  18/05/18 | 19/05/18  18/05/18 | 19/05/18   \n",
       "\n",
       "             RiskCategory                                  Title/Description  \\\n",
       "0  Resourcing | Financial  Delivery ability of the analytics team in ligh...   \n",
       "\n",
       "  MitigationControlsTAPs       Impact   Likelihood Rating    Owner  \\\n",
       "0           abc | abcdef  High | High  High | High  9 | 9  BP | BP   \n",
       "\n",
       "          Status  \n",
       "0  Open | Closed  "
      ]
     },
     "execution_count": 43,
     "metadata": {},
     "output_type": "execute_result"
    }
   ],
   "source": [
    "tables[9] = compress_table_vertically(tables[9])\n",
    "tables[9]"
   ]
  },
  {
   "cell_type": "markdown",
   "metadata": {},
   "source": [
    "### Table 10 (ISSUES REGISTER)"
   ]
  },
  {
   "cell_type": "code",
   "execution_count": 44,
   "metadata": {},
   "outputs": [
    {
     "data": {
      "text/html": [
       "<div>\n",
       "<style scoped>\n",
       "    .dataframe tbody tr th:only-of-type {\n",
       "        vertical-align: middle;\n",
       "    }\n",
       "\n",
       "    .dataframe tbody tr th {\n",
       "        vertical-align: top;\n",
       "    }\n",
       "\n",
       "    .dataframe thead th {\n",
       "        text-align: right;\n",
       "    }\n",
       "</style>\n",
       "<table border=\"1\" class=\"dataframe\">\n",
       "  <thead>\n",
       "    <tr style=\"text-align: right;\">\n",
       "      <th></th>\n",
       "      <th>IssueID</th>\n",
       "      <th>ProjID</th>\n",
       "      <th>RiskRef</th>\n",
       "      <th>DateLoggeddd/mm/yy</th>\n",
       "      <th>DateUpdateddd/mm/yy</th>\n",
       "      <th>Issue Category</th>\n",
       "      <th>Title/Description</th>\n",
       "      <th>Resolution/Actions</th>\n",
       "      <th>Resolution due date</th>\n",
       "      <th>Impact</th>\n",
       "      <th>Priority</th>\n",
       "      <th>Owner</th>\n",
       "      <th>Status</th>\n",
       "    </tr>\n",
       "  </thead>\n",
       "  <tbody>\n",
       "    <tr>\n",
       "      <th>0</th>\n",
       "      <td>1</td>\n",
       "      <td>0</td>\n",
       "      <td>2</td>\n",
       "      <td>19/05/18</td>\n",
       "      <td>19/05/18</td>\n",
       "      <td>Financial</td>\n",
       "      <td>Limited budget</td>\n",
       "      <td>NaN</td>\n",
       "      <td>21/05/18</td>\n",
       "      <td>Medium</td>\n",
       "      <td>High</td>\n",
       "      <td>BP</td>\n",
       "      <td>Open</td>\n",
       "    </tr>\n",
       "    <tr>\n",
       "      <th>1</th>\n",
       "      <td>2</td>\n",
       "      <td>0</td>\n",
       "      <td>1</td>\n",
       "      <td>20/05/18</td>\n",
       "      <td>20/05/18</td>\n",
       "      <td>Resourcing</td>\n",
       "      <td>Critical resource on leave</td>\n",
       "      <td>1.2.</td>\n",
       "      <td>22/05/18</td>\n",
       "      <td>Medium</td>\n",
       "      <td>High</td>\n",
       "      <td>BP</td>\n",
       "      <td>Closed</td>\n",
       "    </tr>\n",
       "  </tbody>\n",
       "</table>\n",
       "</div>"
      ],
      "text/plain": [
       "   IssueID  ProjID  RiskRef DateLoggeddd/mm/yy DateUpdateddd/mm/yy  \\\n",
       "0        1       0        2           19/05/18            19/05/18   \n",
       "1        2       0        1           20/05/18            20/05/18   \n",
       "\n",
       "  Issue Category           Title/Description Resolution/Actions  \\\n",
       "0      Financial              Limited budget                NaN   \n",
       "1     Resourcing  Critical resource on leave               1.2.   \n",
       "\n",
       "  Resolution due date  Impact Priority Owner  Status  \n",
       "0            21/05/18  Medium     High    BP    Open  \n",
       "1            22/05/18  Medium     High    BP  Closed  "
      ]
     },
     "execution_count": 44,
     "metadata": {},
     "output_type": "execute_result"
    }
   ],
   "source": [
    "tables[10]"
   ]
  },
  {
   "cell_type": "code",
   "execution_count": 45,
   "metadata": {},
   "outputs": [],
   "source": [
    "for index in range(tables[10].shape[0]):\n",
    "    tables[10].iloc[index, 1] = project_code"
   ]
  },
  {
   "cell_type": "code",
   "execution_count": 46,
   "metadata": {},
   "outputs": [
    {
     "data": {
      "text/html": [
       "<div>\n",
       "<style scoped>\n",
       "    .dataframe tbody tr th:only-of-type {\n",
       "        vertical-align: middle;\n",
       "    }\n",
       "\n",
       "    .dataframe tbody tr th {\n",
       "        vertical-align: top;\n",
       "    }\n",
       "\n",
       "    .dataframe thead th {\n",
       "        text-align: right;\n",
       "    }\n",
       "</style>\n",
       "<table border=\"1\" class=\"dataframe\">\n",
       "  <thead>\n",
       "    <tr style=\"text-align: right;\">\n",
       "      <th></th>\n",
       "      <th>IssueID</th>\n",
       "      <th>ProjID</th>\n",
       "      <th>RiskRef</th>\n",
       "      <th>DateLoggeddd/mm/yy</th>\n",
       "      <th>DateUpdateddd/mm/yy</th>\n",
       "      <th>Issue Category</th>\n",
       "      <th>Title/Description</th>\n",
       "      <th>Resolution/Actions</th>\n",
       "      <th>Resolution due date</th>\n",
       "      <th>Impact</th>\n",
       "      <th>Priority</th>\n",
       "      <th>Owner</th>\n",
       "      <th>Status</th>\n",
       "    </tr>\n",
       "  </thead>\n",
       "  <tbody>\n",
       "    <tr>\n",
       "      <th>0</th>\n",
       "      <td>1 | 2</td>\n",
       "      <td>121 | 121</td>\n",
       "      <td>2 | 1</td>\n",
       "      <td>19/05/18 | 20/05/18</td>\n",
       "      <td>19/05/18 | 20/05/18</td>\n",
       "      <td>Financial | Resourcing</td>\n",
       "      <td>Limited budget | Critical resource on leave</td>\n",
       "      <td>nan | 1.2.</td>\n",
       "      <td>21/05/18 | 22/05/18</td>\n",
       "      <td>Medium | Medium</td>\n",
       "      <td>High | High</td>\n",
       "      <td>BP | BP</td>\n",
       "      <td>Open | Closed</td>\n",
       "    </tr>\n",
       "  </tbody>\n",
       "</table>\n",
       "</div>"
      ],
      "text/plain": [
       "  IssueID     ProjID RiskRef   DateLoggeddd/mm/yy  DateUpdateddd/mm/yy  \\\n",
       "0   1 | 2  121 | 121   2 | 1  19/05/18 | 20/05/18  19/05/18 | 20/05/18   \n",
       "\n",
       "           Issue Category                            Title/Description  \\\n",
       "0  Financial | Resourcing  Limited budget | Critical resource on leave   \n",
       "\n",
       "  Resolution/Actions  Resolution due date           Impact     Priority  \\\n",
       "0         nan | 1.2.  21/05/18 | 22/05/18  Medium | Medium  High | High   \n",
       "\n",
       "     Owner         Status  \n",
       "0  BP | BP  Open | Closed  "
      ]
     },
     "execution_count": 46,
     "metadata": {},
     "output_type": "execute_result"
    }
   ],
   "source": [
    "tables[10] = compress_table_vertically(tables[10])\n",
    "tables[10]"
   ]
  },
  {
   "cell_type": "markdown",
   "metadata": {},
   "source": [
    "### Table 11 (BENEFITS REGISTER)"
   ]
  },
  {
   "cell_type": "code",
   "execution_count": 47,
   "metadata": {},
   "outputs": [
    {
     "data": {
      "text/html": [
       "<div>\n",
       "<style scoped>\n",
       "    .dataframe tbody tr th:only-of-type {\n",
       "        vertical-align: middle;\n",
       "    }\n",
       "\n",
       "    .dataframe tbody tr th {\n",
       "        vertical-align: top;\n",
       "    }\n",
       "\n",
       "    .dataframe thead th {\n",
       "        text-align: right;\n",
       "    }\n",
       "</style>\n",
       "<table border=\"1\" class=\"dataframe\">\n",
       "  <thead>\n",
       "    <tr style=\"text-align: right;\">\n",
       "      <th></th>\n",
       "      <th>OBID</th>\n",
       "      <th>ProjID</th>\n",
       "      <th>DateLoggeddd/mm/yy</th>\n",
       "      <th>DateUpdateddd/mm/yy</th>\n",
       "      <th>OB Category</th>\n",
       "      <th>Title/Description</th>\n",
       "      <th>Realisation ETA</th>\n",
       "      <th>Priority</th>\n",
       "      <th>Owner</th>\n",
       "      <th>Achievement Status</th>\n",
       "    </tr>\n",
       "  </thead>\n",
       "  <tbody>\n",
       "    <tr>\n",
       "      <th>0</th>\n",
       "      <td>1.0</td>\n",
       "      <td>0.0</td>\n",
       "      <td>20/05/18</td>\n",
       "      <td>20/05/18</td>\n",
       "      <td>Financial</td>\n",
       "      <td>Saved man hours</td>\n",
       "      <td>20/12/18</td>\n",
       "      <td>High</td>\n",
       "      <td>BP</td>\n",
       "      <td>Achieved</td>\n",
       "    </tr>\n",
       "  </tbody>\n",
       "</table>\n",
       "</div>"
      ],
      "text/plain": [
       "   OBID  ProjID DateLoggeddd/mm/yy DateUpdateddd/mm/yy OB Category  \\\n",
       "0   1.0     0.0           20/05/18            20/05/18   Financial   \n",
       "\n",
       "  Title/Description Realisation ETA Priority Owner Achievement Status  \n",
       "0   Saved man hours        20/12/18     High    BP           Achieved  "
      ]
     },
     "execution_count": 47,
     "metadata": {},
     "output_type": "execute_result"
    }
   ],
   "source": [
    "tables[11]"
   ]
  },
  {
   "cell_type": "code",
   "execution_count": 48,
   "metadata": {},
   "outputs": [],
   "source": [
    "for index in range(tables[11].shape[0]):\n",
    "    tables[11].iloc[index, 1] = project_code"
   ]
  },
  {
   "cell_type": "code",
   "execution_count": 49,
   "metadata": {},
   "outputs": [
    {
     "data": {
      "text/html": [
       "<div>\n",
       "<style scoped>\n",
       "    .dataframe tbody tr th:only-of-type {\n",
       "        vertical-align: middle;\n",
       "    }\n",
       "\n",
       "    .dataframe tbody tr th {\n",
       "        vertical-align: top;\n",
       "    }\n",
       "\n",
       "    .dataframe thead th {\n",
       "        text-align: right;\n",
       "    }\n",
       "</style>\n",
       "<table border=\"1\" class=\"dataframe\">\n",
       "  <thead>\n",
       "    <tr style=\"text-align: right;\">\n",
       "      <th></th>\n",
       "      <th>OBID</th>\n",
       "      <th>ProjID</th>\n",
       "      <th>DateLoggeddd/mm/yy</th>\n",
       "      <th>DateUpdateddd/mm/yy</th>\n",
       "      <th>OB Category</th>\n",
       "      <th>Title/Description</th>\n",
       "      <th>Realisation ETA</th>\n",
       "      <th>Priority</th>\n",
       "      <th>Owner</th>\n",
       "      <th>Achievement Status</th>\n",
       "    </tr>\n",
       "  </thead>\n",
       "  <tbody>\n",
       "    <tr>\n",
       "      <th>0</th>\n",
       "      <td>1.0</td>\n",
       "      <td>121</td>\n",
       "      <td>20/05/18</td>\n",
       "      <td>20/05/18</td>\n",
       "      <td>Financial</td>\n",
       "      <td>Saved man hours</td>\n",
       "      <td>20/12/18</td>\n",
       "      <td>High</td>\n",
       "      <td>BP</td>\n",
       "      <td>Achieved</td>\n",
       "    </tr>\n",
       "  </tbody>\n",
       "</table>\n",
       "</div>"
      ],
      "text/plain": [
       "  OBID ProjID DateLoggeddd/mm/yy DateUpdateddd/mm/yy OB Category  \\\n",
       "0  1.0    121           20/05/18            20/05/18   Financial   \n",
       "\n",
       "  Title/Description Realisation ETA Priority Owner Achievement Status  \n",
       "0   Saved man hours        20/12/18     High    BP           Achieved  "
      ]
     },
     "execution_count": 49,
     "metadata": {},
     "output_type": "execute_result"
    }
   ],
   "source": [
    "tables[11] = compress_table_vertically(tables[11])\n",
    "tables[11]"
   ]
  },
  {
   "cell_type": "markdown",
   "metadata": {},
   "source": [
    "### Table 12 (DATA REQUEST REGISTER)"
   ]
  },
  {
   "cell_type": "code",
   "execution_count": 50,
   "metadata": {},
   "outputs": [
    {
     "data": {
      "text/html": [
       "<div>\n",
       "<style scoped>\n",
       "    .dataframe tbody tr th:only-of-type {\n",
       "        vertical-align: middle;\n",
       "    }\n",
       "\n",
       "    .dataframe tbody tr th {\n",
       "        vertical-align: top;\n",
       "    }\n",
       "\n",
       "    .dataframe thead th {\n",
       "        text-align: right;\n",
       "    }\n",
       "</style>\n",
       "<table border=\"1\" class=\"dataframe\">\n",
       "  <thead>\n",
       "    <tr style=\"text-align: right;\">\n",
       "      <th></th>\n",
       "      <th>DRID</th>\n",
       "      <th>ProjID</th>\n",
       "      <th>DateRequesteddd/mm/yy</th>\n",
       "      <th>DateUpdateddd/mm/yy</th>\n",
       "      <th>DR Stakeholder</th>\n",
       "      <th>DR Stakeholder Contact</th>\n",
       "      <th>Data Type</th>\n",
       "      <th>Title/Description</th>\n",
       "      <th>Due Date</th>\n",
       "      <th>Date Received</th>\n",
       "      <th>Elapsed Time (from request date)</th>\n",
       "      <th>Owner</th>\n",
       "      <th>Status</th>\n",
       "    </tr>\n",
       "  </thead>\n",
       "  <tbody>\n",
       "    <tr>\n",
       "      <th>0</th>\n",
       "      <td>1.0</td>\n",
       "      <td>0.0</td>\n",
       "      <td>20/05/18</td>\n",
       "      <td>20/05/18</td>\n",
       "      <td>VBA</td>\n",
       "      <td>TBC</td>\n",
       "      <td>Place</td>\n",
       "      <td>Addresses</td>\n",
       "      <td>27/05/18</td>\n",
       "      <td>26/05/18</td>\n",
       "      <td>5 days</td>\n",
       "      <td>BP</td>\n",
       "      <td>Closed</td>\n",
       "    </tr>\n",
       "  </tbody>\n",
       "</table>\n",
       "</div>"
      ],
      "text/plain": [
       "   DRID  ProjID DateRequesteddd/mm/yy DateUpdateddd/mm/yy DR Stakeholder  \\\n",
       "0   1.0     0.0              20/05/18            20/05/18            VBA   \n",
       "\n",
       "  DR Stakeholder Contact Data Type Title/Description  Due Date Date Received  \\\n",
       "0                    TBC     Place         Addresses  27/05/18      26/05/18   \n",
       "\n",
       "  Elapsed Time (from request date) Owner  Status  \n",
       "0                           5 days    BP  Closed  "
      ]
     },
     "execution_count": 50,
     "metadata": {},
     "output_type": "execute_result"
    }
   ],
   "source": [
    "tables[12]"
   ]
  },
  {
   "cell_type": "code",
   "execution_count": 51,
   "metadata": {},
   "outputs": [],
   "source": [
    "for index in range(tables[12].shape[0]):\n",
    "    tables[12].iloc[index, 1] = project_code"
   ]
  },
  {
   "cell_type": "code",
   "execution_count": 52,
   "metadata": {},
   "outputs": [
    {
     "data": {
      "text/html": [
       "<div>\n",
       "<style scoped>\n",
       "    .dataframe tbody tr th:only-of-type {\n",
       "        vertical-align: middle;\n",
       "    }\n",
       "\n",
       "    .dataframe tbody tr th {\n",
       "        vertical-align: top;\n",
       "    }\n",
       "\n",
       "    .dataframe thead th {\n",
       "        text-align: right;\n",
       "    }\n",
       "</style>\n",
       "<table border=\"1\" class=\"dataframe\">\n",
       "  <thead>\n",
       "    <tr style=\"text-align: right;\">\n",
       "      <th></th>\n",
       "      <th>DRID</th>\n",
       "      <th>ProjID</th>\n",
       "      <th>DateRequesteddd/mm/yy</th>\n",
       "      <th>DateUpdateddd/mm/yy</th>\n",
       "      <th>DR Stakeholder</th>\n",
       "      <th>DR Stakeholder Contact</th>\n",
       "      <th>Data Type</th>\n",
       "      <th>Title/Description</th>\n",
       "      <th>Due Date</th>\n",
       "      <th>Date Received</th>\n",
       "      <th>Elapsed Time (from request date)</th>\n",
       "      <th>Owner</th>\n",
       "      <th>Status</th>\n",
       "    </tr>\n",
       "  </thead>\n",
       "  <tbody>\n",
       "    <tr>\n",
       "      <th>0</th>\n",
       "      <td>1.0</td>\n",
       "      <td>121</td>\n",
       "      <td>20/05/18</td>\n",
       "      <td>20/05/18</td>\n",
       "      <td>VBA</td>\n",
       "      <td>TBC</td>\n",
       "      <td>Place</td>\n",
       "      <td>Addresses</td>\n",
       "      <td>27/05/18</td>\n",
       "      <td>26/05/18</td>\n",
       "      <td>5 days</td>\n",
       "      <td>BP</td>\n",
       "      <td>Closed</td>\n",
       "    </tr>\n",
       "  </tbody>\n",
       "</table>\n",
       "</div>"
      ],
      "text/plain": [
       "  DRID ProjID DateRequesteddd/mm/yy DateUpdateddd/mm/yy DR Stakeholder  \\\n",
       "0  1.0    121              20/05/18            20/05/18            VBA   \n",
       "\n",
       "  DR Stakeholder Contact Data Type Title/Description  Due Date Date Received  \\\n",
       "0                    TBC     Place         Addresses  27/05/18      26/05/18   \n",
       "\n",
       "  Elapsed Time (from request date) Owner  Status  \n",
       "0                           5 days    BP  Closed  "
      ]
     },
     "execution_count": 52,
     "metadata": {},
     "output_type": "execute_result"
    }
   ],
   "source": [
    "tables[12] = compress_table_vertically(tables[12])\n",
    "tables[12]"
   ]
  },
  {
   "cell_type": "markdown",
   "metadata": {},
   "source": [
    "## Combine All Tables\n",
    "\n",
    "- Resulting table will be stakeholders table joined against combined remaining tables, minus the register and artifact tables."
   ]
  },
  {
   "cell_type": "markdown",
   "metadata": {},
   "source": [
    "### Combine tables 0,1,2,3,4,8 horizontally"
   ]
  },
  {
   "cell_type": "code",
   "execution_count": 53,
   "metadata": {},
   "outputs": [
    {
     "data": {
      "text/html": [
       "<div>\n",
       "<style scoped>\n",
       "    .dataframe tbody tr th:only-of-type {\n",
       "        vertical-align: middle;\n",
       "    }\n",
       "\n",
       "    .dataframe tbody tr th {\n",
       "        vertical-align: top;\n",
       "    }\n",
       "\n",
       "    .dataframe thead th {\n",
       "        text-align: right;\n",
       "    }\n",
       "</style>\n",
       "<table border=\"1\" class=\"dataframe\">\n",
       "  <thead>\n",
       "    <tr style=\"text-align: right;\">\n",
       "      <th></th>\n",
       "      <th>Project ID</th>\n",
       "      <th>Project Title</th>\n",
       "      <th>Last Update</th>\n",
       "      <th>VCDI Stream</th>\n",
       "      <th>Project Lead</th>\n",
       "      <th>Key Stakeholder</th>\n",
       "      <th>Executive Sponsor</th>\n",
       "      <th>Project Start</th>\n",
       "      <th>Project End</th>\n",
       "      <th>Current State</th>\n",
       "      <th>...</th>\n",
       "      <th>7 - Post Project</th>\n",
       "      <th>Current Phase</th>\n",
       "      <th>Overall Status</th>\n",
       "      <th>Status Update</th>\n",
       "      <th>Yes / No Personal</th>\n",
       "      <th>Nature of Data / Info Used Personal</th>\n",
       "      <th>Yes / No Health</th>\n",
       "      <th>Nature of Data / Info Used Health</th>\n",
       "      <th>Objective</th>\n",
       "      <th>Outcomes</th>\n",
       "    </tr>\n",
       "  </thead>\n",
       "  <tbody>\n",
       "    <tr>\n",
       "      <th>0</th>\n",
       "      <td>121</td>\n",
       "      <td>Develop best practice data analytics lifecycle...</td>\n",
       "      <td>06 Jun 2018</td>\n",
       "      <td>Data Reform</td>\n",
       "      <td>Natasha Thompson</td>\n",
       "      <td>Brad Petry</td>\n",
       "      <td>Julian Hebden</td>\n",
       "      <td>01 Apr 2018</td>\n",
       "      <td>31 Dec 2018</td>\n",
       "      <td>Active</td>\n",
       "      <td>...</td>\n",
       "      <td>NaN</td>\n",
       "      <td>Development</td>\n",
       "      <td>3-GREEN</td>\n",
       "      <td>Exec summary and status of the project.</td>\n",
       "      <td>No</td>\n",
       "      <td>NaN</td>\n",
       "      <td>No</td>\n",
       "      <td>NaN</td>\n",
       "      <td>The objective of the project.</td>\n",
       "      <td>Best practice data analytics lifecycle methodo...</td>\n",
       "    </tr>\n",
       "  </tbody>\n",
       "</table>\n",
       "<p>1 rows × 30 columns</p>\n",
       "</div>"
      ],
      "text/plain": [
       "  Project ID                                      Project Title  Last Update  \\\n",
       "0        121  Develop best practice data analytics lifecycle...  06 Jun 2018   \n",
       "\n",
       "   VCDI Stream      Project Lead Key Stakeholder Executive Sponsor  \\\n",
       "0  Data Reform  Natasha Thompson      Brad Petry     Julian Hebden   \n",
       "\n",
       "  Project Start  Project End Current State  \\\n",
       "0   01 Apr 2018  31 Dec 2018        Active   \n",
       "\n",
       "                         ...                          7 - Post Project  \\\n",
       "0                        ...                                       NaN   \n",
       "\n",
       "   Current Phase  Overall Status                            Status Update  \\\n",
       "0    Development         3-GREEN  Exec summary and status of the project.   \n",
       "\n",
       "  Yes / No Personal Nature of Data / Info Used Personal Yes / No Health  \\\n",
       "0                No                                 NaN              No   \n",
       "\n",
       "  Nature of Data / Info Used Health                      Objective  \\\n",
       "0                               NaN  The objective of the project.   \n",
       "\n",
       "                                            Outcomes  \n",
       "0  Best practice data analytics lifecycle methodo...  \n",
       "\n",
       "[1 rows x 30 columns]"
      ]
     },
     "execution_count": 53,
     "metadata": {},
     "output_type": "execute_result"
    }
   ],
   "source": [
    "combined_data1 = pandas.concat([tables[0],\n",
    "                              tables[1], \n",
    "                              tables[2], \n",
    "                              tables[3], \n",
    "                              tables[4], \n",
    "                              tables[5],\n",
    "                              tables[8]], axis = 1)\n",
    "\n",
    "combined_data1"
   ]
  },
  {
   "cell_type": "code",
   "execution_count": 54,
   "metadata": {},
   "outputs": [
    {
     "data": {
      "text/html": [
       "<div>\n",
       "<style scoped>\n",
       "    .dataframe tbody tr th:only-of-type {\n",
       "        vertical-align: middle;\n",
       "    }\n",
       "\n",
       "    .dataframe tbody tr th {\n",
       "        vertical-align: top;\n",
       "    }\n",
       "\n",
       "    .dataframe thead th {\n",
       "        text-align: right;\n",
       "    }\n",
       "</style>\n",
       "<table border=\"1\" class=\"dataframe\">\n",
       "  <thead>\n",
       "    <tr style=\"text-align: right;\">\n",
       "      <th></th>\n",
       "      <th>Stakeholder</th>\n",
       "      <th>Contacts / Description</th>\n",
       "      <th>Project ID</th>\n",
       "      <th>Project Title</th>\n",
       "      <th>Last Update</th>\n",
       "      <th>VCDI Stream</th>\n",
       "      <th>Project Lead</th>\n",
       "      <th>Key Stakeholder</th>\n",
       "      <th>Executive Sponsor</th>\n",
       "      <th>Project Start</th>\n",
       "      <th>...</th>\n",
       "      <th>7 - Post Project</th>\n",
       "      <th>Current Phase</th>\n",
       "      <th>Overall Status</th>\n",
       "      <th>Status Update</th>\n",
       "      <th>Yes / No Personal</th>\n",
       "      <th>Nature of Data / Info Used Personal</th>\n",
       "      <th>Yes / No Health</th>\n",
       "      <th>Nature of Data / Info Used Health</th>\n",
       "      <th>Objective</th>\n",
       "      <th>Outcomes</th>\n",
       "    </tr>\n",
       "  </thead>\n",
       "  <tbody>\n",
       "    <tr>\n",
       "      <th>0</th>\n",
       "      <td>NaN</td>\n",
       "      <td>NaN</td>\n",
       "      <td>121</td>\n",
       "      <td>Develop best practice data analytics lifecycle...</td>\n",
       "      <td>06 Jun 2018</td>\n",
       "      <td>Data Reform</td>\n",
       "      <td>Natasha Thompson</td>\n",
       "      <td>Brad Petry</td>\n",
       "      <td>Julian Hebden</td>\n",
       "      <td>01 Apr 2018</td>\n",
       "      <td>...</td>\n",
       "      <td>NaN</td>\n",
       "      <td>Development</td>\n",
       "      <td>3-GREEN</td>\n",
       "      <td>Exec summary and status of the project.</td>\n",
       "      <td>No</td>\n",
       "      <td>NaN</td>\n",
       "      <td>No</td>\n",
       "      <td>NaN</td>\n",
       "      <td>The objective of the project.</td>\n",
       "      <td>Best practice data analytics lifecycle methodo...</td>\n",
       "    </tr>\n",
       "  </tbody>\n",
       "</table>\n",
       "<p>1 rows × 32 columns</p>\n",
       "</div>"
      ],
      "text/plain": [
       "   Stakeholder  Contacts / Description Project ID  \\\n",
       "0          NaN                     NaN        121   \n",
       "\n",
       "                                       Project Title  Last Update  \\\n",
       "0  Develop best practice data analytics lifecycle...  06 Jun 2018   \n",
       "\n",
       "   VCDI Stream      Project Lead Key Stakeholder Executive Sponsor  \\\n",
       "0  Data Reform  Natasha Thompson      Brad Petry     Julian Hebden   \n",
       "\n",
       "  Project Start                        ...                          \\\n",
       "0   01 Apr 2018                        ...                           \n",
       "\n",
       "  7 - Post Project Current Phase  Overall Status  \\\n",
       "0              NaN   Development         3-GREEN   \n",
       "\n",
       "                             Status Update  Yes / No Personal  \\\n",
       "0  Exec summary and status of the project.                 No   \n",
       "\n",
       "   Nature of Data / Info Used Personal Yes / No Health  \\\n",
       "0                                  NaN              No   \n",
       "\n",
       "  Nature of Data / Info Used Health                      Objective  \\\n",
       "0                               NaN  The objective of the project.   \n",
       "\n",
       "                                            Outcomes  \n",
       "0  Best practice data analytics lifecycle methodo...  \n",
       "\n",
       "[1 rows x 32 columns]"
      ]
     },
     "execution_count": 54,
     "metadata": {},
     "output_type": "execute_result"
    }
   ],
   "source": [
    "combined_data2 = tables[6].merge(combined_data1,\n",
    "                                 on = \"Project ID\",\n",
    "                                 how = \"left\")\n",
    "\n",
    "combined_data2"
   ]
  },
  {
   "cell_type": "markdown",
   "metadata": {},
   "source": [
    "### Export "
   ]
  },
  {
   "cell_type": "code",
   "execution_count": 55,
   "metadata": {},
   "outputs": [],
   "source": [
    "filename = \"combined_data_\" + str(project_code) + \".csv\"\n",
    "\n",
    "combined_data2.to_csv(output_path + filename, index = False)"
   ]
  }
 ],
 "metadata": {
  "kernelspec": {
   "display_name": "Python 3",
   "language": "python",
   "name": "python3"
  },
  "language_info": {
   "codemirror_mode": {
    "name": "ipython",
    "version": 3
   },
   "file_extension": ".py",
   "mimetype": "text/x-python",
   "name": "python",
   "nbconvert_exporter": "python",
   "pygments_lexer": "ipython3",
   "version": "3.6.5"
  },
  "toc": {
   "base_numbering": 1,
   "nav_menu": {},
   "number_sections": true,
   "sideBar": true,
   "skip_h1_title": false,
   "title_cell": "Table of Contents",
   "title_sidebar": "Contents",
   "toc_cell": false,
   "toc_position": {
    "height": "621px",
    "left": "46px",
    "top": "111.133px",
    "width": "349px"
   },
   "toc_section_display": true,
   "toc_window_display": true
  },
  "varInspector": {
   "cols": {
    "lenName": 16,
    "lenType": 16,
    "lenVar": 40
   },
   "kernels_config": {
    "python": {
     "delete_cmd_postfix": "",
     "delete_cmd_prefix": "del ",
     "library": "var_list.py",
     "varRefreshCmd": "print(var_dic_list())"
    },
    "r": {
     "delete_cmd_postfix": ") ",
     "delete_cmd_prefix": "rm(",
     "library": "var_list.r",
     "varRefreshCmd": "cat(var_dic_list()) "
    }
   },
   "types_to_exclude": [
    "module",
    "function",
    "builtin_function_or_method",
    "instance",
    "_Feature"
   ],
   "window_display": false
  }
 },
 "nbformat": 4,
 "nbformat_minor": 2
}
