{
 "cells": [
  {
   "cell_type": "markdown",
   "metadata": {},
   "source": [
    "# Combine Project Pages"
   ]
  },
  {
   "cell_type": "markdown",
   "metadata": {},
   "source": [
    "### Input Folder"
   ]
  },
  {
   "cell_type": "code",
   "execution_count": 1,
   "metadata": {},
   "outputs": [],
   "source": [
    "input_folder_path = \"/Users/danielcorcoran/Desktop/github_repos/python_nb_data_pulling/confluence_scrape/data/outputs/project_page/\"\n",
    "output_folder_path = \"/Users/danielcorcoran/Desktop/github_repos/python_nb_data_pulling/confluence_scrape/data/outputs/project_page_combined/\""
   ]
  },
  {
   "cell_type": "markdown",
   "metadata": {},
   "source": [
    "### Modules"
   ]
  },
  {
   "cell_type": "code",
   "execution_count": 2,
   "metadata": {},
   "outputs": [],
   "source": [
    "import os\n",
    "import pandas\n",
    "import numpy\n",
    "import math"
   ]
  },
  {
   "cell_type": "markdown",
   "metadata": {},
   "source": [
    "### Read in each dataframe in loop and add to list"
   ]
  },
  {
   "cell_type": "code",
   "execution_count": 3,
   "metadata": {},
   "outputs": [],
   "source": [
    "dataframe_list = []\n",
    "\n",
    "for filename in os.listdir(input_folder_path):\n",
    "    \n",
    "    data = pandas.read_csv(input_folder_path + filename)\n",
    "    dataframe_list.append(data)"
   ]
  },
  {
   "cell_type": "markdown",
   "metadata": {},
   "source": [
    "### Merge all dataframes in list into one, union vertically"
   ]
  },
  {
   "cell_type": "code",
   "execution_count": 4,
   "metadata": {},
   "outputs": [
    {
     "data": {
      "text/html": [
       "<div>\n",
       "<style scoped>\n",
       "    .dataframe tbody tr th:only-of-type {\n",
       "        vertical-align: middle;\n",
       "    }\n",
       "\n",
       "    .dataframe tbody tr th {\n",
       "        vertical-align: top;\n",
       "    }\n",
       "\n",
       "    .dataframe thead th {\n",
       "        text-align: right;\n",
       "    }\n",
       "</style>\n",
       "<table border=\"1\" class=\"dataframe\">\n",
       "  <thead>\n",
       "    <tr style=\"text-align: right;\">\n",
       "      <th></th>\n",
       "      <th>1 - Pre Project</th>\n",
       "      <th>2 - Feasibility</th>\n",
       "      <th>3 - Foundations</th>\n",
       "      <th>4 - Development</th>\n",
       "      <th>5 - Delivery</th>\n",
       "      <th>6 - Closure</th>\n",
       "      <th>7 - Post Project</th>\n",
       "      <th>Complexity</th>\n",
       "      <th>Contacts / Description</th>\n",
       "      <th>Current Phase</th>\n",
       "      <th>...</th>\n",
       "      <th>Project Lead</th>\n",
       "      <th>Project Selection Score</th>\n",
       "      <th>Project Start</th>\n",
       "      <th>Project Title</th>\n",
       "      <th>Stakeholder</th>\n",
       "      <th>Status Update</th>\n",
       "      <th>Unnamed: 0</th>\n",
       "      <th>VCDI Stream</th>\n",
       "      <th>Yes / No Health</th>\n",
       "      <th>Yes / No Personal</th>\n",
       "    </tr>\n",
       "  </thead>\n",
       "  <tbody>\n",
       "    <tr>\n",
       "      <th>0</th>\n",
       "      <td>COMPLETE</td>\n",
       "      <td>COMPLETE</td>\n",
       "      <td>COMPLETE</td>\n",
       "      <td>COMPLETE</td>\n",
       "      <td>COMPLETE</td>\n",
       "      <td>COMPLETE</td>\n",
       "      <td>NaN</td>\n",
       "      <td>7.0</td>\n",
       "      <td>TBC</td>\n",
       "      <td>7 - Post Project</td>\n",
       "      <td>...</td>\n",
       "      <td>Suhith Illesinghe</td>\n",
       "      <td>75% (324/430)</td>\n",
       "      <td>01 Mar 2017</td>\n",
       "      <td>Building Cladding TaskForce</td>\n",
       "      <td>Cladding TaskForce</td>\n",
       "      <td>Exec summary</td>\n",
       "      <td>NaN</td>\n",
       "      <td>Analytics</td>\n",
       "      <td>No</td>\n",
       "      <td>Yes</td>\n",
       "    </tr>\n",
       "    <tr>\n",
       "      <th>1</th>\n",
       "      <td>COMPLETE</td>\n",
       "      <td>COMPLETE</td>\n",
       "      <td>COMPLETE</td>\n",
       "      <td>COMPLETE</td>\n",
       "      <td>COMPLETE</td>\n",
       "      <td>COMPLETE</td>\n",
       "      <td>NaN</td>\n",
       "      <td>7.0</td>\n",
       "      <td>TBC</td>\n",
       "      <td>7 - Post Project</td>\n",
       "      <td>...</td>\n",
       "      <td>Suhith Illesinghe</td>\n",
       "      <td>75% (324/430)</td>\n",
       "      <td>01 Mar 2017</td>\n",
       "      <td>Building Cladding TaskForce</td>\n",
       "      <td>VBA</td>\n",
       "      <td>Exec summary</td>\n",
       "      <td>NaN</td>\n",
       "      <td>Analytics</td>\n",
       "      <td>No</td>\n",
       "      <td>Yes</td>\n",
       "    </tr>\n",
       "    <tr>\n",
       "      <th>0</th>\n",
       "      <td>NaN</td>\n",
       "      <td>NaN</td>\n",
       "      <td>NaN</td>\n",
       "      <td>NaN</td>\n",
       "      <td>COMPLETE</td>\n",
       "      <td>COMPLETE</td>\n",
       "      <td>COMPLETE</td>\n",
       "      <td>NaN</td>\n",
       "      <td>TBC</td>\n",
       "      <td>Closed</td>\n",
       "      <td>...</td>\n",
       "      <td>Jan Lambrechts</td>\n",
       "      <td>NaN</td>\n",
       "      <td>01 Mar 2017</td>\n",
       "      <td>Privacy by Design Advice</td>\n",
       "      <td>Salinger</td>\n",
       "      <td>The project is complete and has been closed off.</td>\n",
       "      <td>NaN</td>\n",
       "      <td>Policy</td>\n",
       "      <td>No</td>\n",
       "      <td>No</td>\n",
       "    </tr>\n",
       "    <tr>\n",
       "      <th>0</th>\n",
       "      <td>COMPLETE</td>\n",
       "      <td>NaN</td>\n",
       "      <td>NaN</td>\n",
       "      <td>3-GREEN</td>\n",
       "      <td>NaN</td>\n",
       "      <td>NaN</td>\n",
       "      <td>NaN</td>\n",
       "      <td>NaN</td>\n",
       "      <td>NaN</td>\n",
       "      <td>Development</td>\n",
       "      <td>...</td>\n",
       "      <td>Natasha Thompson</td>\n",
       "      <td>NaN</td>\n",
       "      <td>01 Apr 2018</td>\n",
       "      <td>Develop best practice data analytics lifecycle...</td>\n",
       "      <td>NaN</td>\n",
       "      <td>Exec summary and status of the project.</td>\n",
       "      <td>NaN</td>\n",
       "      <td>Data Reform</td>\n",
       "      <td>No</td>\n",
       "      <td>No</td>\n",
       "    </tr>\n",
       "  </tbody>\n",
       "</table>\n",
       "<p>4 rows × 33 columns</p>\n",
       "</div>"
      ],
      "text/plain": [
       "  1 - Pre Project 2 - Feasibility 3 - Foundations 4 - Development  \\\n",
       "0        COMPLETE        COMPLETE        COMPLETE        COMPLETE   \n",
       "1        COMPLETE        COMPLETE        COMPLETE        COMPLETE   \n",
       "0             NaN             NaN             NaN             NaN   \n",
       "0        COMPLETE             NaN             NaN         3-GREEN   \n",
       "\n",
       "  5 - Delivery 6 - Closure 7 - Post Project  Complexity  \\\n",
       "0     COMPLETE    COMPLETE              NaN         7.0   \n",
       "1     COMPLETE    COMPLETE              NaN         7.0   \n",
       "0     COMPLETE    COMPLETE         COMPLETE         NaN   \n",
       "0          NaN         NaN              NaN         NaN   \n",
       "\n",
       "  Contacts / Description     Current Phase        ...         \\\n",
       "0                    TBC  7 - Post Project        ...          \n",
       "1                    TBC  7 - Post Project        ...          \n",
       "0                    TBC            Closed        ...          \n",
       "0                    NaN       Development        ...          \n",
       "\n",
       "        Project Lead Project Selection Score Project Start  \\\n",
       "0  Suhith Illesinghe           75% (324/430)   01 Mar 2017   \n",
       "1  Suhith Illesinghe           75% (324/430)   01 Mar 2017   \n",
       "0     Jan Lambrechts                     NaN   01 Mar 2017   \n",
       "0   Natasha Thompson                     NaN   01 Apr 2018   \n",
       "\n",
       "                                       Project Title         Stakeholder  \\\n",
       "0                        Building Cladding TaskForce  Cladding TaskForce   \n",
       "1                        Building Cladding TaskForce                 VBA   \n",
       "0                           Privacy by Design Advice            Salinger   \n",
       "0  Develop best practice data analytics lifecycle...                 NaN   \n",
       "\n",
       "                                      Status Update Unnamed: 0  VCDI Stream  \\\n",
       "0                                      Exec summary        NaN    Analytics   \n",
       "1                                      Exec summary        NaN    Analytics   \n",
       "0  The project is complete and has been closed off.        NaN       Policy   \n",
       "0           Exec summary and status of the project.        NaN  Data Reform   \n",
       "\n",
       "  Yes / No Health Yes / No Personal  \n",
       "0              No               Yes  \n",
       "1              No               Yes  \n",
       "0              No                No  \n",
       "0              No                No  \n",
       "\n",
       "[4 rows x 33 columns]"
      ]
     },
     "execution_count": 4,
     "metadata": {},
     "output_type": "execute_result"
    }
   ],
   "source": [
    "data = pandas.concat(dataframe_list, \n",
    "                     axis = 0, \n",
    "                     sort = True)\n",
    "data"
   ]
  },
  {
   "cell_type": "code",
   "execution_count": 5,
   "metadata": {},
   "outputs": [],
   "source": [
    "data.to_csv(\"/users/danielcorcoran/Desktop/final_page_data.csv\", index = False)"
   ]
  },
  {
   "cell_type": "markdown",
   "metadata": {},
   "source": [
    "### Reset Index"
   ]
  },
  {
   "cell_type": "code",
   "execution_count": 6,
   "metadata": {},
   "outputs": [],
   "source": [
    "data = data.reset_index(drop = True)"
   ]
  },
  {
   "cell_type": "markdown",
   "metadata": {},
   "source": [
    "### A function to clean project codes "
   ]
  },
  {
   "cell_type": "code",
   "execution_count": 7,
   "metadata": {},
   "outputs": [],
   "source": [
    "def cleancode(var):\n",
    "    \n",
    "    var = str(var)\n",
    "    var = var.strip()\n",
    "    maxchar = len(var)\n",
    "    \n",
    "    if maxchar == 1:\n",
    "        new_var = \"00\" + var\n",
    "    elif maxchar == 2:\n",
    "        new_var = \"0\" + var\n",
    "    else:\n",
    "        new_var = var\n",
    "        \n",
    "    return new_var"
   ]
  },
  {
   "cell_type": "markdown",
   "metadata": {},
   "source": [
    "### Check Project ID column"
   ]
  },
  {
   "cell_type": "code",
   "execution_count": 8,
   "metadata": {},
   "outputs": [
    {
     "data": {
      "text/plain": [
       "0      0.0\n",
       "1      0.0\n",
       "2      1.0\n",
       "3    121.0\n",
       "Name: Project ID, dtype: float64"
      ]
     },
     "execution_count": 8,
     "metadata": {},
     "output_type": "execute_result"
    }
   ],
   "source": [
    "data[\"Project ID\"]"
   ]
  },
  {
   "cell_type": "markdown",
   "metadata": {},
   "source": [
    "### Use project code cleaning function on data"
   ]
  },
  {
   "cell_type": "code",
   "execution_count": 9,
   "metadata": {},
   "outputs": [
    {
     "name": "stdout",
     "output_type": "stream",
     "text": [
      "0 at index 0 was transformed to 000\n",
      "0 at index 1 was transformed to 000\n",
      "1 at index 2 was transformed to 001\n",
      "121 at index 3 was transformed to 121\n"
     ]
    }
   ],
   "source": [
    "for index in range(data.shape[0]):\n",
    "\n",
    "    item = math.floor(data.loc[index, \"Project ID\"])\n",
    "    cleaned_item = cleancode(item)\n",
    "    data.loc[index, \"Project ID\"] = cleaned_item\n",
    "    \n",
    "    print(item, \"at index\", index, \"was transformed to\", cleaned_item)"
   ]
  },
  {
   "cell_type": "markdown",
   "metadata": {},
   "source": [
    "### Check Project ID column"
   ]
  },
  {
   "cell_type": "code",
   "execution_count": 10,
   "metadata": {},
   "outputs": [
    {
     "data": {
      "text/plain": [
       "0    000\n",
       "1    000\n",
       "2    001\n",
       "3    121\n",
       "Name: Project ID, dtype: object"
      ]
     },
     "execution_count": 10,
     "metadata": {},
     "output_type": "execute_result"
    }
   ],
   "source": [
    "data[\"Project ID\"]"
   ]
  },
  {
   "cell_type": "markdown",
   "metadata": {},
   "source": [
    "### Drop unwanted columns"
   ]
  },
  {
   "cell_type": "code",
   "execution_count": 11,
   "metadata": {},
   "outputs": [],
   "source": [
    "if \"Unnamed: 0\" in list(data.columns):\n",
    "\n",
    "    data.drop([\"Unnamed: 0\"], axis=1, inplace=True)\n",
    "    data.shape"
   ]
  },
  {
   "cell_type": "markdown",
   "metadata": {},
   "source": [
    "## Sort the data "
   ]
  },
  {
   "cell_type": "code",
   "execution_count": 12,
   "metadata": {},
   "outputs": [
    {
     "data": {
      "text/plain": [
       "Index(['1 - Pre Project', '2 - Feasibility', '3 - Foundations',\n",
       "       '4 - Development', '5 - Delivery', '6 - Closure', '7 - Post Project',\n",
       "       'Complexity', 'Contacts / Description', 'Current Phase',\n",
       "       'Current State', 'Executive Sponsor', 'Key Stakeholder', 'Last Update',\n",
       "       'Maturity', 'Nature of Data / Info Used Health',\n",
       "       'Nature of Data / Info Used Personal', 'Objective', 'Outcomes',\n",
       "       'Overall Status', 'Priority', 'Project End', 'Project ID',\n",
       "       'Project Lead', 'Project Selection Score', 'Project Start',\n",
       "       'Project Title', 'Stakeholder', 'Status Update', 'VCDI Stream',\n",
       "       'Yes / No Health', 'Yes / No Personal'],\n",
       "      dtype='object')"
      ]
     },
     "execution_count": 12,
     "metadata": {},
     "output_type": "execute_result"
    }
   ],
   "source": [
    "data.columns"
   ]
  },
  {
   "cell_type": "code",
   "execution_count": 13,
   "metadata": {},
   "outputs": [],
   "source": [
    "data_sort = data[[\n",
    "    'Project ID',\n",
    "    'Project Title',\n",
    "    'Last Update',\n",
    "    'VCDI Stream',\n",
    "    'Project Lead',\n",
    "    'Key Stakeholder',\n",
    "    'Executive Sponsor',\n",
    "    'Project Start',\n",
    "    'Project End',\n",
    "    'Current State',\n",
    "    'Project Selection Score',\n",
    "    'Priority',\n",
    "    'Maturity',\n",
    "    'Complexity',\n",
    "    '1 - Pre Project',\n",
    "    '2 - Feasibility',\n",
    "    '3 - Foundations',\n",
    "    '4 - Development',\n",
    "    '5 - Delivery',\n",
    "    '6 - Closure',\n",
    "    '7 - Post Project',\n",
    "    'Current Phase',\n",
    "    'Overall Status',\n",
    "    'Status Update',\n",
    "    'Yes / No Personal',\n",
    "    'Yes / No Health',\n",
    "    'Nature of Data / Info Used Personal',\n",
    "    'Nature of Data / Info Used Health',\n",
    "    'Stakeholder',\n",
    "    'Contacts / Description',\n",
    "    'Objective',\n",
    "    'Outcomes',\n",
    "]]"
   ]
  },
  {
   "cell_type": "code",
   "execution_count": 14,
   "metadata": {},
   "outputs": [
    {
     "data": {
      "text/html": [
       "<div>\n",
       "<style scoped>\n",
       "    .dataframe tbody tr th:only-of-type {\n",
       "        vertical-align: middle;\n",
       "    }\n",
       "\n",
       "    .dataframe tbody tr th {\n",
       "        vertical-align: top;\n",
       "    }\n",
       "\n",
       "    .dataframe thead th {\n",
       "        text-align: right;\n",
       "    }\n",
       "</style>\n",
       "<table border=\"1\" class=\"dataframe\">\n",
       "  <thead>\n",
       "    <tr style=\"text-align: right;\">\n",
       "      <th></th>\n",
       "      <th>Project ID</th>\n",
       "      <th>Project Title</th>\n",
       "      <th>Last Update</th>\n",
       "      <th>VCDI Stream</th>\n",
       "      <th>Project Lead</th>\n",
       "      <th>Key Stakeholder</th>\n",
       "      <th>Executive Sponsor</th>\n",
       "      <th>Project Start</th>\n",
       "      <th>Project End</th>\n",
       "      <th>Current State</th>\n",
       "      <th>...</th>\n",
       "      <th>Overall Status</th>\n",
       "      <th>Status Update</th>\n",
       "      <th>Yes / No Personal</th>\n",
       "      <th>Yes / No Health</th>\n",
       "      <th>Nature of Data / Info Used Personal</th>\n",
       "      <th>Nature of Data / Info Used Health</th>\n",
       "      <th>Stakeholder</th>\n",
       "      <th>Contacts / Description</th>\n",
       "      <th>Objective</th>\n",
       "      <th>Outcomes</th>\n",
       "    </tr>\n",
       "  </thead>\n",
       "  <tbody>\n",
       "    <tr>\n",
       "      <th>0</th>\n",
       "      <td>000</td>\n",
       "      <td>Building Cladding TaskForce</td>\n",
       "      <td>24 May 2018</td>\n",
       "      <td>Analytics</td>\n",
       "      <td>Suhith Illesinghe</td>\n",
       "      <td>TaskForce</td>\n",
       "      <td>TBC</td>\n",
       "      <td>01 Mar 2017</td>\n",
       "      <td>30 Aug 2017</td>\n",
       "      <td>Inactive</td>\n",
       "      <td>...</td>\n",
       "      <td>5-COMPLETE</td>\n",
       "      <td>Exec summary</td>\n",
       "      <td>Yes</td>\n",
       "      <td>No</td>\n",
       "      <td>Detailed description about PERSONAL data break...</td>\n",
       "      <td>Detailed description about HEALTH data breakdo...</td>\n",
       "      <td>Cladding TaskForce</td>\n",
       "      <td>TBC</td>\n",
       "      <td>This is the objective of the project</td>\n",
       "      <td>ab</td>\n",
       "    </tr>\n",
       "    <tr>\n",
       "      <th>1</th>\n",
       "      <td>000</td>\n",
       "      <td>Building Cladding TaskForce</td>\n",
       "      <td>24 May 2018</td>\n",
       "      <td>Analytics</td>\n",
       "      <td>Suhith Illesinghe</td>\n",
       "      <td>TaskForce</td>\n",
       "      <td>TBC</td>\n",
       "      <td>01 Mar 2017</td>\n",
       "      <td>30 Aug 2017</td>\n",
       "      <td>Inactive</td>\n",
       "      <td>...</td>\n",
       "      <td>5-COMPLETE</td>\n",
       "      <td>Exec summary</td>\n",
       "      <td>Yes</td>\n",
       "      <td>No</td>\n",
       "      <td>Detailed description about PERSONAL data break...</td>\n",
       "      <td>Detailed description about HEALTH data breakdo...</td>\n",
       "      <td>VBA</td>\n",
       "      <td>TBC</td>\n",
       "      <td>This is the objective of the project</td>\n",
       "      <td>ab</td>\n",
       "    </tr>\n",
       "    <tr>\n",
       "      <th>2</th>\n",
       "      <td>001</td>\n",
       "      <td>Privacy by Design Advice</td>\n",
       "      <td>07 Jun 2018</td>\n",
       "      <td>Policy</td>\n",
       "      <td>Jan Lambrechts</td>\n",
       "      <td>Julian Hebden</td>\n",
       "      <td>Julian Hebden</td>\n",
       "      <td>01 Mar 2017</td>\n",
       "      <td>30 Aug 2017</td>\n",
       "      <td>Inactive</td>\n",
       "      <td>...</td>\n",
       "      <td>5-COMPLETE</td>\n",
       "      <td>The project is complete and has been closed off.</td>\n",
       "      <td>No</td>\n",
       "      <td>No</td>\n",
       "      <td>NaN</td>\n",
       "      <td>NaN</td>\n",
       "      <td>Salinger</td>\n",
       "      <td>TBC</td>\n",
       "      <td>To get Privacy by Design Advice as it's relate...</td>\n",
       "      <td>The Salinger report informed development of VC...</td>\n",
       "    </tr>\n",
       "    <tr>\n",
       "      <th>3</th>\n",
       "      <td>121</td>\n",
       "      <td>Develop best practice data analytics lifecycle...</td>\n",
       "      <td>06 Jun 2018</td>\n",
       "      <td>Data Reform</td>\n",
       "      <td>Natasha Thompson</td>\n",
       "      <td>Brad Petry</td>\n",
       "      <td>Julian Hebden</td>\n",
       "      <td>01 Apr 2018</td>\n",
       "      <td>31 Dec 2018</td>\n",
       "      <td>Active</td>\n",
       "      <td>...</td>\n",
       "      <td>3-GREEN</td>\n",
       "      <td>Exec summary and status of the project.</td>\n",
       "      <td>No</td>\n",
       "      <td>No</td>\n",
       "      <td>NaN</td>\n",
       "      <td>NaN</td>\n",
       "      <td>NaN</td>\n",
       "      <td>NaN</td>\n",
       "      <td>The objective of the project.</td>\n",
       "      <td>Best practice data analytics lifecycle methodo...</td>\n",
       "    </tr>\n",
       "  </tbody>\n",
       "</table>\n",
       "<p>4 rows × 32 columns</p>\n",
       "</div>"
      ],
      "text/plain": [
       "  Project ID                                      Project Title  Last Update  \\\n",
       "0        000                        Building Cladding TaskForce  24 May 2018   \n",
       "1        000                        Building Cladding TaskForce  24 May 2018   \n",
       "2        001                           Privacy by Design Advice  07 Jun 2018   \n",
       "3        121  Develop best practice data analytics lifecycle...  06 Jun 2018   \n",
       "\n",
       "   VCDI Stream       Project Lead Key Stakeholder Executive Sponsor  \\\n",
       "0    Analytics  Suhith Illesinghe       TaskForce               TBC   \n",
       "1    Analytics  Suhith Illesinghe       TaskForce               TBC   \n",
       "2       Policy     Jan Lambrechts   Julian Hebden     Julian Hebden   \n",
       "3  Data Reform   Natasha Thompson      Brad Petry     Julian Hebden   \n",
       "\n",
       "  Project Start  Project End Current State  \\\n",
       "0   01 Mar 2017  30 Aug 2017      Inactive   \n",
       "1   01 Mar 2017  30 Aug 2017      Inactive   \n",
       "2   01 Mar 2017  30 Aug 2017      Inactive   \n",
       "3   01 Apr 2018  31 Dec 2018        Active   \n",
       "\n",
       "                         ...                         Overall Status  \\\n",
       "0                        ...                             5-COMPLETE   \n",
       "1                        ...                             5-COMPLETE   \n",
       "2                        ...                             5-COMPLETE   \n",
       "3                        ...                                3-GREEN   \n",
       "\n",
       "                                      Status Update  Yes / No Personal  \\\n",
       "0                                      Exec summary                Yes   \n",
       "1                                      Exec summary                Yes   \n",
       "2  The project is complete and has been closed off.                 No   \n",
       "3           Exec summary and status of the project.                 No   \n",
       "\n",
       "   Yes / No Health                Nature of Data / Info Used Personal  \\\n",
       "0               No  Detailed description about PERSONAL data break...   \n",
       "1               No  Detailed description about PERSONAL data break...   \n",
       "2               No                                                NaN   \n",
       "3               No                                                NaN   \n",
       "\n",
       "                   Nature of Data / Info Used Health         Stakeholder  \\\n",
       "0  Detailed description about HEALTH data breakdo...  Cladding TaskForce   \n",
       "1  Detailed description about HEALTH data breakdo...                 VBA   \n",
       "2                                                NaN            Salinger   \n",
       "3                                                NaN                 NaN   \n",
       "\n",
       "  Contacts / Description                                          Objective  \\\n",
       "0                    TBC               This is the objective of the project   \n",
       "1                    TBC               This is the objective of the project   \n",
       "2                    TBC  To get Privacy by Design Advice as it's relate...   \n",
       "3                    NaN                      The objective of the project.   \n",
       "\n",
       "                                            Outcomes  \n",
       "0                                                 ab  \n",
       "1                                                 ab  \n",
       "2  The Salinger report informed development of VC...  \n",
       "3  Best practice data analytics lifecycle methodo...  \n",
       "\n",
       "[4 rows x 32 columns]"
      ]
     },
     "execution_count": 14,
     "metadata": {},
     "output_type": "execute_result"
    }
   ],
   "source": [
    "data_sort"
   ]
  },
  {
   "cell_type": "markdown",
   "metadata": {},
   "source": [
    "## Fill nulls with N/A"
   ]
  },
  {
   "cell_type": "code",
   "execution_count": 15,
   "metadata": {},
   "outputs": [],
   "source": [
    "data_sort_filled = data_sort.fillna(\"N/A\")"
   ]
  },
  {
   "cell_type": "code",
   "execution_count": 16,
   "metadata": {},
   "outputs": [
    {
     "data": {
      "text/html": [
       "<div>\n",
       "<style scoped>\n",
       "    .dataframe tbody tr th:only-of-type {\n",
       "        vertical-align: middle;\n",
       "    }\n",
       "\n",
       "    .dataframe tbody tr th {\n",
       "        vertical-align: top;\n",
       "    }\n",
       "\n",
       "    .dataframe thead th {\n",
       "        text-align: right;\n",
       "    }\n",
       "</style>\n",
       "<table border=\"1\" class=\"dataframe\">\n",
       "  <thead>\n",
       "    <tr style=\"text-align: right;\">\n",
       "      <th></th>\n",
       "      <th>Project ID</th>\n",
       "      <th>Project Title</th>\n",
       "      <th>Last Update</th>\n",
       "      <th>VCDI Stream</th>\n",
       "      <th>Project Lead</th>\n",
       "      <th>Key Stakeholder</th>\n",
       "      <th>Executive Sponsor</th>\n",
       "      <th>Project Start</th>\n",
       "      <th>Project End</th>\n",
       "      <th>Current State</th>\n",
       "      <th>...</th>\n",
       "      <th>Overall Status</th>\n",
       "      <th>Status Update</th>\n",
       "      <th>Yes / No Personal</th>\n",
       "      <th>Yes / No Health</th>\n",
       "      <th>Nature of Data / Info Used Personal</th>\n",
       "      <th>Nature of Data / Info Used Health</th>\n",
       "      <th>Stakeholder</th>\n",
       "      <th>Contacts / Description</th>\n",
       "      <th>Objective</th>\n",
       "      <th>Outcomes</th>\n",
       "    </tr>\n",
       "  </thead>\n",
       "  <tbody>\n",
       "    <tr>\n",
       "      <th>0</th>\n",
       "      <td>000</td>\n",
       "      <td>Building Cladding TaskForce</td>\n",
       "      <td>24 May 2018</td>\n",
       "      <td>Analytics</td>\n",
       "      <td>Suhith Illesinghe</td>\n",
       "      <td>TaskForce</td>\n",
       "      <td>TBC</td>\n",
       "      <td>01 Mar 2017</td>\n",
       "      <td>30 Aug 2017</td>\n",
       "      <td>Inactive</td>\n",
       "      <td>...</td>\n",
       "      <td>5-COMPLETE</td>\n",
       "      <td>Exec summary</td>\n",
       "      <td>Yes</td>\n",
       "      <td>No</td>\n",
       "      <td>Detailed description about PERSONAL data break...</td>\n",
       "      <td>Detailed description about HEALTH data breakdo...</td>\n",
       "      <td>Cladding TaskForce</td>\n",
       "      <td>TBC</td>\n",
       "      <td>This is the objective of the project</td>\n",
       "      <td>ab</td>\n",
       "    </tr>\n",
       "    <tr>\n",
       "      <th>1</th>\n",
       "      <td>000</td>\n",
       "      <td>Building Cladding TaskForce</td>\n",
       "      <td>24 May 2018</td>\n",
       "      <td>Analytics</td>\n",
       "      <td>Suhith Illesinghe</td>\n",
       "      <td>TaskForce</td>\n",
       "      <td>TBC</td>\n",
       "      <td>01 Mar 2017</td>\n",
       "      <td>30 Aug 2017</td>\n",
       "      <td>Inactive</td>\n",
       "      <td>...</td>\n",
       "      <td>5-COMPLETE</td>\n",
       "      <td>Exec summary</td>\n",
       "      <td>Yes</td>\n",
       "      <td>No</td>\n",
       "      <td>Detailed description about PERSONAL data break...</td>\n",
       "      <td>Detailed description about HEALTH data breakdo...</td>\n",
       "      <td>VBA</td>\n",
       "      <td>TBC</td>\n",
       "      <td>This is the objective of the project</td>\n",
       "      <td>ab</td>\n",
       "    </tr>\n",
       "    <tr>\n",
       "      <th>2</th>\n",
       "      <td>001</td>\n",
       "      <td>Privacy by Design Advice</td>\n",
       "      <td>07 Jun 2018</td>\n",
       "      <td>Policy</td>\n",
       "      <td>Jan Lambrechts</td>\n",
       "      <td>Julian Hebden</td>\n",
       "      <td>Julian Hebden</td>\n",
       "      <td>01 Mar 2017</td>\n",
       "      <td>30 Aug 2017</td>\n",
       "      <td>Inactive</td>\n",
       "      <td>...</td>\n",
       "      <td>5-COMPLETE</td>\n",
       "      <td>The project is complete and has been closed off.</td>\n",
       "      <td>No</td>\n",
       "      <td>No</td>\n",
       "      <td>N/A</td>\n",
       "      <td>N/A</td>\n",
       "      <td>Salinger</td>\n",
       "      <td>TBC</td>\n",
       "      <td>To get Privacy by Design Advice as it's relate...</td>\n",
       "      <td>The Salinger report informed development of VC...</td>\n",
       "    </tr>\n",
       "    <tr>\n",
       "      <th>3</th>\n",
       "      <td>121</td>\n",
       "      <td>Develop best practice data analytics lifecycle...</td>\n",
       "      <td>06 Jun 2018</td>\n",
       "      <td>Data Reform</td>\n",
       "      <td>Natasha Thompson</td>\n",
       "      <td>Brad Petry</td>\n",
       "      <td>Julian Hebden</td>\n",
       "      <td>01 Apr 2018</td>\n",
       "      <td>31 Dec 2018</td>\n",
       "      <td>Active</td>\n",
       "      <td>...</td>\n",
       "      <td>3-GREEN</td>\n",
       "      <td>Exec summary and status of the project.</td>\n",
       "      <td>No</td>\n",
       "      <td>No</td>\n",
       "      <td>N/A</td>\n",
       "      <td>N/A</td>\n",
       "      <td>N/A</td>\n",
       "      <td>N/A</td>\n",
       "      <td>The objective of the project.</td>\n",
       "      <td>Best practice data analytics lifecycle methodo...</td>\n",
       "    </tr>\n",
       "  </tbody>\n",
       "</table>\n",
       "<p>4 rows × 32 columns</p>\n",
       "</div>"
      ],
      "text/plain": [
       "  Project ID                                      Project Title  Last Update  \\\n",
       "0        000                        Building Cladding TaskForce  24 May 2018   \n",
       "1        000                        Building Cladding TaskForce  24 May 2018   \n",
       "2        001                           Privacy by Design Advice  07 Jun 2018   \n",
       "3        121  Develop best practice data analytics lifecycle...  06 Jun 2018   \n",
       "\n",
       "   VCDI Stream       Project Lead Key Stakeholder Executive Sponsor  \\\n",
       "0    Analytics  Suhith Illesinghe       TaskForce               TBC   \n",
       "1    Analytics  Suhith Illesinghe       TaskForce               TBC   \n",
       "2       Policy     Jan Lambrechts   Julian Hebden     Julian Hebden   \n",
       "3  Data Reform   Natasha Thompson      Brad Petry     Julian Hebden   \n",
       "\n",
       "  Project Start  Project End Current State  \\\n",
       "0   01 Mar 2017  30 Aug 2017      Inactive   \n",
       "1   01 Mar 2017  30 Aug 2017      Inactive   \n",
       "2   01 Mar 2017  30 Aug 2017      Inactive   \n",
       "3   01 Apr 2018  31 Dec 2018        Active   \n",
       "\n",
       "                         ...                         Overall Status  \\\n",
       "0                        ...                             5-COMPLETE   \n",
       "1                        ...                             5-COMPLETE   \n",
       "2                        ...                             5-COMPLETE   \n",
       "3                        ...                                3-GREEN   \n",
       "\n",
       "                                      Status Update Yes / No Personal  \\\n",
       "0                                      Exec summary               Yes   \n",
       "1                                      Exec summary               Yes   \n",
       "2  The project is complete and has been closed off.                No   \n",
       "3           Exec summary and status of the project.                No   \n",
       "\n",
       "  Yes / No Health                Nature of Data / Info Used Personal  \\\n",
       "0              No  Detailed description about PERSONAL data break...   \n",
       "1              No  Detailed description about PERSONAL data break...   \n",
       "2              No                                                N/A   \n",
       "3              No                                                N/A   \n",
       "\n",
       "                   Nature of Data / Info Used Health         Stakeholder  \\\n",
       "0  Detailed description about HEALTH data breakdo...  Cladding TaskForce   \n",
       "1  Detailed description about HEALTH data breakdo...                 VBA   \n",
       "2                                                N/A            Salinger   \n",
       "3                                                N/A                 N/A   \n",
       "\n",
       "  Contacts / Description                                          Objective  \\\n",
       "0                    TBC               This is the objective of the project   \n",
       "1                    TBC               This is the objective of the project   \n",
       "2                    TBC  To get Privacy by Design Advice as it's relate...   \n",
       "3                    N/A                      The objective of the project.   \n",
       "\n",
       "                                            Outcomes  \n",
       "0                                                 ab  \n",
       "1                                                 ab  \n",
       "2  The Salinger report informed development of VC...  \n",
       "3  Best practice data analytics lifecycle methodo...  \n",
       "\n",
       "[4 rows x 32 columns]"
      ]
     },
     "execution_count": 16,
     "metadata": {},
     "output_type": "execute_result"
    }
   ],
   "source": [
    "data_sort_filled"
   ]
  },
  {
   "cell_type": "markdown",
   "metadata": {},
   "source": [
    "### Export"
   ]
  },
  {
   "cell_type": "code",
   "execution_count": 17,
   "metadata": {},
   "outputs": [],
   "source": [
    "data_sort_filled.to_csv(output_folder_path + \"final_page_data.csv\", index = False)"
   ]
  }
 ],
 "metadata": {
  "kernelspec": {
   "display_name": "Python 3",
   "language": "python",
   "name": "python3"
  },
  "language_info": {
   "codemirror_mode": {
    "name": "ipython",
    "version": 3
   },
   "file_extension": ".py",
   "mimetype": "text/x-python",
   "name": "python",
   "nbconvert_exporter": "python",
   "pygments_lexer": "ipython3",
   "version": "3.6.5"
  },
  "toc": {
   "base_numbering": 1,
   "nav_menu": {},
   "number_sections": true,
   "sideBar": true,
   "skip_h1_title": false,
   "title_cell": "Table of Contents",
   "title_sidebar": "Contents",
   "toc_cell": false,
   "toc_position": {
    "height": "calc(100% - 180px)",
    "left": "10px",
    "top": "150px",
    "width": "206px"
   },
   "toc_section_display": true,
   "toc_window_display": true
  },
  "varInspector": {
   "cols": {
    "lenName": 16,
    "lenType": 16,
    "lenVar": 40
   },
   "kernels_config": {
    "python": {
     "delete_cmd_postfix": "",
     "delete_cmd_prefix": "del ",
     "library": "var_list.py",
     "varRefreshCmd": "print(var_dic_list())"
    },
    "r": {
     "delete_cmd_postfix": ") ",
     "delete_cmd_prefix": "rm(",
     "library": "var_list.r",
     "varRefreshCmd": "cat(var_dic_list()) "
    }
   },
   "types_to_exclude": [
    "module",
    "function",
    "builtin_function_or_method",
    "instance",
    "_Feature"
   ],
   "window_display": false
  }
 },
 "nbformat": 4,
 "nbformat_minor": 2
}
