{
 "cells": [
  {
   "cell_type": "markdown",
   "metadata": {},
   "source": [
    "# Combine Project Pages"
   ]
  },
  {
   "cell_type": "markdown",
   "metadata": {},
   "source": [
    "### Input Folder"
   ]
  },
  {
   "cell_type": "code",
   "execution_count": 1,
   "metadata": {},
   "outputs": [],
   "source": [
    "input_folder = \"/users/danielcorcoran/Desktop/Confluence Files/outputs/project_page/\""
   ]
  },
  {
   "cell_type": "markdown",
   "metadata": {},
   "source": [
    "### Modules"
   ]
  },
  {
   "cell_type": "code",
   "execution_count": 2,
   "metadata": {},
   "outputs": [],
   "source": [
    "import os\n",
    "import pandas\n",
    "import numpy\n",
    "import math"
   ]
  },
  {
   "cell_type": "markdown",
   "metadata": {},
   "source": [
    "### Read in each dataframe in loop and add to list"
   ]
  },
  {
   "cell_type": "code",
   "execution_count": 3,
   "metadata": {},
   "outputs": [],
   "source": [
    "dataframe_list = []\n",
    "\n",
    "for filename in os.listdir(input_folder):\n",
    "    \n",
    "    data = pandas.read_csv(input_folder + filename)\n",
    "    dataframe_list.append(data)"
   ]
  },
  {
   "cell_type": "markdown",
   "metadata": {},
   "source": [
    "### Merge all dataframes in list into one, union vertically"
   ]
  },
  {
   "cell_type": "code",
   "execution_count": 6,
   "metadata": {},
   "outputs": [
    {
     "data": {
      "text/html": [
       "<div>\n",
       "<style scoped>\n",
       "    .dataframe tbody tr th:only-of-type {\n",
       "        vertical-align: middle;\n",
       "    }\n",
       "\n",
       "    .dataframe tbody tr th {\n",
       "        vertical-align: top;\n",
       "    }\n",
       "\n",
       "    .dataframe thead th {\n",
       "        text-align: right;\n",
       "    }\n",
       "</style>\n",
       "<table border=\"1\" class=\"dataframe\">\n",
       "  <thead>\n",
       "    <tr style=\"text-align: right;\">\n",
       "      <th></th>\n",
       "      <th>1 - Pre Project</th>\n",
       "      <th>2 - Feasibility</th>\n",
       "      <th>3 - Foundations</th>\n",
       "      <th>4 - Development</th>\n",
       "      <th>5 - Delivery</th>\n",
       "      <th>6 - Closure</th>\n",
       "      <th>7 - Post Project</th>\n",
       "      <th>Complexity</th>\n",
       "      <th>Contacts / Description</th>\n",
       "      <th>Current Phase</th>\n",
       "      <th>...</th>\n",
       "      <th>Project Lead</th>\n",
       "      <th>Project Selection Score</th>\n",
       "      <th>Project Start</th>\n",
       "      <th>Project Title</th>\n",
       "      <th>Stakeholder</th>\n",
       "      <th>Status Update</th>\n",
       "      <th>Unnamed: 0</th>\n",
       "      <th>VCDI Stream</th>\n",
       "      <th>Yes / No Health</th>\n",
       "      <th>Yes / No Personal</th>\n",
       "    </tr>\n",
       "  </thead>\n",
       "  <tbody>\n",
       "    <tr>\n",
       "      <th>0</th>\n",
       "      <td>COMPLETE</td>\n",
       "      <td>COMPLETE</td>\n",
       "      <td>COMPLETE</td>\n",
       "      <td>COMPLETE</td>\n",
       "      <td>COMPLETE</td>\n",
       "      <td>COMPLETE</td>\n",
       "      <td>NaN</td>\n",
       "      <td>7.0</td>\n",
       "      <td>TBC</td>\n",
       "      <td>7 - Post Project</td>\n",
       "      <td>...</td>\n",
       "      <td>Suhith Illesinghe</td>\n",
       "      <td>75% (324/430)</td>\n",
       "      <td>01 Mar 2017</td>\n",
       "      <td>Building Cladding TaskForce</td>\n",
       "      <td>Cladding TaskForce</td>\n",
       "      <td>Exec summary</td>\n",
       "      <td>NaN</td>\n",
       "      <td>Analytics</td>\n",
       "      <td>No</td>\n",
       "      <td>Yes</td>\n",
       "    </tr>\n",
       "    <tr>\n",
       "      <th>1</th>\n",
       "      <td>COMPLETE</td>\n",
       "      <td>COMPLETE</td>\n",
       "      <td>COMPLETE</td>\n",
       "      <td>COMPLETE</td>\n",
       "      <td>COMPLETE</td>\n",
       "      <td>COMPLETE</td>\n",
       "      <td>NaN</td>\n",
       "      <td>7.0</td>\n",
       "      <td>TBC</td>\n",
       "      <td>7 - Post Project</td>\n",
       "      <td>...</td>\n",
       "      <td>Suhith Illesinghe</td>\n",
       "      <td>75% (324/430)</td>\n",
       "      <td>01 Mar 2017</td>\n",
       "      <td>Building Cladding TaskForce</td>\n",
       "      <td>VBA</td>\n",
       "      <td>Exec summary</td>\n",
       "      <td>NaN</td>\n",
       "      <td>Analytics</td>\n",
       "      <td>No</td>\n",
       "      <td>Yes</td>\n",
       "    </tr>\n",
       "    <tr>\n",
       "      <th>0</th>\n",
       "      <td>NaN</td>\n",
       "      <td>NaN</td>\n",
       "      <td>NaN</td>\n",
       "      <td>NaN</td>\n",
       "      <td>COMPLETE</td>\n",
       "      <td>COMPLETE</td>\n",
       "      <td>COMPLETE</td>\n",
       "      <td>NaN</td>\n",
       "      <td>TBC</td>\n",
       "      <td>Closed</td>\n",
       "      <td>...</td>\n",
       "      <td>Jan Lambrechts</td>\n",
       "      <td>NaN</td>\n",
       "      <td>01 Mar 2017</td>\n",
       "      <td>Privacy by Design Advice</td>\n",
       "      <td>Salinger</td>\n",
       "      <td>The project is complete and has been closed off.</td>\n",
       "      <td>NaN</td>\n",
       "      <td>Policy</td>\n",
       "      <td>No</td>\n",
       "      <td>No</td>\n",
       "    </tr>\n",
       "    <tr>\n",
       "      <th>0</th>\n",
       "      <td>COMPLETE</td>\n",
       "      <td>NaN</td>\n",
       "      <td>NaN</td>\n",
       "      <td>3-GREEN</td>\n",
       "      <td>NaN</td>\n",
       "      <td>NaN</td>\n",
       "      <td>NaN</td>\n",
       "      <td>NaN</td>\n",
       "      <td>NaN</td>\n",
       "      <td>Development</td>\n",
       "      <td>...</td>\n",
       "      <td>Natasha Thompson</td>\n",
       "      <td>NaN</td>\n",
       "      <td>01 Apr 2018</td>\n",
       "      <td>Develop best practice data analytics lifecycle...</td>\n",
       "      <td>NaN</td>\n",
       "      <td>Exec summary and status of the project.</td>\n",
       "      <td>NaN</td>\n",
       "      <td>Data Reform</td>\n",
       "      <td>No</td>\n",
       "      <td>No</td>\n",
       "    </tr>\n",
       "  </tbody>\n",
       "</table>\n",
       "<p>4 rows × 33 columns</p>\n",
       "</div>"
      ],
      "text/plain": [
       "  1 - Pre Project 2 - Feasibility 3 - Foundations 4 - Development  \\\n",
       "0        COMPLETE        COMPLETE        COMPLETE        COMPLETE   \n",
       "1        COMPLETE        COMPLETE        COMPLETE        COMPLETE   \n",
       "0             NaN             NaN             NaN             NaN   \n",
       "0        COMPLETE             NaN             NaN         3-GREEN   \n",
       "\n",
       "  5 - Delivery 6 - Closure 7 - Post Project  Complexity  \\\n",
       "0     COMPLETE    COMPLETE              NaN         7.0   \n",
       "1     COMPLETE    COMPLETE              NaN         7.0   \n",
       "0     COMPLETE    COMPLETE         COMPLETE         NaN   \n",
       "0          NaN         NaN              NaN         NaN   \n",
       "\n",
       "  Contacts / Description     Current Phase        ...         \\\n",
       "0                    TBC  7 - Post Project        ...          \n",
       "1                    TBC  7 - Post Project        ...          \n",
       "0                    TBC            Closed        ...          \n",
       "0                    NaN       Development        ...          \n",
       "\n",
       "        Project Lead Project Selection Score Project Start  \\\n",
       "0  Suhith Illesinghe           75% (324/430)   01 Mar 2017   \n",
       "1  Suhith Illesinghe           75% (324/430)   01 Mar 2017   \n",
       "0     Jan Lambrechts                     NaN   01 Mar 2017   \n",
       "0   Natasha Thompson                     NaN   01 Apr 2018   \n",
       "\n",
       "                                       Project Title         Stakeholder  \\\n",
       "0                        Building Cladding TaskForce  Cladding TaskForce   \n",
       "1                        Building Cladding TaskForce                 VBA   \n",
       "0                           Privacy by Design Advice            Salinger   \n",
       "0  Develop best practice data analytics lifecycle...                 NaN   \n",
       "\n",
       "                                      Status Update Unnamed: 0  VCDI Stream  \\\n",
       "0                                      Exec summary        NaN    Analytics   \n",
       "1                                      Exec summary        NaN    Analytics   \n",
       "0  The project is complete and has been closed off.        NaN       Policy   \n",
       "0           Exec summary and status of the project.        NaN  Data Reform   \n",
       "\n",
       "  Yes / No Health Yes / No Personal  \n",
       "0              No               Yes  \n",
       "1              No               Yes  \n",
       "0              No                No  \n",
       "0              No                No  \n",
       "\n",
       "[4 rows x 33 columns]"
      ]
     },
     "execution_count": 6,
     "metadata": {},
     "output_type": "execute_result"
    }
   ],
   "source": [
    "data = pandas.concat(dataframe_list, \n",
    "                     axis = 0, \n",
    "                     sort = True)\n",
    "data"
   ]
  },
  {
   "cell_type": "code",
   "execution_count": null,
   "metadata": {},
   "outputs": [],
   "source": [
    "data.to_csv(\"/users/danielcorcoran/Desktop/final_page_data.csv\", index = False)"
   ]
  },
  {
   "cell_type": "markdown",
   "metadata": {},
   "source": [
    "### Reset Index"
   ]
  },
  {
   "cell_type": "code",
   "execution_count": null,
   "metadata": {},
   "outputs": [],
   "source": [
    "data = data.reset_index(drop = True)"
   ]
  },
  {
   "cell_type": "markdown",
   "metadata": {},
   "source": [
    "### A function to clean project codes "
   ]
  },
  {
   "cell_type": "code",
   "execution_count": null,
   "metadata": {},
   "outputs": [],
   "source": [
    "def cleancode(var):\n",
    "    \n",
    "    var = str(var)\n",
    "    var = var.strip()\n",
    "    maxchar = len(var)\n",
    "    \n",
    "    if maxchar == 1:\n",
    "        new_var = \"00\" + var\n",
    "    elif maxchar == 2:\n",
    "        new_var = \"0\" + var\n",
    "    else:\n",
    "        new_var = var\n",
    "        \n",
    "    return new_var"
   ]
  },
  {
   "cell_type": "markdown",
   "metadata": {},
   "source": [
    "### Check Project ID column"
   ]
  },
  {
   "cell_type": "code",
   "execution_count": null,
   "metadata": {},
   "outputs": [],
   "source": [
    "data[\"Project ID\"]"
   ]
  },
  {
   "cell_type": "markdown",
   "metadata": {},
   "source": [
    "### Use project code cleaning function on data"
   ]
  },
  {
   "cell_type": "code",
   "execution_count": null,
   "metadata": {},
   "outputs": [],
   "source": [
    "for index in range(data.shape[0]):\n",
    "\n",
    "    item = math.floor(data.loc[index, \"Project ID\"])\n",
    "    cleaned_item = cleancode(item)\n",
    "    data.loc[index, \"Project ID\"] = cleaned_item\n",
    "    \n",
    "    print(item, \"at index\", index, \"was transformed to\", cleaned_item)"
   ]
  },
  {
   "cell_type": "markdown",
   "metadata": {},
   "source": [
    "### Check Project ID column"
   ]
  },
  {
   "cell_type": "code",
   "execution_count": null,
   "metadata": {},
   "outputs": [],
   "source": [
    "data[\"Project ID\"]"
   ]
  },
  {
   "cell_type": "markdown",
   "metadata": {},
   "source": [
    "### Drop unwanted columns"
   ]
  },
  {
   "cell_type": "code",
   "execution_count": null,
   "metadata": {},
   "outputs": [],
   "source": [
    "if \"Unnamed: 0\" in list(data.columns):\n",
    "\n",
    "    data.drop([\"Unnamed: 0\"], axis=1, inplace=True)\n",
    "    data.shape"
   ]
  },
  {
   "cell_type": "markdown",
   "metadata": {},
   "source": [
    "### Export"
   ]
  },
  {
   "cell_type": "code",
   "execution_count": null,
   "metadata": {},
   "outputs": [],
   "source": [
    "data.to_csv(\"/users/danielcorcoran/Desktop/final_page_data.csv\", index = False)"
   ]
  }
 ],
 "metadata": {
  "kernelspec": {
   "display_name": "Python 3",
   "language": "python",
   "name": "python3"
  },
  "language_info": {
   "codemirror_mode": {
    "name": "ipython",
    "version": 3
   },
   "file_extension": ".py",
   "mimetype": "text/x-python",
   "name": "python",
   "nbconvert_exporter": "python",
   "pygments_lexer": "ipython3",
   "version": "3.6.5"
  },
  "toc": {
   "base_numbering": 1,
   "nav_menu": {},
   "number_sections": true,
   "sideBar": true,
   "skip_h1_title": false,
   "title_cell": "Table of Contents",
   "title_sidebar": "Contents",
   "toc_cell": false,
   "toc_position": {},
   "toc_section_display": true,
   "toc_window_display": false
  },
  "varInspector": {
   "cols": {
    "lenName": 16,
    "lenType": 16,
    "lenVar": 40
   },
   "kernels_config": {
    "python": {
     "delete_cmd_postfix": "",
     "delete_cmd_prefix": "del ",
     "library": "var_list.py",
     "varRefreshCmd": "print(var_dic_list())"
    },
    "r": {
     "delete_cmd_postfix": ") ",
     "delete_cmd_prefix": "rm(",
     "library": "var_list.r",
     "varRefreshCmd": "cat(var_dic_list()) "
    }
   },
   "types_to_exclude": [
    "module",
    "function",
    "builtin_function_or_method",
    "instance",
    "_Feature"
   ],
   "window_display": false
  }
 },
 "nbformat": 4,
 "nbformat_minor": 2
}
